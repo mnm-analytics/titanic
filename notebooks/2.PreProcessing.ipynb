{
 "cells": [
  {
   "cell_type": "markdown",
   "metadata": {},
   "source": [
    "# init"
   ]
  },
  {
   "cell_type": "code",
   "execution_count": 1,
   "metadata": {},
   "outputs": [],
   "source": [
    "import numpy as np\n",
    "import pandas as pd"
   ]
  },
  {
   "cell_type": "markdown",
   "metadata": {},
   "source": [
    "# load"
   ]
  },
  {
   "cell_type": "code",
   "execution_count": 2,
   "metadata": {},
   "outputs": [],
   "source": [
    "path_data = \"../data/\"\n",
    "path_raw = path_data + \"raw/\"\n",
    "path_mid = path_data + \"mid/\"\n",
    "path_clns = path_data + \"clns/\""
   ]
  },
  {
   "cell_type": "code",
   "execution_count": 3,
   "metadata": {},
   "outputs": [],
   "source": [
    "cats = pd.read_csv(path_mid+\"cats.csv\", index_col=0)\n",
    "nums = pd.read_csv(path_mid+\"nums.csv\", index_col=0)\n",
    "bools = pd.read_csv(path_mid+\"bools.csv\", index_col=0)"
   ]
  },
  {
   "cell_type": "markdown",
   "metadata": {},
   "source": [
    "# clns"
   ]
  },
  {
   "cell_type": "markdown",
   "metadata": {},
   "source": [
    "## fillna"
   ]
  },
  {
   "cell_type": "markdown",
   "metadata": {},
   "source": [
    "##### embarked"
   ]
  },
  {
   "cell_type": "code",
   "execution_count": 4,
   "metadata": {},
   "outputs": [
    {
     "data": {
      "text/plain": [
       "False"
      ]
     },
     "execution_count": 4,
     "metadata": {},
     "output_type": "execute_result"
    }
   ],
   "source": [
    "cats[\"embarked\"] = cats[\"embarked\"].fillna(\"S\")\n",
    "cats[\"embarked\"].isna().any()"
   ]
  },
  {
   "cell_type": "markdown",
   "metadata": {},
   "source": [
    "##### age"
   ]
  },
  {
   "cell_type": "code",
   "execution_count": 5,
   "metadata": {},
   "outputs": [],
   "source": [
    "from sklearn.linear_model import LogisticRegression, LinearRegression\n",
    "from sklearn.metrics import roc_auc_score\n",
    "from sklearn.preprocessing import StandardScaler"
   ]
  },
  {
   "cell_type": "code",
   "execution_count": 6,
   "metadata": {},
   "outputs": [],
   "source": [
    "fill_mean = nums[[\"age\", \"survived\"]]\n",
    "fill_mean = fill_mean[~fill_mean.survived.isna()]\n",
    "fill_mean[\"age\"] = fill_mean.age.fillna(fill_mean.age.mean())"
   ]
  },
  {
   "cell_type": "code",
   "execution_count": 7,
   "metadata": {},
   "outputs": [],
   "source": [
    "fill_median = nums[[\"age\", \"survived\"]]\n",
    "fill_median = fill_median[~fill_median.survived.isna()]\n",
    "fill_median[\"age\"] = fill_median.age.fillna(fill_median.age.median())"
   ]
  },
  {
   "cell_type": "code",
   "execution_count": 8,
   "metadata": {},
   "outputs": [
    {
     "name": "stderr",
     "output_type": "stream",
     "text": [
      "C:\\Users\\keisu\\Anaconda3\\lib\\site-packages\\ipykernel_launcher.py:22: SettingWithCopyWarning: \n",
      "A value is trying to be set on a copy of a slice from a DataFrame.\n",
      "Try using .loc[row_indexer,col_indexer] = value instead\n",
      "\n",
      "See the caveats in the documentation: http://pandas.pydata.org/pandas-docs/stable/indexing.html#indexing-view-versus-copy\n",
      "C:\\Users\\keisu\\Anaconda3\\lib\\site-packages\\ipykernel_launcher.py:25: SettingWithCopyWarning: \n",
      "A value is trying to be set on a copy of a slice from a DataFrame.\n",
      "Try using .loc[row_indexer,col_indexer] = value instead\n",
      "\n",
      "See the caveats in the documentation: http://pandas.pydata.org/pandas-docs/stable/indexing.html#indexing-view-versus-copy\n"
     ]
    }
   ],
   "source": [
    "# 線形回帰で値埋め\n",
    "def zscore(x):\n",
    "    m = x.mean()\n",
    "    s = x.std(ddof=1)\n",
    "    return (x-m)/s\n",
    "\n",
    "X = pd.get_dummies(cats, drop_first=True)\n",
    "z = zscore(nums.drop([\"age\", \"survived\"], 1))\n",
    "X = X.join(z)\n",
    "y = nums.age\n",
    "\n",
    "is_na = y.isna()\n",
    "y = np.log1p(y)\n",
    "\n",
    "rgs = LinearRegression()\n",
    "rgs.fit(X[~is_na], y[~is_na])\n",
    "\n",
    "pred = rgs.predict(X[is_na])\n",
    "pred = np.exp(pred)-1\n",
    "\n",
    "base = X[~is_na]\n",
    "base[\"age\"] = np.exp(y[~is_na])-1\n",
    "\n",
    "fill = X[is_na]\n",
    "fill[\"age\"] = pred\n",
    "\n",
    "fill_linear = pd.concat([base, fill]).join(nums[[\"survived\"]])\n",
    "fill_linear = fill_linear[[\"age\", \"survived\"]]\n",
    "fill_linear = fill_linear[~fill_linear.survived.isna()]"
   ]
  },
  {
   "cell_type": "code",
   "execution_count": 9,
   "metadata": {},
   "outputs": [],
   "source": [
    "def check_auc(data):\n",
    "    X, y = data[[\"age\"]], data[\"survived\"]\n",
    "    clf = LogisticRegression()\n",
    "    clf.fit(X, y)\n",
    "    proba = clf.predict_proba(X)[:,1]\n",
    "    auc = roc_auc_score(y_true=y, y_score=proba)\n",
    "    print(auc)"
   ]
  },
  {
   "cell_type": "code",
   "execution_count": 10,
   "metadata": {},
   "outputs": [
    {
     "name": "stdout",
     "output_type": "stream",
     "text": [
      "0.5329419918511361\n"
     ]
    }
   ],
   "source": [
    "check_auc(fill_mean)"
   ]
  },
  {
   "cell_type": "code",
   "execution_count": 11,
   "metadata": {},
   "outputs": [
    {
     "name": "stdout",
     "output_type": "stream",
     "text": [
      "0.5290565799974796\n"
     ]
    }
   ],
   "source": [
    "check_auc(fill_median)"
   ]
  },
  {
   "cell_type": "code",
   "execution_count": 12,
   "metadata": {},
   "outputs": [
    {
     "name": "stdout",
     "output_type": "stream",
     "text": [
      "0.5316398538245055\n"
     ]
    }
   ],
   "source": [
    "check_auc(fill_linear)"
   ]
  },
  {
   "cell_type": "code",
   "execution_count": 13,
   "metadata": {},
   "outputs": [],
   "source": [
    "nums[\"age\"] = nums.fillna(nums.age.mean())"
   ]
  },
  {
   "cell_type": "markdown",
   "metadata": {},
   "source": [
    "## union-value"
   ]
  },
  {
   "cell_type": "code",
   "execution_count": 14,
   "metadata": {},
   "outputs": [],
   "source": [
    "cats_union = cats.copy()"
   ]
  },
  {
   "cell_type": "markdown",
   "metadata": {},
   "source": [
    "##### embarked"
   ]
  },
  {
   "cell_type": "code",
   "execution_count": 15,
   "metadata": {},
   "outputs": [],
   "source": [
    "cats_union[\"embarked\"] = cats_union.embarked.replace([\"Q\", \"S\"], \"QorS\")"
   ]
  },
  {
   "cell_type": "markdown",
   "metadata": {},
   "source": [
    "## family-size"
   ]
  },
  {
   "cell_type": "code",
   "execution_count": 16,
   "metadata": {},
   "outputs": [],
   "source": [
    "family = nums.parch + nums.sibsp\n",
    "parch = nums.parch.apply(lambda x: \"4+\" if x >= 4 else x)\n",
    "sibsp = nums.sibsp.apply(lambda x: \"4+\" if x >= 4 else x)"
   ]
  },
  {
   "cell_type": "markdown",
   "metadata": {},
   "source": [
    "# feature engineering"
   ]
  },
  {
   "cell_type": "markdown",
   "metadata": {},
   "source": [
    "## onehot-encoding"
   ]
  },
  {
   "cell_type": "code",
   "execution_count": 17,
   "metadata": {},
   "outputs": [],
   "source": [
    "pd.get_dummies(cats_union, drop_first=True).to_csv(path_clns+\"onehot_cats.csv\")"
   ]
  },
  {
   "cell_type": "code",
   "execution_count": 18,
   "metadata": {},
   "outputs": [],
   "source": [
    "pd.get_dummies(pd.concat([parch, sibsp], axis=1), drop_first=True).to_csv(path_clns+\"onehot_parch_sibsp.csv\")"
   ]
  },
  {
   "cell_type": "code",
   "execution_count": 19,
   "metadata": {},
   "outputs": [],
   "source": [
    "pd.get_dummies(family, drop_first=True, prefix=\"family-size\").to_csv(path_clns+\"onehot_familysize.csv\")"
   ]
  },
  {
   "cell_type": "code",
   "execution_count": 20,
   "metadata": {},
   "outputs": [],
   "source": [
    "(bools*1).to_csv(path_clns+\"onehot_bools.csv\")"
   ]
  },
  {
   "cell_type": "code",
   "execution_count": 21,
   "metadata": {},
   "outputs": [],
   "source": [
    "nums[[\"survived\"]].to_csv(path_clns+\"y.csv\")"
   ]
  },
  {
   "cell_type": "code",
   "execution_count": 22,
   "metadata": {},
   "outputs": [],
   "source": [
    "is_child = (nums.age <= 7)*1\n",
    "is_child.name = \"is_child\"\n",
    "is_child.to_frame().to_csv(path_clns+\"onehot_ischild.csv\")"
   ]
  },
  {
   "cell_type": "markdown",
   "metadata": {},
   "source": [
    "## target-encoding"
   ]
  },
  {
   "cell_type": "code",
   "execution_count": 23,
   "metadata": {},
   "outputs": [],
   "source": [
    "def tgt_encoding(data, y):\n",
    "    data = data.copy()\n",
    "    idname = data.index.name\n",
    "    data = data.reset_index()\n",
    "    train = data.dropna()\n",
    "\n",
    "    for x in set(data)-set([idname, y]):\n",
    "        dfg = train.groupby(x)[y].mean()\n",
    "        dfg = dfg.to_frame()\n",
    "        data = data.merge(dfg, on=x, suffixes=[\"\", \"_%s_tgt\"%x], how=\"left\")\n",
    "\n",
    "    data = data.set_index(idname)\n",
    "    data = data.filter(regex=\"_tgt\")\n",
    "    return data"
   ]
  },
  {
   "cell_type": "code",
   "execution_count": 24,
   "metadata": {},
   "outputs": [],
   "source": [
    "y = \"survived\""
   ]
  },
  {
   "cell_type": "code",
   "execution_count": 25,
   "metadata": {},
   "outputs": [],
   "source": [
    "data = cats.join(nums[[y]])\n",
    "data = tgt_encoding(data, y)\n",
    "data.to_csv(path_clns+\"tgt_cats.csv\")"
   ]
  },
  {
   "cell_type": "code",
   "execution_count": 26,
   "metadata": {},
   "outputs": [],
   "source": [
    "data = bools.join(nums[[y]])\n",
    "data = tgt_encoding(data, y)\n",
    "data.to_csv(path_clns+\"tgt_bools.csv\")"
   ]
  },
  {
   "cell_type": "code",
   "execution_count": 27,
   "metadata": {},
   "outputs": [],
   "source": [
    "data = pd.concat([parch, sibsp], axis=1).join(nums[[y]])\n",
    "data = tgt_encoding(data, y)\n",
    "data.to_csv(path_clns+\"tgt_parch_sibsp.csv\")"
   ]
  },
  {
   "cell_type": "code",
   "execution_count": 28,
   "metadata": {},
   "outputs": [],
   "source": [
    "data = family.to_frame()\n",
    "data.columns = [\"familysize\"]\n",
    "data = data.join(nums[[y]])\n",
    "data = tgt_encoding(data, y)\n",
    "data.to_csv(path_clns+\"tgt_familysize.csv\")"
   ]
  },
  {
   "cell_type": "markdown",
   "metadata": {},
   "source": [
    "## log, zscore"
   ]
  },
  {
   "cell_type": "code",
   "execution_count": 29,
   "metadata": {},
   "outputs": [],
   "source": [
    "def zscore(x):\n",
    "    m = x.mean()\n",
    "    s = x.std(ddof=1)\n",
    "    return (x-m)/s"
   ]
  },
  {
   "cell_type": "code",
   "execution_count": 30,
   "metadata": {},
   "outputs": [],
   "source": [
    "nums_tgt = nums[[\"age\", \"fare\"]]\n",
    "z = zscore(nums_tgt)\n",
    "z.to_csv(path_clns+\"num_z.csv\")"
   ]
  },
  {
   "cell_type": "code",
   "execution_count": 31,
   "metadata": {},
   "outputs": [],
   "source": [
    "z = zscore(np.log1p(nums_tgt))\n",
    "z.to_csv(path_clns+\"num_logz.csv\")"
   ]
  }
 ],
 "metadata": {
  "hide_input": false,
  "kernelspec": {
   "display_name": "Python 3",
   "language": "python",
   "name": "python3"
  },
  "language_info": {
   "codemirror_mode": {
    "name": "ipython",
    "version": 3
   },
   "file_extension": ".py",
   "mimetype": "text/x-python",
   "name": "python",
   "nbconvert_exporter": "python",
   "pygments_lexer": "ipython3",
   "version": "3.6.5"
  },
  "toc": {
   "base_numbering": 1,
   "nav_menu": {},
   "number_sections": true,
   "sideBar": true,
   "skip_h1_title": false,
   "title_cell": "Table of Contents",
   "title_sidebar": "Contents",
   "toc_cell": false,
   "toc_position": {},
   "toc_section_display": true,
   "toc_window_display": false
  },
  "varInspector": {
   "cols": {
    "lenName": 16,
    "lenType": 16,
    "lenVar": 40
   },
   "kernels_config": {
    "python": {
     "delete_cmd_postfix": "",
     "delete_cmd_prefix": "del ",
     "library": "var_list.py",
     "varRefreshCmd": "print(var_dic_list())"
    },
    "r": {
     "delete_cmd_postfix": ") ",
     "delete_cmd_prefix": "rm(",
     "library": "var_list.r",
     "varRefreshCmd": "cat(var_dic_list()) "
    }
   },
   "types_to_exclude": [
    "module",
    "function",
    "builtin_function_or_method",
    "instance",
    "_Feature"
   ],
   "window_display": false
  }
 },
 "nbformat": 4,
 "nbformat_minor": 2
}
