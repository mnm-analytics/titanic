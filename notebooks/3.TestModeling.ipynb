{
 "cells": [
  {
   "cell_type": "markdown",
   "metadata": {},
   "source": [
    "# info"
   ]
  },
  {
   "cell_type": "markdown",
   "metadata": {},
   "source": [
    "##### モデリング\n",
    "1. Grid Searchでハイパーパラメーターを求めている\n",
    "1. 特徴量エンジニアリングを施したデータとそうでないデータなど、複数のデータで複数のモデルを生成している\n",
    "1. モデルの出力値を適切に加工している\n",
    "    - 対数変換した目的変数に対する出力をしていれば、逆関数で再現\n",
    "    - 分類のprobaであれば、分析結果をもとにした閾値を設けて0,1に変換\n",
    "\n",
    "##### 検証\n",
    "1. cross validationで未知データに対する精度に近い精度を求めている\n",
    "1. 線形モデルや決定木を使用し、モデルがどのような特徴を重要として出力しているか確認している\n",
    "    - ※ロジスティック回帰かSVCか決定木\n",
    "    - ※係数や分岐を確認する"
   ]
  },
  {
   "cell_type": "markdown",
   "metadata": {},
   "source": [
    "# init"
   ]
  },
  {
   "cell_type": "code",
   "execution_count": 1,
   "metadata": {},
   "outputs": [],
   "source": [
    "import os, copy\n",
    "import numpy as np\n",
    "import pandas as pd\n",
    "import uuid\n",
    "import optuna\n",
    "from sklearn.linear_model import LogisticRegression\n",
    "from sklearn.svm import SVC\n",
    "from sklearn.model_selection import StratifiedKFold, cross_validate\n",
    "from sklearn.externals import joblib"
   ]
  },
  {
   "cell_type": "markdown",
   "metadata": {},
   "source": [
    "# load"
   ]
  },
  {
   "cell_type": "code",
   "execution_count": 2,
   "metadata": {},
   "outputs": [],
   "source": [
    "path_doc = \"../doc/\""
   ]
  },
  {
   "cell_type": "code",
   "execution_count": 3,
   "metadata": {},
   "outputs": [],
   "source": [
    "path_data = \"../data/\"\n",
    "path_clns = path_data + \"clns/\""
   ]
  },
  {
   "cell_type": "code",
   "execution_count": 4,
   "metadata": {},
   "outputs": [],
   "source": [
    "_dic_data = dict()\n",
    "for d in os.listdir(path_clns):\n",
    "    fn = d.split(\".\")[0]\n",
    "    _dic_data[fn] = pd.read_csv(path_clns+d, index_col=0)"
   ]
  },
  {
   "cell_type": "code",
   "execution_count": 6,
   "metadata": {},
   "outputs": [
    {
     "data": {
      "text/plain": [
       "dict_keys(['num_logz', 'num_z', 'onehot_bools', 'onehot_cats', 'onehot_familysize', 'onehot_ischild', 'onehot_parch_sibsp', 'tgt_bools', 'tgt_cats', 'tgt_familysize', 'tgt_parch_sibsp', 'y'])"
      ]
     },
     "execution_count": 6,
     "metadata": {},
     "output_type": "execute_result"
    }
   ],
   "source": [
    "_dic_data.keys()"
   ]
  },
  {
   "cell_type": "code",
   "execution_count": 7,
   "metadata": {},
   "outputs": [],
   "source": [
    "def get_mart(log=False, oh=False, tgt=False, fam=False, ps=False):\n",
    "    dic_data = copy.deepcopy(_dic_data)\n",
    "    yname = \"survived\"\n",
    "    y = dic_data[\"y\"]\n",
    "    test_id = y[y[yname].isna()].index\n",
    "    \n",
    "    nums = dic_data[\"num_z\"]\n",
    "    cats = list()\n",
    "\n",
    "    onehot = [v for k, v in dic_data.items() if (\"onehot\" in k) and not (\"family\" in k or \"parch_sibsp\" in k)]\n",
    "    onehot_fam = [v for k, v in dic_data.items() if (\"onehot\" in k) and (\"family\" in k)]\n",
    "    onehot_ps = [v for k, v in dic_data.items() if (\"onehot\" in k) and (\"parch_sibsp\" in k)]\n",
    "    \n",
    "    tgtenc = [v for k, v in dic_data.items() if (\"tgt\" in k) and not (\"family\" in k or \"parch_sibsp\" in k)]\n",
    "    tgt_fam = [v for k, v in dic_data.items() if (\"tgt\" in k) and (\"family\" in k)]\n",
    "    tgt_ps = [v for k, v in dic_data.items() if (\"tgt\" in k) and (\"parch_sibsp\" in k)]\n",
    "\n",
    "    if log:\n",
    "        nums = dic_data[\"num_logz\"]\n",
    "    if oh:\n",
    "        cats += onehot\n",
    "    if tgt:\n",
    "        cats += tgtenc\n",
    "    if fam:\n",
    "        if oh:\n",
    "            cats += onehot_fam\n",
    "        if tgt:\n",
    "            cats += onehot_ps\n",
    "    if ps:\n",
    "        if oh:\n",
    "            cats += tgt_fam\n",
    "        if tgt:\n",
    "            cats += tgt_ps\n",
    "            \n",
    "    mart = pd.concat([y, nums, *cats], axis=1)\n",
    "    train, test = mart[~mart.index.isin(test_id)], mart[mart.index.isin(test_id)]\n",
    "    train_X, train_y, test_X = train.drop(yname, 1), train[yname], test.drop(yname, 1)\n",
    "    return train_X, train_y, test_X"
   ]
  },
  {
   "cell_type": "markdown",
   "metadata": {},
   "source": [
    "# modeling"
   ]
  },
  {
   "cell_type": "markdown",
   "metadata": {},
   "source": [
    "## LR"
   ]
  },
  {
   "cell_type": "code",
   "execution_count": 22,
   "metadata": {},
   "outputs": [],
   "source": [
    "def objective(trial):\n",
    "    flder = \"lr_v0/\"\n",
    "    p = \"../model/tuning/\"+flder\n",
    "    if not os.path.exists(p):\n",
    "        os.mkdir(p)\n",
    "        \n",
    "    trial_uuid = str(uuid.uuid4())\n",
    "    trial.set_user_attr(\"uuid\", trial_uuid)\n",
    "\n",
    "    log = trial.suggest_int(\"use_log\", 0, 1)\n",
    "    oh =  trial.suggest_int(\"use_oh\", 0, 1)\n",
    "    tgt = trial.suggest_int(\"use_tgt\", 0, 1)\n",
    "    fam = trial.suggest_int(\"use_fam\", 0, 1)\n",
    "    ps = trial.suggest_int(\"use_ps\", 0, 1)\n",
    "    \n",
    "    param_grid = {\n",
    "        'C' : trial.suggest_int(\"C\", 1, 20),\n",
    "        'penalty': trial.suggest_categorical('penalty', ['l1', 'l2']),\n",
    "        \"random_state\": 0\n",
    "    }\n",
    "    train_X, train_y, test_X = get_mart(log, oh, tgt, fam, ps)\n",
    "    \n",
    "    model = LogisticRegression(**param_grid)\n",
    "    kf = StratifiedKFold(n_splits=5, shuffle=True, random_state=0)\n",
    "    scores = cross_validate(model, X=train_X, y=train_y, cv=kf, scoring=\"roc_auc\")\n",
    "    auc = scores['test_score'].mean()\n",
    "    \n",
    "    # レポーティング\n",
    "    with open(p+\"00.report.csv\", mode=\"a\", encoding=\"utf8\") as f:\n",
    "        r = [trial_uuid, log, oh, tgt, fam, ps, *param_grid.values(), auc]\n",
    "        r = [str(v) for v in r]\n",
    "        print(\",\".join(r), file=f)\n",
    "    \n",
    "    model.fit(train_X, train_y)\n",
    "    joblib.dump(model, p+\"%s.pkl\"%trial_uuid)\n",
    "    \n",
    "    return auc"
   ]
  },
  {
   "cell_type": "code",
   "execution_count": 23,
   "metadata": {},
   "outputs": [
    {
     "name": "stderr",
     "output_type": "stream",
     "text": [
      "[I 2020-03-30 00:18:34,188] Finished trial#0 resulted in value: 0.7104848978957994. Current best value is 0.7104848978957994 with parameters: {'use_log': 1, 'use_oh': 0, 'use_tgt': 0, 'use_fam': 1, 'use_ps': 1, 'C': 18, 'penalty': 'l1'}.\n",
      "[I 2020-03-30 00:18:34,375] Finished trial#1 resulted in value: 0.8613097179239737. Current best value is 0.8613097179239737 with parameters: {'use_log': 0, 'use_oh': 0, 'use_tgt': 1, 'use_fam': 1, 'use_ps': 1, 'C': 5, 'penalty': 'l1'}.\n",
      "[I 2020-03-30 00:18:34,469] Finished trial#2 resulted in value: 0.8576350204652092. Current best value is 0.8613097179239737 with parameters: {'use_log': 0, 'use_oh': 0, 'use_tgt': 1, 'use_fam': 1, 'use_ps': 1, 'C': 5, 'penalty': 'l1'}.\n",
      "[I 2020-03-30 00:18:34,599] Finished trial#3 resulted in value: 0.8583932869677104. Current best value is 0.8613097179239737 with parameters: {'use_log': 0, 'use_oh': 0, 'use_tgt': 1, 'use_fam': 1, 'use_ps': 1, 'C': 5, 'penalty': 'l1'}.\n",
      "[I 2020-03-30 00:18:34,687] Finished trial#4 resulted in value: 0.7046387252781383. Current best value is 0.8613097179239737 with parameters: {'use_log': 0, 'use_oh': 0, 'use_tgt': 1, 'use_fam': 1, 'use_ps': 1, 'C': 5, 'penalty': 'l1'}.\n",
      "[I 2020-03-30 00:18:34,788] Finished trial#5 resulted in value: 0.7047465419897285. Current best value is 0.8613097179239737 with parameters: {'use_log': 0, 'use_oh': 0, 'use_tgt': 1, 'use_fam': 1, 'use_ps': 1, 'C': 5, 'penalty': 'l1'}.\n",
      "[I 2020-03-30 00:18:34,885] Finished trial#6 resulted in value: 0.7104848978957994. Current best value is 0.8613097179239737 with parameters: {'use_log': 0, 'use_oh': 0, 'use_tgt': 1, 'use_fam': 1, 'use_ps': 1, 'C': 5, 'penalty': 'l1'}.\n",
      "[I 2020-03-30 00:18:35,022] Finished trial#7 resulted in value: 0.8674130089958183. Current best value is 0.8674130089958183 with parameters: {'use_log': 1, 'use_oh': 0, 'use_tgt': 1, 'use_fam': 1, 'use_ps': 0, 'C': 7, 'penalty': 'l2'}.\n",
      "[I 2020-03-30 00:18:35,280] Finished trial#8 resulted in value: 0.8551314986744757. Current best value is 0.8674130089958183 with parameters: {'use_log': 1, 'use_oh': 0, 'use_tgt': 1, 'use_fam': 1, 'use_ps': 0, 'C': 7, 'penalty': 'l2'}.\n",
      "[I 2020-03-30 00:18:35,406] Finished trial#9 resulted in value: 0.7104848978957994. Current best value is 0.8674130089958183 with parameters: {'use_log': 1, 'use_oh': 0, 'use_tgt': 1, 'use_fam': 1, 'use_ps': 0, 'C': 7, 'penalty': 'l2'}.\n",
      "[I 2020-03-30 00:18:35,612] Finished trial#10 resulted in value: 0.8629638503433054. Current best value is 0.8674130089958183 with parameters: {'use_log': 1, 'use_oh': 0, 'use_tgt': 1, 'use_fam': 1, 'use_ps': 0, 'C': 7, 'penalty': 'l2'}.\n",
      "[I 2020-03-30 00:18:35,819] Finished trial#11 resulted in value: 0.8651803600545739. Current best value is 0.8674130089958183 with parameters: {'use_log': 1, 'use_oh': 0, 'use_tgt': 1, 'use_fam': 1, 'use_ps': 0, 'C': 7, 'penalty': 'l2'}.\n",
      "[I 2020-03-30 00:18:36,051] Finished trial#12 resulted in value: 0.8632823644249221. Current best value is 0.8674130089958183 with parameters: {'use_log': 1, 'use_oh': 0, 'use_tgt': 1, 'use_fam': 1, 'use_ps': 0, 'C': 7, 'penalty': 'l2'}.\n",
      "[I 2020-03-30 00:18:36,271] Finished trial#13 resulted in value: 0.8633833039388594. Current best value is 0.8674130089958183 with parameters: {'use_log': 1, 'use_oh': 0, 'use_tgt': 1, 'use_fam': 1, 'use_ps': 0, 'C': 7, 'penalty': 'l2'}.\n",
      "[I 2020-03-30 00:18:36,605] Finished trial#14 resulted in value: 0.7051649418211263. Current best value is 0.8674130089958183 with parameters: {'use_log': 1, 'use_oh': 0, 'use_tgt': 1, 'use_fam': 1, 'use_ps': 0, 'C': 7, 'penalty': 'l2'}.\n",
      "[I 2020-03-30 00:18:36,817] Finished trial#15 resulted in value: 0.8675350237928854. Current best value is 0.8675350237928854 with parameters: {'use_log': 1, 'use_oh': 1, 'use_tgt': 1, 'use_fam': 1, 'use_ps': 1, 'C': 3, 'penalty': 'l2'}.\n",
      "[I 2020-03-30 00:18:36,996] Finished trial#16 resulted in value: 0.8547438798487017. Current best value is 0.8675350237928854 with parameters: {'use_log': 1, 'use_oh': 1, 'use_tgt': 1, 'use_fam': 1, 'use_ps': 1, 'C': 3, 'penalty': 'l2'}.\n",
      "[I 2020-03-30 00:18:37,180] Finished trial#17 resulted in value: 0.8675350237928854. Current best value is 0.8675350237928854 with parameters: {'use_log': 1, 'use_oh': 1, 'use_tgt': 1, 'use_fam': 1, 'use_ps': 1, 'C': 3, 'penalty': 'l2'}.\n",
      "[I 2020-03-30 00:18:37,399] Finished trial#18 resulted in value: 0.8677636906148438. Current best value is 0.8677636906148438 with parameters: {'use_log': 1, 'use_oh': 1, 'use_tgt': 1, 'use_fam': 1, 'use_ps': 1, 'C': 1, 'penalty': 'l2'}.\n",
      "[I 2020-03-30 00:18:37,603] Finished trial#19 resulted in value: 0.8677636906148438. Current best value is 0.8677636906148438 with parameters: {'use_log': 1, 'use_oh': 1, 'use_tgt': 1, 'use_fam': 1, 'use_ps': 1, 'C': 1, 'penalty': 'l2'}.\n",
      "[I 2020-03-30 00:18:37,910] Finished trial#20 resulted in value: 0.8677636906148438. Current best value is 0.8677636906148438 with parameters: {'use_log': 1, 'use_oh': 1, 'use_tgt': 1, 'use_fam': 1, 'use_ps': 1, 'C': 1, 'penalty': 'l2'}.\n",
      "[I 2020-03-30 00:18:38,129] Finished trial#21 resulted in value: 0.862965791487804. Current best value is 0.8677636906148438 with parameters: {'use_log': 1, 'use_oh': 1, 'use_tgt': 1, 'use_fam': 1, 'use_ps': 1, 'C': 1, 'penalty': 'l2'}.\n",
      "[I 2020-03-30 00:18:38,406] Finished trial#22 resulted in value: 0.8630757157277074. Current best value is 0.8677636906148438 with parameters: {'use_log': 1, 'use_oh': 1, 'use_tgt': 1, 'use_fam': 1, 'use_ps': 1, 'C': 1, 'penalty': 'l2'}.\n",
      "[I 2020-03-30 00:18:38,649] Finished trial#23 resulted in value: 0.8654557252670461. Current best value is 0.8677636906148438 with parameters: {'use_log': 1, 'use_oh': 1, 'use_tgt': 1, 'use_fam': 1, 'use_ps': 1, 'C': 1, 'penalty': 'l2'}.\n",
      "[I 2020-03-30 00:18:38,958] Finished trial#24 resulted in value: 0.8630676183820837. Current best value is 0.8677636906148438 with parameters: {'use_log': 1, 'use_oh': 1, 'use_tgt': 1, 'use_fam': 1, 'use_ps': 1, 'C': 1, 'penalty': 'l2'}.\n",
      "[I 2020-03-30 00:18:39,572] Finished trial#25 resulted in value: 0.8621919958293123. Current best value is 0.8677636906148438 with parameters: {'use_log': 1, 'use_oh': 1, 'use_tgt': 1, 'use_fam': 1, 'use_ps': 1, 'C': 1, 'penalty': 'l2'}.\n",
      "[I 2020-03-30 00:18:39,857] Finished trial#26 resulted in value: 0.864220103601655. Current best value is 0.8677636906148438 with parameters: {'use_log': 1, 'use_oh': 1, 'use_tgt': 1, 'use_fam': 1, 'use_ps': 1, 'C': 1, 'penalty': 'l2'}.\n",
      "[I 2020-03-30 00:18:40,160] Finished trial#27 resulted in value: 0.8677636906148438. Current best value is 0.8677636906148438 with parameters: {'use_log': 1, 'use_oh': 1, 'use_tgt': 1, 'use_fam': 1, 'use_ps': 1, 'C': 1, 'penalty': 'l2'}.\n",
      "[I 2020-03-30 00:18:40,638] Finished trial#28 resulted in value: 0.8673114039466242. Current best value is 0.8677636906148438 with parameters: {'use_log': 1, 'use_oh': 1, 'use_tgt': 1, 'use_fam': 1, 'use_ps': 1, 'C': 1, 'penalty': 'l2'}.\n",
      "[I 2020-03-30 00:18:40,906] Finished trial#29 resulted in value: 0.8530427717324992. Current best value is 0.8677636906148438 with parameters: {'use_log': 1, 'use_oh': 1, 'use_tgt': 1, 'use_fam': 1, 'use_ps': 1, 'C': 1, 'penalty': 'l2'}.\n",
      "[I 2020-03-30 00:18:41,472] Finished trial#30 resulted in value: 0.8660535977726754. Current best value is 0.8677636906148438 with parameters: {'use_log': 1, 'use_oh': 1, 'use_tgt': 1, 'use_fam': 1, 'use_ps': 1, 'C': 1, 'penalty': 'l2'}.\n",
      "[I 2020-03-30 00:18:41,743] Finished trial#31 resulted in value: 0.8641172229432188. Current best value is 0.8677636906148438 with parameters: {'use_log': 1, 'use_oh': 1, 'use_tgt': 1, 'use_fam': 1, 'use_ps': 1, 'C': 1, 'penalty': 'l2'}.\n",
      "[I 2020-03-30 00:18:42,104] Finished trial#32 resulted in value: 0.8546280212527592. Current best value is 0.8677636906148438 with parameters: {'use_log': 1, 'use_oh': 1, 'use_tgt': 1, 'use_fam': 1, 'use_ps': 1, 'C': 1, 'penalty': 'l2'}.\n",
      "[I 2020-03-30 00:18:42,310] Finished trial#33 resulted in value: 0.8623331447650106. Current best value is 0.8677636906148438 with parameters: {'use_log': 1, 'use_oh': 1, 'use_tgt': 1, 'use_fam': 1, 'use_ps': 1, 'C': 1, 'penalty': 'l2'}.\n",
      "[I 2020-03-30 00:18:42,489] Finished trial#34 resulted in value: 0.7104848978957994. Current best value is 0.8677636906148438 with parameters: {'use_log': 1, 'use_oh': 1, 'use_tgt': 1, 'use_fam': 1, 'use_ps': 1, 'C': 1, 'penalty': 'l2'}.\n",
      "[I 2020-03-30 00:18:42,889] Finished trial#35 resulted in value: 0.857386664891906. Current best value is 0.8677636906148438 with parameters: {'use_log': 1, 'use_oh': 1, 'use_tgt': 1, 'use_fam': 1, 'use_ps': 1, 'C': 1, 'penalty': 'l2'}.\n",
      "[I 2020-03-30 00:18:43,045] Finished trial#36 resulted in value: 0.7104848978957994. Current best value is 0.8677636906148438 with parameters: {'use_log': 1, 'use_oh': 1, 'use_tgt': 1, 'use_fam': 1, 'use_ps': 1, 'C': 1, 'penalty': 'l2'}.\n",
      "[I 2020-03-30 00:18:43,307] Finished trial#37 resulted in value: 0.8630626823289298. Current best value is 0.8677636906148438 with parameters: {'use_log': 1, 'use_oh': 1, 'use_tgt': 1, 'use_fam': 1, 'use_ps': 1, 'C': 1, 'penalty': 'l2'}.\n",
      "[I 2020-03-30 00:18:43,675] Finished trial#38 resulted in value: 0.8593213204219493. Current best value is 0.8677636906148438 with parameters: {'use_log': 1, 'use_oh': 1, 'use_tgt': 1, 'use_fam': 1, 'use_ps': 1, 'C': 1, 'penalty': 'l2'}.\n",
      "[I 2020-03-30 00:18:44,028] Finished trial#39 resulted in value: 0.8516790345301875. Current best value is 0.8677636906148438 with parameters: {'use_log': 1, 'use_oh': 1, 'use_tgt': 1, 'use_fam': 1, 'use_ps': 1, 'C': 1, 'penalty': 'l2'}.\n",
      "[I 2020-03-30 00:18:44,291] Finished trial#40 resulted in value: 0.8559209898727718. Current best value is 0.8677636906148438 with parameters: {'use_log': 1, 'use_oh': 1, 'use_tgt': 1, 'use_fam': 1, 'use_ps': 1, 'C': 1, 'penalty': 'l2'}.\n",
      "[I 2020-03-30 00:18:44,966] Finished trial#41 resulted in value: 0.8658423457899349. Current best value is 0.8677636906148438 with parameters: {'use_log': 1, 'use_oh': 1, 'use_tgt': 1, 'use_fam': 1, 'use_ps': 1, 'C': 1, 'penalty': 'l2'}.\n",
      "[I 2020-03-30 00:18:45,237] Finished trial#42 resulted in value: 0.8615017248455403. Current best value is 0.8677636906148438 with parameters: {'use_log': 1, 'use_oh': 1, 'use_tgt': 1, 'use_fam': 1, 'use_ps': 1, 'C': 1, 'penalty': 'l2'}.\n",
      "[I 2020-03-30 00:18:45,510] Finished trial#43 resulted in value: 0.852208966978359. Current best value is 0.8677636906148438 with parameters: {'use_log': 1, 'use_oh': 1, 'use_tgt': 1, 'use_fam': 1, 'use_ps': 1, 'C': 1, 'penalty': 'l2'}.\n",
      "[I 2020-03-30 00:18:45,797] Finished trial#44 resulted in value: 0.8558998036670993. Current best value is 0.8677636906148438 with parameters: {'use_log': 1, 'use_oh': 1, 'use_tgt': 1, 'use_fam': 1, 'use_ps': 1, 'C': 1, 'penalty': 'l2'}.\n",
      "[I 2020-03-30 00:18:45,995] Finished trial#45 resulted in value: 0.8686593901478596. Current best value is 0.8686593901478596 with parameters: {'use_log': 1, 'use_oh': 0, 'use_tgt': 1, 'use_fam': 1, 'use_ps': 1, 'C': 5, 'penalty': 'l2'}.\n",
      "[I 2020-03-30 00:18:46,273] Finished trial#46 resulted in value: 0.7046387252781383. Current best value is 0.8686593901478596 with parameters: {'use_log': 1, 'use_oh': 0, 'use_tgt': 1, 'use_fam': 1, 'use_ps': 1, 'C': 5, 'penalty': 'l2'}.\n",
      "[I 2020-03-30 00:18:46,524] Finished trial#47 resulted in value: 0.8686593901478596. Current best value is 0.8686593901478596 with parameters: {'use_log': 1, 'use_oh': 0, 'use_tgt': 1, 'use_fam': 1, 'use_ps': 1, 'C': 5, 'penalty': 'l2'}.\n",
      "[I 2020-03-30 00:18:46,765] Finished trial#48 resulted in value: 0.8558116757068539. Current best value is 0.8686593901478596 with parameters: {'use_log': 1, 'use_oh': 0, 'use_tgt': 1, 'use_fam': 1, 'use_ps': 1, 'C': 5, 'penalty': 'l2'}.\n",
      "[I 2020-03-30 00:18:47,134] Finished trial#49 resulted in value: 0.8618998258516077. Current best value is 0.8686593901478596 with parameters: {'use_log': 1, 'use_oh': 0, 'use_tgt': 1, 'use_fam': 1, 'use_ps': 1, 'C': 5, 'penalty': 'l2'}.\n",
      "[I 2020-03-30 00:18:47,457] Finished trial#50 resulted in value: 0.7104848978957994. Current best value is 0.8686593901478596 with parameters: {'use_log': 1, 'use_oh': 0, 'use_tgt': 1, 'use_fam': 1, 'use_ps': 1, 'C': 5, 'penalty': 'l2'}.\n",
      "[I 2020-03-30 00:18:47,785] Finished trial#51 resulted in value: 0.8569038745244196. Current best value is 0.8686593901478596 with parameters: {'use_log': 1, 'use_oh': 0, 'use_tgt': 1, 'use_fam': 1, 'use_ps': 1, 'C': 5, 'penalty': 'l2'}.\n",
      "[I 2020-03-30 00:18:48,122] Finished trial#52 resulted in value: 0.8677401750357726. Current best value is 0.8686593901478596 with parameters: {'use_log': 1, 'use_oh': 0, 'use_tgt': 1, 'use_fam': 1, 'use_ps': 1, 'C': 5, 'penalty': 'l2'}.\n",
      "[I 2020-03-30 00:18:48,433] Finished trial#53 resulted in value: 0.8686593901478596. Current best value is 0.8686593901478596 with parameters: {'use_log': 1, 'use_oh': 0, 'use_tgt': 1, 'use_fam': 1, 'use_ps': 1, 'C': 5, 'penalty': 'l2'}.\n",
      "[I 2020-03-30 00:18:48,750] Finished trial#54 resulted in value: 0.8610775015806462. Current best value is 0.8686593901478596 with parameters: {'use_log': 1, 'use_oh': 0, 'use_tgt': 1, 'use_fam': 1, 'use_ps': 1, 'C': 5, 'penalty': 'l2'}.\n",
      "[I 2020-03-30 00:18:49,022] Finished trial#55 resulted in value: 0.7104848978957994. Current best value is 0.8686593901478596 with parameters: {'use_log': 1, 'use_oh': 0, 'use_tgt': 1, 'use_fam': 1, 'use_ps': 1, 'C': 5, 'penalty': 'l2'}.\n",
      "[I 2020-03-30 00:18:49,291] Finished trial#56 resulted in value: 0.8678329617428149. Current best value is 0.8686593901478596 with parameters: {'use_log': 1, 'use_oh': 0, 'use_tgt': 1, 'use_fam': 1, 'use_ps': 1, 'C': 5, 'penalty': 'l2'}.\n",
      "[I 2020-03-30 00:18:49,668] Finished trial#57 resulted in value: 0.858316694951915. Current best value is 0.8686593901478596 with parameters: {'use_log': 1, 'use_oh': 0, 'use_tgt': 1, 'use_fam': 1, 'use_ps': 1, 'C': 5, 'penalty': 'l2'}.\n",
      "[I 2020-03-30 00:18:49,935] Finished trial#58 resulted in value: 0.8652943884285603. Current best value is 0.8686593901478596 with parameters: {'use_log': 1, 'use_oh': 0, 'use_tgt': 1, 'use_fam': 1, 'use_ps': 1, 'C': 5, 'penalty': 'l2'}.\n",
      "[I 2020-03-30 00:18:50,214] Finished trial#59 resulted in value: 0.8623270440251571. Current best value is 0.8686593901478596 with parameters: {'use_log': 1, 'use_oh': 0, 'use_tgt': 1, 'use_fam': 1, 'use_ps': 1, 'C': 5, 'penalty': 'l2'}.\n",
      "[I 2020-03-30 00:18:50,424] Finished trial#60 resulted in value: 0.7104848978957994. Current best value is 0.8686593901478596 with parameters: {'use_log': 1, 'use_oh': 0, 'use_tgt': 1, 'use_fam': 1, 'use_ps': 1, 'C': 5, 'penalty': 'l2'}.\n",
      "[I 2020-03-30 00:18:50,713] Finished trial#61 resulted in value: 0.8680336206227193. Current best value is 0.8686593901478596 with parameters: {'use_log': 1, 'use_oh': 0, 'use_tgt': 1, 'use_fam': 1, 'use_ps': 1, 'C': 5, 'penalty': 'l2'}.\n",
      "[I 2020-03-30 00:18:51,115] Finished trial#62 resulted in value: 0.8600580679511497. Current best value is 0.8686593901478596 with parameters: {'use_log': 1, 'use_oh': 0, 'use_tgt': 1, 'use_fam': 1, 'use_ps': 1, 'C': 5, 'penalty': 'l2'}.\n",
      "[I 2020-03-30 00:18:51,400] Finished trial#63 resulted in value: 0.8649827515445964. Current best value is 0.8686593901478596 with parameters: {'use_log': 1, 'use_oh': 0, 'use_tgt': 1, 'use_fam': 1, 'use_ps': 1, 'C': 5, 'penalty': 'l2'}.\n",
      "[I 2020-03-30 00:18:51,677] Finished trial#64 resulted in value: 0.8661370115248521. Current best value is 0.8686593901478596 with parameters: {'use_log': 1, 'use_oh': 0, 'use_tgt': 1, 'use_fam': 1, 'use_ps': 1, 'C': 5, 'penalty': 'l2'}.\n",
      "[I 2020-03-30 00:18:51,910] Finished trial#65 resulted in value: 0.8693032955087462. Current best value is 0.8693032955087462 with parameters: {'use_log': 1, 'use_oh': 0, 'use_tgt': 1, 'use_fam': 1, 'use_ps': 1, 'C': 4, 'penalty': 'l2'}.\n",
      "[I 2020-03-30 00:18:52,301] Finished trial#66 resulted in value: 0.8682478675141148. Current best value is 0.8693032955087462 with parameters: {'use_log': 1, 'use_oh': 0, 'use_tgt': 1, 'use_fam': 1, 'use_ps': 1, 'C': 4, 'penalty': 'l2'}.\n",
      "[I 2020-03-30 00:18:52,676] Finished trial#67 resulted in value: 0.8693032955087462. Current best value is 0.8693032955087462 with parameters: {'use_log': 1, 'use_oh': 0, 'use_tgt': 1, 'use_fam': 1, 'use_ps': 1, 'C': 4, 'penalty': 'l2'}.\n"
     ]
    },
    {
     "name": "stderr",
     "output_type": "stream",
     "text": [
      "[I 2020-03-30 00:18:53,009] Finished trial#68 resulted in value: 0.8678329617428149. Current best value is 0.8693032955087462 with parameters: {'use_log': 1, 'use_oh': 0, 'use_tgt': 1, 'use_fam': 1, 'use_ps': 1, 'C': 4, 'penalty': 'l2'}.\n",
      "[I 2020-03-30 00:18:53,334] Finished trial#69 resulted in value: 0.8650341641431787. Current best value is 0.8693032955087462 with parameters: {'use_log': 1, 'use_oh': 0, 'use_tgt': 1, 'use_fam': 1, 'use_ps': 1, 'C': 4, 'penalty': 'l2'}.\n",
      "[I 2020-03-30 00:18:53,636] Finished trial#70 resulted in value: 0.8693032955087462. Current best value is 0.8693032955087462 with parameters: {'use_log': 1, 'use_oh': 0, 'use_tgt': 1, 'use_fam': 1, 'use_ps': 1, 'C': 4, 'penalty': 'l2'}.\n",
      "[I 2020-03-30 00:18:53,907] Finished trial#71 resulted in value: 0.8693032955087462. Current best value is 0.8693032955087462 with parameters: {'use_log': 1, 'use_oh': 0, 'use_tgt': 1, 'use_fam': 1, 'use_ps': 1, 'C': 4, 'penalty': 'l2'}.\n",
      "[I 2020-03-30 00:18:54,227] Finished trial#72 resulted in value: 0.8626395682894635. Current best value is 0.8693032955087462 with parameters: {'use_log': 1, 'use_oh': 0, 'use_tgt': 1, 'use_fam': 1, 'use_ps': 1, 'C': 4, 'penalty': 'l2'}.\n",
      "[I 2020-03-30 00:18:54,511] Finished trial#73 resulted in value: 0.7104848978957994. Current best value is 0.8693032955087462 with parameters: {'use_log': 1, 'use_oh': 0, 'use_tgt': 1, 'use_fam': 1, 'use_ps': 1, 'C': 4, 'penalty': 'l2'}.\n",
      "[I 2020-03-30 00:18:54,824] Finished trial#74 resulted in value: 0.8693032955087462. Current best value is 0.8693032955087462 with parameters: {'use_log': 1, 'use_oh': 0, 'use_tgt': 1, 'use_fam': 1, 'use_ps': 1, 'C': 4, 'penalty': 'l2'}.\n",
      "[I 2020-03-30 00:18:55,101] Finished trial#75 resulted in value: 0.8495261388972081. Current best value is 0.8693032955087462 with parameters: {'use_log': 1, 'use_oh': 0, 'use_tgt': 1, 'use_fam': 1, 'use_ps': 1, 'C': 4, 'penalty': 'l2'}.\n",
      "[I 2020-03-30 00:18:55,443] Finished trial#76 resulted in value: 0.8680336206227193. Current best value is 0.8693032955087462 with parameters: {'use_log': 1, 'use_oh': 0, 'use_tgt': 1, 'use_fam': 1, 'use_ps': 1, 'C': 4, 'penalty': 'l2'}.\n",
      "[I 2020-03-30 00:18:55,971] Finished trial#77 resulted in value: 0.857973112375628. Current best value is 0.8693032955087462 with parameters: {'use_log': 1, 'use_oh': 0, 'use_tgt': 1, 'use_fam': 1, 'use_ps': 1, 'C': 4, 'penalty': 'l2'}.\n",
      "[I 2020-03-30 00:18:56,270] Finished trial#78 resulted in value: 0.7105877785542356. Current best value is 0.8693032955087462 with parameters: {'use_log': 1, 'use_oh': 0, 'use_tgt': 1, 'use_fam': 1, 'use_ps': 1, 'C': 4, 'penalty': 'l2'}.\n",
      "[I 2020-03-30 00:18:56,626] Finished trial#79 resulted in value: 0.8538475702417003. Current best value is 0.8693032955087462 with parameters: {'use_log': 1, 'use_oh': 0, 'use_tgt': 1, 'use_fam': 1, 'use_ps': 1, 'C': 4, 'penalty': 'l2'}.\n",
      "[I 2020-03-30 00:18:57,056] Finished trial#80 resulted in value: 0.8669798010049583. Current best value is 0.8693032955087462 with parameters: {'use_log': 1, 'use_oh': 0, 'use_tgt': 1, 'use_fam': 1, 'use_ps': 1, 'C': 4, 'penalty': 'l2'}.\n",
      "[I 2020-03-30 00:18:57,411] Finished trial#81 resulted in value: 0.8643276430068884. Current best value is 0.8693032955087462 with parameters: {'use_log': 1, 'use_oh': 0, 'use_tgt': 1, 'use_fam': 1, 'use_ps': 1, 'C': 4, 'penalty': 'l2'}.\n",
      "[I 2020-03-30 00:18:57,719] Finished trial#82 resulted in value: 0.7105877785542356. Current best value is 0.8693032955087462 with parameters: {'use_log': 1, 'use_oh': 0, 'use_tgt': 1, 'use_fam': 1, 'use_ps': 1, 'C': 4, 'penalty': 'l2'}.\n",
      "[I 2020-03-30 00:18:58,109] Finished trial#83 resulted in value: 0.8674130089958183. Current best value is 0.8693032955087462 with parameters: {'use_log': 1, 'use_oh': 0, 'use_tgt': 1, 'use_fam': 1, 'use_ps': 1, 'C': 4, 'penalty': 'l2'}.\n",
      "[I 2020-03-30 00:18:58,470] Finished trial#84 resulted in value: 0.8567696027863743. Current best value is 0.8693032955087462 with parameters: {'use_log': 1, 'use_oh': 0, 'use_tgt': 1, 'use_fam': 1, 'use_ps': 1, 'C': 4, 'penalty': 'l2'}.\n",
      "[I 2020-03-30 00:18:58,789] Finished trial#85 resulted in value: 0.8678329617428149. Current best value is 0.8693032955087462 with parameters: {'use_log': 1, 'use_oh': 0, 'use_tgt': 1, 'use_fam': 1, 'use_ps': 1, 'C': 4, 'penalty': 'l2'}.\n",
      "[I 2020-03-30 00:18:59,569] Finished trial#86 resulted in value: 0.8516765942342461. Current best value is 0.8693032955087462 with parameters: {'use_log': 1, 'use_oh': 0, 'use_tgt': 1, 'use_fam': 1, 'use_ps': 1, 'C': 4, 'penalty': 'l2'}.\n",
      "[I 2020-03-30 00:18:59,894] Finished trial#87 resulted in value: 0.7104848978957994. Current best value is 0.8693032955087462 with parameters: {'use_log': 1, 'use_oh': 0, 'use_tgt': 1, 'use_fam': 1, 'use_ps': 1, 'C': 4, 'penalty': 'l2'}.\n",
      "[I 2020-03-30 00:19:00,338] Finished trial#88 resulted in value: 0.8553685956096857. Current best value is 0.8693032955087462 with parameters: {'use_log': 1, 'use_oh': 0, 'use_tgt': 1, 'use_fam': 1, 'use_ps': 1, 'C': 4, 'penalty': 'l2'}.\n",
      "[I 2020-03-30 00:19:00,685] Finished trial#89 resulted in value: 0.8631377768903974. Current best value is 0.8693032955087462 with parameters: {'use_log': 1, 'use_oh': 0, 'use_tgt': 1, 'use_fam': 1, 'use_ps': 1, 'C': 4, 'penalty': 'l2'}.\n",
      "[I 2020-03-30 00:19:01,028] Finished trial#90 resulted in value: 0.8625495546459906. Current best value is 0.8693032955087462 with parameters: {'use_log': 1, 'use_oh': 0, 'use_tgt': 1, 'use_fam': 1, 'use_ps': 1, 'C': 4, 'penalty': 'l2'}.\n",
      "[I 2020-03-30 00:19:01,341] Finished trial#91 resulted in value: 0.7104848978957994. Current best value is 0.8693032955087462 with parameters: {'use_log': 1, 'use_oh': 0, 'use_tgt': 1, 'use_fam': 1, 'use_ps': 1, 'C': 4, 'penalty': 'l2'}.\n",
      "[I 2020-03-30 00:19:01,685] Finished trial#92 resulted in value: 0.8569861235898971. Current best value is 0.8693032955087462 with parameters: {'use_log': 1, 'use_oh': 0, 'use_tgt': 1, 'use_fam': 1, 'use_ps': 1, 'C': 4, 'penalty': 'l2'}.\n",
      "[I 2020-03-30 00:19:02,015] Finished trial#93 resulted in value: 0.8687702017681052. Current best value is 0.8693032955087462 with parameters: {'use_log': 1, 'use_oh': 0, 'use_tgt': 1, 'use_fam': 1, 'use_ps': 1, 'C': 4, 'penalty': 'l2'}.\n",
      "[I 2020-03-30 00:19:02,328] Finished trial#94 resulted in value: 0.8587058112320166. Current best value is 0.8693032955087462 with parameters: {'use_log': 1, 'use_oh': 0, 'use_tgt': 1, 'use_fam': 1, 'use_ps': 1, 'C': 4, 'penalty': 'l2'}.\n",
      "[I 2020-03-30 00:19:02,600] Finished trial#95 resulted in value: 0.7109112286890065. Current best value is 0.8693032955087462 with parameters: {'use_log': 1, 'use_oh': 0, 'use_tgt': 1, 'use_fam': 1, 'use_ps': 1, 'C': 4, 'penalty': 'l2'}.\n",
      "[I 2020-03-30 00:19:02,890] Finished trial#96 resulted in value: 0.8564282941222144. Current best value is 0.8693032955087462 with parameters: {'use_log': 1, 'use_oh': 0, 'use_tgt': 1, 'use_fam': 1, 'use_ps': 1, 'C': 4, 'penalty': 'l2'}.\n",
      "[I 2020-03-30 00:19:03,183] Finished trial#97 resulted in value: 0.8661370115248521. Current best value is 0.8693032955087462 with parameters: {'use_log': 1, 'use_oh': 0, 'use_tgt': 1, 'use_fam': 1, 'use_ps': 1, 'C': 4, 'penalty': 'l2'}.\n",
      "[I 2020-03-30 00:19:03,509] Finished trial#98 resulted in value: 0.8677636906148438. Current best value is 0.8693032955087462 with parameters: {'use_log': 1, 'use_oh': 0, 'use_tgt': 1, 'use_fam': 1, 'use_ps': 1, 'C': 4, 'penalty': 'l2'}.\n",
      "[I 2020-03-30 00:19:03,824] Finished trial#99 resulted in value: 0.8622099098199728. Current best value is 0.8693032955087462 with parameters: {'use_log': 1, 'use_oh': 0, 'use_tgt': 1, 'use_fam': 1, 'use_ps': 1, 'C': 4, 'penalty': 'l2'}.\n",
      "[I 2020-03-30 00:19:04,163] Finished trial#100 resulted in value: 0.8644266413763269. Current best value is 0.8693032955087462 with parameters: {'use_log': 1, 'use_oh': 0, 'use_tgt': 1, 'use_fam': 1, 'use_ps': 1, 'C': 4, 'penalty': 'l2'}.\n",
      "[I 2020-03-30 00:19:04,485] Finished trial#101 resulted in value: 0.7104848978957994. Current best value is 0.8693032955087462 with parameters: {'use_log': 1, 'use_oh': 0, 'use_tgt': 1, 'use_fam': 1, 'use_ps': 1, 'C': 4, 'penalty': 'l2'}.\n",
      "[I 2020-03-30 00:19:04,900] Finished trial#102 resulted in value: 0.8511298570208423. Current best value is 0.8693032955087462 with parameters: {'use_log': 1, 'use_oh': 0, 'use_tgt': 1, 'use_fam': 1, 'use_ps': 1, 'C': 4, 'penalty': 'l2'}.\n",
      "[I 2020-03-30 00:19:05,421] Finished trial#103 resulted in value: 0.8686593901478596. Current best value is 0.8693032955087462 with parameters: {'use_log': 1, 'use_oh': 0, 'use_tgt': 1, 'use_fam': 1, 'use_ps': 1, 'C': 4, 'penalty': 'l2'}.\n",
      "[I 2020-03-30 00:19:05,871] Finished trial#104 resulted in value: 0.8612859250385456. Current best value is 0.8693032955087462 with parameters: {'use_log': 1, 'use_oh': 0, 'use_tgt': 1, 'use_fam': 1, 'use_ps': 1, 'C': 4, 'penalty': 'l2'}.\n",
      "[I 2020-03-30 00:19:06,242] Finished trial#105 resulted in value: 0.8618144154936609. Current best value is 0.8693032955087462 with parameters: {'use_log': 1, 'use_oh': 0, 'use_tgt': 1, 'use_fam': 1, 'use_ps': 1, 'C': 4, 'penalty': 'l2'}.\n",
      "[I 2020-03-30 00:19:06,648] Finished trial#106 resulted in value: 0.8527914767118121. Current best value is 0.8693032955087462 with parameters: {'use_log': 1, 'use_oh': 0, 'use_tgt': 1, 'use_fam': 1, 'use_ps': 1, 'C': 4, 'penalty': 'l2'}.\n",
      "[I 2020-03-30 00:19:06,943] Finished trial#107 resulted in value: 0.8558116757068539. Current best value is 0.8693032955087462 with parameters: {'use_log': 1, 'use_oh': 0, 'use_tgt': 1, 'use_fam': 1, 'use_ps': 1, 'C': 4, 'penalty': 'l2'}.\n",
      "[I 2020-03-30 00:19:07,252] Finished trial#108 resulted in value: 0.8680336206227193. Current best value is 0.8693032955087462 with parameters: {'use_log': 1, 'use_oh': 0, 'use_tgt': 1, 'use_fam': 1, 'use_ps': 1, 'C': 4, 'penalty': 'l2'}.\n",
      "[I 2020-03-30 00:19:07,711] Finished trial#109 resulted in value: 0.8621202289441283. Current best value is 0.8693032955087462 with parameters: {'use_log': 1, 'use_oh': 0, 'use_tgt': 1, 'use_fam': 1, 'use_ps': 1, 'C': 4, 'penalty': 'l2'}.\n",
      "[I 2020-03-30 00:19:08,104] Finished trial#110 resulted in value: 0.7104848978957994. Current best value is 0.8693032955087462 with parameters: {'use_log': 1, 'use_oh': 0, 'use_tgt': 1, 'use_fam': 1, 'use_ps': 1, 'C': 4, 'penalty': 'l2'}.\n",
      "[I 2020-03-30 00:19:08,732] Finished trial#111 resulted in value: 0.8687827914767118. Current best value is 0.8693032955087462 with parameters: {'use_log': 1, 'use_oh': 0, 'use_tgt': 1, 'use_fam': 1, 'use_ps': 1, 'C': 4, 'penalty': 'l2'}.\n",
      "[I 2020-03-30 00:19:09,088] Finished trial#112 resulted in value: 0.8495261388972081. Current best value is 0.8693032955087462 with parameters: {'use_log': 1, 'use_oh': 0, 'use_tgt': 1, 'use_fam': 1, 'use_ps': 1, 'C': 4, 'penalty': 'l2'}.\n",
      "[I 2020-03-30 00:19:09,488] Finished trial#113 resulted in value: 0.8693032955087462. Current best value is 0.8693032955087462 with parameters: {'use_log': 1, 'use_oh': 0, 'use_tgt': 1, 'use_fam': 1, 'use_ps': 1, 'C': 4, 'penalty': 'l2'}.\n",
      "[I 2020-03-30 00:19:09,817] Finished trial#114 resulted in value: 0.8594125542133927. Current best value is 0.8693032955087462 with parameters: {'use_log': 1, 'use_oh': 0, 'use_tgt': 1, 'use_fam': 1, 'use_ps': 1, 'C': 4, 'penalty': 'l2'}.\n",
      "[I 2020-03-30 00:19:10,185] Finished trial#115 resulted in value: 0.8682478675141148. Current best value is 0.8693032955087462 with parameters: {'use_log': 1, 'use_oh': 0, 'use_tgt': 1, 'use_fam': 1, 'use_ps': 1, 'C': 4, 'penalty': 'l2'}.\n",
      "[I 2020-03-30 00:19:10,645] Finished trial#116 resulted in value: 0.855117189666456. Current best value is 0.8693032955087462 with parameters: {'use_log': 1, 'use_oh': 0, 'use_tgt': 1, 'use_fam': 1, 'use_ps': 1, 'C': 4, 'penalty': 'l2'}.\n",
      "[I 2020-03-30 00:19:10,946] Finished trial#117 resulted in value: 0.8682482002817432. Current best value is 0.8693032955087462 with parameters: {'use_log': 1, 'use_oh': 0, 'use_tgt': 1, 'use_fam': 1, 'use_ps': 1, 'C': 4, 'penalty': 'l2'}.\n",
      "[I 2020-03-30 00:19:11,298] Finished trial#118 resulted in value: 0.8693032955087462. Current best value is 0.8693032955087462 with parameters: {'use_log': 1, 'use_oh': 0, 'use_tgt': 1, 'use_fam': 1, 'use_ps': 1, 'C': 4, 'penalty': 'l2'}.\n",
      "[I 2020-03-30 00:19:11,756] Finished trial#119 resulted in value: 0.8678329617428149. Current best value is 0.8693032955087462 with parameters: {'use_log': 1, 'use_oh': 0, 'use_tgt': 1, 'use_fam': 1, 'use_ps': 1, 'C': 4, 'penalty': 'l2'}.\n",
      "[I 2020-03-30 00:19:12,159] Finished trial#120 resulted in value: 0.8545391722959857. Current best value is 0.8693032955087462 with parameters: {'use_log': 1, 'use_oh': 0, 'use_tgt': 1, 'use_fam': 1, 'use_ps': 1, 'C': 4, 'penalty': 'l2'}.\n",
      "[I 2020-03-30 00:19:12,795] Finished trial#121 resulted in value: 0.8562483222965402. Current best value is 0.8693032955087462 with parameters: {'use_log': 1, 'use_oh': 0, 'use_tgt': 1, 'use_fam': 1, 'use_ps': 1, 'C': 4, 'penalty': 'l2'}.\n",
      "[I 2020-03-30 00:19:13,126] Finished trial#122 resulted in value: 0.8531256308719621. Current best value is 0.8693032955087462 with parameters: {'use_log': 1, 'use_oh': 0, 'use_tgt': 1, 'use_fam': 1, 'use_ps': 1, 'C': 4, 'penalty': 'l2'}.\n",
      "[I 2020-03-30 00:19:13,595] Finished trial#123 resulted in value: 0.8631377768903974. Current best value is 0.8693032955087462 with parameters: {'use_log': 1, 'use_oh': 0, 'use_tgt': 1, 'use_fam': 1, 'use_ps': 1, 'C': 4, 'penalty': 'l2'}.\n",
      "[I 2020-03-30 00:19:13,931] Finished trial#124 resulted in value: 0.8583524674719643. Current best value is 0.8693032955087462 with parameters: {'use_log': 1, 'use_oh': 0, 'use_tgt': 1, 'use_fam': 1, 'use_ps': 1, 'C': 4, 'penalty': 'l2'}.\n",
      "[I 2020-03-30 00:19:14,307] Finished trial#125 resulted in value: 0.8675208257074086. Current best value is 0.8693032955087462 with parameters: {'use_log': 1, 'use_oh': 0, 'use_tgt': 1, 'use_fam': 1, 'use_ps': 1, 'C': 4, 'penalty': 'l2'}.\n",
      "[I 2020-03-30 00:19:14,659] Finished trial#126 resulted in value: 0.7104848978957994. Current best value is 0.8693032955087462 with parameters: {'use_log': 1, 'use_oh': 0, 'use_tgt': 1, 'use_fam': 1, 'use_ps': 1, 'C': 4, 'penalty': 'l2'}.\n",
      "[I 2020-03-30 00:19:15,006] Finished trial#127 resulted in value: 0.8654557252670461. Current best value is 0.8693032955087462 with parameters: {'use_log': 1, 'use_oh': 0, 'use_tgt': 1, 'use_fam': 1, 'use_ps': 1, 'C': 4, 'penalty': 'l2'}.\n",
      "[I 2020-03-30 00:19:15,423] Finished trial#128 resulted in value: 0.8649827515445964. Current best value is 0.8693032955087462 with parameters: {'use_log': 1, 'use_oh': 0, 'use_tgt': 1, 'use_fam': 1, 'use_ps': 1, 'C': 4, 'penalty': 'l2'}.\n",
      "[I 2020-03-30 00:19:15,842] Finished trial#129 resulted in value: 0.8607685268377091. Current best value is 0.8693032955087462 with parameters: {'use_log': 1, 'use_oh': 0, 'use_tgt': 1, 'use_fam': 1, 'use_ps': 1, 'C': 4, 'penalty': 'l2'}.\n",
      "[I 2020-03-30 00:19:16,157] Finished trial#130 resulted in value: 0.7051649418211263. Current best value is 0.8693032955087462 with parameters: {'use_log': 1, 'use_oh': 0, 'use_tgt': 1, 'use_fam': 1, 'use_ps': 1, 'C': 4, 'penalty': 'l2'}.\n",
      "[I 2020-03-30 00:19:16,589] Finished trial#131 resulted in value: 0.8677401750357726. Current best value is 0.8693032955087462 with parameters: {'use_log': 1, 'use_oh': 0, 'use_tgt': 1, 'use_fam': 1, 'use_ps': 1, 'C': 4, 'penalty': 'l2'}.\n",
      "[I 2020-03-30 00:19:16,938] Finished trial#132 resulted in value: 0.8682779275232105. Current best value is 0.8693032955087462 with parameters: {'use_log': 1, 'use_oh': 0, 'use_tgt': 1, 'use_fam': 1, 'use_ps': 1, 'C': 4, 'penalty': 'l2'}.\n",
      "[I 2020-03-30 00:19:17,299] Finished trial#133 resulted in value: 0.8693032955087462. Current best value is 0.8693032955087462 with parameters: {'use_log': 1, 'use_oh': 0, 'use_tgt': 1, 'use_fam': 1, 'use_ps': 1, 'C': 4, 'penalty': 'l2'}.\n",
      "[I 2020-03-30 00:19:17,639] Finished trial#134 resulted in value: 0.7105877785542356. Current best value is 0.8693032955087462 with parameters: {'use_log': 1, 'use_oh': 0, 'use_tgt': 1, 'use_fam': 1, 'use_ps': 1, 'C': 4, 'penalty': 'l2'}.\n",
      "[I 2020-03-30 00:19:18,018] Finished trial#135 resulted in value: 0.8627424489478998. Current best value is 0.8693032955087462 with parameters: {'use_log': 1, 'use_oh': 0, 'use_tgt': 1, 'use_fam': 1, 'use_ps': 1, 'C': 4, 'penalty': 'l2'}.\n"
     ]
    },
    {
     "name": "stderr",
     "output_type": "stream",
     "text": [
      "[I 2020-03-30 00:19:18,462] Finished trial#136 resulted in value: 0.858316694951915. Current best value is 0.8693032955087462 with parameters: {'use_log': 1, 'use_oh': 0, 'use_tgt': 1, 'use_fam': 1, 'use_ps': 1, 'C': 4, 'penalty': 'l2'}.\n",
      "[I 2020-03-30 00:19:18,768] Finished trial#137 resulted in value: 0.8530435481902987. Current best value is 0.8693032955087462 with parameters: {'use_log': 1, 'use_oh': 0, 'use_tgt': 1, 'use_fam': 1, 'use_ps': 1, 'C': 4, 'penalty': 'l2'}.\n",
      "[I 2020-03-30 00:19:19,169] Finished trial#138 resulted in value: 0.863594001308886. Current best value is 0.8693032955087462 with parameters: {'use_log': 1, 'use_oh': 0, 'use_tgt': 1, 'use_fam': 1, 'use_ps': 1, 'C': 4, 'penalty': 'l2'}.\n",
      "[I 2020-03-30 00:19:19,538] Finished trial#139 resulted in value: 0.7105877785542356. Current best value is 0.8693032955087462 with parameters: {'use_log': 1, 'use_oh': 0, 'use_tgt': 1, 'use_fam': 1, 'use_ps': 1, 'C': 4, 'penalty': 'l2'}.\n",
      "[I 2020-03-30 00:19:19,877] Finished trial#140 resulted in value: 0.8615017248455403. Current best value is 0.8693032955087462 with parameters: {'use_log': 1, 'use_oh': 0, 'use_tgt': 1, 'use_fam': 1, 'use_ps': 1, 'C': 4, 'penalty': 'l2'}.\n",
      "[I 2020-03-30 00:19:20,346] Finished trial#141 resulted in value: 0.8547132097656206. Current best value is 0.8693032955087462 with parameters: {'use_log': 1, 'use_oh': 0, 'use_tgt': 1, 'use_fam': 1, 'use_ps': 1, 'C': 4, 'penalty': 'l2'}.\n",
      "[I 2020-03-30 00:19:20,698] Finished trial#142 resulted in value: 0.8630727208190521. Current best value is 0.8693032955087462 with parameters: {'use_log': 1, 'use_oh': 0, 'use_tgt': 1, 'use_fam': 1, 'use_ps': 1, 'C': 4, 'penalty': 'l2'}.\n",
      "[I 2020-03-30 00:19:21,053] Finished trial#143 resulted in value: 0.8682478675141148. Current best value is 0.8693032955087462 with parameters: {'use_log': 1, 'use_oh': 0, 'use_tgt': 1, 'use_fam': 1, 'use_ps': 1, 'C': 4, 'penalty': 'l2'}.\n",
      "[I 2020-03-30 00:19:21,419] Finished trial#144 resulted in value: 0.8623370825152797. Current best value is 0.8693032955087462 with parameters: {'use_log': 1, 'use_oh': 0, 'use_tgt': 1, 'use_fam': 1, 'use_ps': 1, 'C': 4, 'penalty': 'l2'}.\n",
      "[I 2020-03-30 00:19:21,811] Finished trial#145 resulted in value: 0.8693032955087462. Current best value is 0.8693032955087462 with parameters: {'use_log': 1, 'use_oh': 0, 'use_tgt': 1, 'use_fam': 1, 'use_ps': 1, 'C': 4, 'penalty': 'l2'}.\n",
      "[I 2020-03-30 00:19:22,194] Finished trial#146 resulted in value: 0.8680336206227193. Current best value is 0.8693032955087462 with parameters: {'use_log': 1, 'use_oh': 0, 'use_tgt': 1, 'use_fam': 1, 'use_ps': 1, 'C': 4, 'penalty': 'l2'}.\n",
      "[I 2020-03-30 00:19:22,560] Finished trial#147 resulted in value: 0.8675208257074086. Current best value is 0.8693032955087462 with parameters: {'use_log': 1, 'use_oh': 0, 'use_tgt': 1, 'use_fam': 1, 'use_ps': 1, 'C': 4, 'penalty': 'l2'}.\n",
      "[I 2020-03-30 00:19:22,975] Finished trial#148 resulted in value: 0.8693032955087462. Current best value is 0.8693032955087462 with parameters: {'use_log': 1, 'use_oh': 0, 'use_tgt': 1, 'use_fam': 1, 'use_ps': 1, 'C': 4, 'penalty': 'l2'}.\n",
      "[I 2020-03-30 00:19:23,353] Finished trial#149 resulted in value: 0.8693032955087462. Current best value is 0.8693032955087462 with parameters: {'use_log': 1, 'use_oh': 0, 'use_tgt': 1, 'use_fam': 1, 'use_ps': 1, 'C': 4, 'penalty': 'l2'}.\n",
      "[I 2020-03-30 00:19:23,733] Finished trial#150 resulted in value: 0.8682478675141148. Current best value is 0.8693032955087462 with parameters: {'use_log': 1, 'use_oh': 0, 'use_tgt': 1, 'use_fam': 1, 'use_ps': 1, 'C': 4, 'penalty': 'l2'}.\n",
      "[I 2020-03-30 00:19:24,120] Finished trial#151 resulted in value: 0.8686593901478596. Current best value is 0.8693032955087462 with parameters: {'use_log': 1, 'use_oh': 0, 'use_tgt': 1, 'use_fam': 1, 'use_ps': 1, 'C': 4, 'penalty': 'l2'}.\n",
      "[I 2020-03-30 00:19:24,519] Finished trial#152 resulted in value: 0.8678329617428149. Current best value is 0.8693032955087462 with parameters: {'use_log': 1, 'use_oh': 0, 'use_tgt': 1, 'use_fam': 1, 'use_ps': 1, 'C': 4, 'penalty': 'l2'}.\n",
      "[I 2020-03-30 00:19:24,897] Finished trial#153 resulted in value: 0.8678329617428149. Current best value is 0.8693032955087462 with parameters: {'use_log': 1, 'use_oh': 0, 'use_tgt': 1, 'use_fam': 1, 'use_ps': 1, 'C': 4, 'penalty': 'l2'}.\n",
      "[I 2020-03-30 00:19:25,352] Finished trial#154 resulted in value: 0.8675208257074086. Current best value is 0.8693032955087462 with parameters: {'use_log': 1, 'use_oh': 0, 'use_tgt': 1, 'use_fam': 1, 'use_ps': 1, 'C': 4, 'penalty': 'l2'}.\n",
      "[I 2020-03-30 00:19:25,738] Finished trial#155 resulted in value: 0.8680336206227193. Current best value is 0.8693032955087462 with parameters: {'use_log': 1, 'use_oh': 0, 'use_tgt': 1, 'use_fam': 1, 'use_ps': 1, 'C': 4, 'penalty': 'l2'}.\n",
      "[I 2020-03-30 00:19:26,082] Finished trial#156 resulted in value: 0.8686593901478596. Current best value is 0.8693032955087462 with parameters: {'use_log': 1, 'use_oh': 0, 'use_tgt': 1, 'use_fam': 1, 'use_ps': 1, 'C': 4, 'penalty': 'l2'}.\n",
      "[I 2020-03-30 00:19:26,459] Finished trial#157 resulted in value: 0.8650341641431787. Current best value is 0.8693032955087462 with parameters: {'use_log': 1, 'use_oh': 0, 'use_tgt': 1, 'use_fam': 1, 'use_ps': 1, 'C': 4, 'penalty': 'l2'}.\n",
      "[I 2020-03-30 00:19:26,845] Finished trial#158 resulted in value: 0.8675208257074086. Current best value is 0.8693032955087462 with parameters: {'use_log': 1, 'use_oh': 0, 'use_tgt': 1, 'use_fam': 1, 'use_ps': 1, 'C': 4, 'penalty': 'l2'}.\n",
      "[I 2020-03-30 00:19:27,261] Finished trial#159 resulted in value: 0.8693032955087462. Current best value is 0.8693032955087462 with parameters: {'use_log': 1, 'use_oh': 0, 'use_tgt': 1, 'use_fam': 1, 'use_ps': 1, 'C': 4, 'penalty': 'l2'}.\n",
      "[I 2020-03-30 00:19:27,652] Finished trial#160 resulted in value: 0.8680336206227193. Current best value is 0.8693032955087462 with parameters: {'use_log': 1, 'use_oh': 0, 'use_tgt': 1, 'use_fam': 1, 'use_ps': 1, 'C': 4, 'penalty': 'l2'}.\n",
      "[I 2020-03-30 00:19:28,039] Finished trial#161 resulted in value: 0.8693032955087462. Current best value is 0.8693032955087462 with parameters: {'use_log': 1, 'use_oh': 0, 'use_tgt': 1, 'use_fam': 1, 'use_ps': 1, 'C': 4, 'penalty': 'l2'}.\n",
      "[I 2020-03-30 00:19:28,459] Finished trial#162 resulted in value: 0.8686593901478596. Current best value is 0.8693032955087462 with parameters: {'use_log': 1, 'use_oh': 0, 'use_tgt': 1, 'use_fam': 1, 'use_ps': 1, 'C': 4, 'penalty': 'l2'}.\n",
      "[I 2020-03-30 00:19:28,845] Finished trial#163 resulted in value: 0.8669798010049583. Current best value is 0.8693032955087462 with parameters: {'use_log': 1, 'use_oh': 0, 'use_tgt': 1, 'use_fam': 1, 'use_ps': 1, 'C': 4, 'penalty': 'l2'}.\n",
      "[I 2020-03-30 00:19:29,358] Finished trial#164 resulted in value: 0.858316694951915. Current best value is 0.8693032955087462 with parameters: {'use_log': 1, 'use_oh': 0, 'use_tgt': 1, 'use_fam': 1, 'use_ps': 1, 'C': 4, 'penalty': 'l2'}.\n",
      "[I 2020-03-30 00:19:29,766] Finished trial#165 resulted in value: 0.7105877785542356. Current best value is 0.8693032955087462 with parameters: {'use_log': 1, 'use_oh': 0, 'use_tgt': 1, 'use_fam': 1, 'use_ps': 1, 'C': 4, 'penalty': 'l2'}.\n",
      "[I 2020-03-30 00:19:30,172] Finished trial#166 resulted in value: 0.8678329617428149. Current best value is 0.8693032955087462 with parameters: {'use_log': 1, 'use_oh': 0, 'use_tgt': 1, 'use_fam': 1, 'use_ps': 1, 'C': 4, 'penalty': 'l2'}.\n",
      "[I 2020-03-30 00:19:30,562] Finished trial#167 resulted in value: 0.8686593901478596. Current best value is 0.8693032955087462 with parameters: {'use_log': 1, 'use_oh': 0, 'use_tgt': 1, 'use_fam': 1, 'use_ps': 1, 'C': 4, 'penalty': 'l2'}.\n",
      "[I 2020-03-30 00:19:30,990] Finished trial#168 resulted in value: 0.8466112608565439. Current best value is 0.8693032955087462 with parameters: {'use_log': 1, 'use_oh': 0, 'use_tgt': 1, 'use_fam': 1, 'use_ps': 1, 'C': 4, 'penalty': 'l2'}.\n",
      "[I 2020-03-30 00:19:31,613] Finished trial#169 resulted in value: 0.8552008252637183. Current best value is 0.8693032955087462 with parameters: {'use_log': 1, 'use_oh': 0, 'use_tgt': 1, 'use_fam': 1, 'use_ps': 1, 'C': 4, 'penalty': 'l2'}.\n",
      "[I 2020-03-30 00:19:32,004] Finished trial#170 resulted in value: 0.8627424489478998. Current best value is 0.8693032955087462 with parameters: {'use_log': 1, 'use_oh': 0, 'use_tgt': 1, 'use_fam': 1, 'use_ps': 1, 'C': 4, 'penalty': 'l2'}.\n",
      "[I 2020-03-30 00:19:32,409] Finished trial#171 resulted in value: 0.8663427728417246. Current best value is 0.8693032955087462 with parameters: {'use_log': 1, 'use_oh': 0, 'use_tgt': 1, 'use_fam': 1, 'use_ps': 1, 'C': 4, 'penalty': 'l2'}.\n",
      "[I 2020-03-30 00:19:32,769] Finished trial#172 resulted in value: 0.7104848978957994. Current best value is 0.8693032955087462 with parameters: {'use_log': 1, 'use_oh': 0, 'use_tgt': 1, 'use_fam': 1, 'use_ps': 1, 'C': 4, 'penalty': 'l2'}.\n",
      "[I 2020-03-30 00:19:33,186] Finished trial#173 resulted in value: 0.857828580302375. Current best value is 0.8693032955087462 with parameters: {'use_log': 1, 'use_oh': 0, 'use_tgt': 1, 'use_fam': 1, 'use_ps': 1, 'C': 4, 'penalty': 'l2'}.\n",
      "[I 2020-03-30 00:19:33,601] Finished trial#174 resulted in value: 0.8693032955087462. Current best value is 0.8693032955087462 with parameters: {'use_log': 1, 'use_oh': 0, 'use_tgt': 1, 'use_fam': 1, 'use_ps': 1, 'C': 4, 'penalty': 'l2'}.\n",
      "[I 2020-03-30 00:19:34,196] Finished trial#175 resulted in value: 0.8639811764444888. Current best value is 0.8693032955087462 with parameters: {'use_log': 1, 'use_oh': 0, 'use_tgt': 1, 'use_fam': 1, 'use_ps': 1, 'C': 4, 'penalty': 'l2'}.\n",
      "[I 2020-03-30 00:19:34,607] Finished trial#176 resulted in value: 0.8649827515445964. Current best value is 0.8693032955087462 with parameters: {'use_log': 1, 'use_oh': 0, 'use_tgt': 1, 'use_fam': 1, 'use_ps': 1, 'C': 4, 'penalty': 'l2'}.\n",
      "[I 2020-03-30 00:19:34,992] Finished trial#177 resulted in value: 0.7051649418211263. Current best value is 0.8693032955087462 with parameters: {'use_log': 1, 'use_oh': 0, 'use_tgt': 1, 'use_fam': 1, 'use_ps': 1, 'C': 4, 'penalty': 'l2'}.\n",
      "[I 2020-03-30 00:19:35,377] Finished trial#178 resulted in value: 0.8490845007930963. Current best value is 0.8693032955087462 with parameters: {'use_log': 1, 'use_oh': 0, 'use_tgt': 1, 'use_fam': 1, 'use_ps': 1, 'C': 4, 'penalty': 'l2'}.\n",
      "[I 2020-03-30 00:19:35,779] Finished trial#179 resulted in value: 0.8693032955087462. Current best value is 0.8693032955087462 with parameters: {'use_log': 1, 'use_oh': 0, 'use_tgt': 1, 'use_fam': 1, 'use_ps': 1, 'C': 4, 'penalty': 'l2'}.\n",
      "[I 2020-03-30 00:19:36,216] Finished trial#180 resulted in value: 0.8652943884285603. Current best value is 0.8693032955087462 with parameters: {'use_log': 1, 'use_oh': 0, 'use_tgt': 1, 'use_fam': 1, 'use_ps': 1, 'C': 4, 'penalty': 'l2'}.\n",
      "[I 2020-03-30 00:19:36,730] Finished trial#181 resulted in value: 0.8677401750357726. Current best value is 0.8693032955087462 with parameters: {'use_log': 1, 'use_oh': 0, 'use_tgt': 1, 'use_fam': 1, 'use_ps': 1, 'C': 4, 'penalty': 'l2'}.\n",
      "[I 2020-03-30 00:19:37,168] Finished trial#182 resulted in value: 0.8541465064945151. Current best value is 0.8693032955087462 with parameters: {'use_log': 1, 'use_oh': 0, 'use_tgt': 1, 'use_fam': 1, 'use_ps': 1, 'C': 4, 'penalty': 'l2'}.\n",
      "[I 2020-03-30 00:19:37,596] Finished trial#183 resulted in value: 0.8592163322352. Current best value is 0.8693032955087462 with parameters: {'use_log': 1, 'use_oh': 0, 'use_tgt': 1, 'use_fam': 1, 'use_ps': 1, 'C': 4, 'penalty': 'l2'}.\n",
      "[I 2020-03-30 00:19:38,015] Finished trial#184 resulted in value: 0.8558324736836267. Current best value is 0.8693032955087462 with parameters: {'use_log': 1, 'use_oh': 0, 'use_tgt': 1, 'use_fam': 1, 'use_ps': 1, 'C': 4, 'penalty': 'l2'}.\n",
      "[I 2020-03-30 00:19:38,424] Finished trial#185 resulted in value: 0.8678329617428149. Current best value is 0.8693032955087462 with parameters: {'use_log': 1, 'use_oh': 0, 'use_tgt': 1, 'use_fam': 1, 'use_ps': 1, 'C': 4, 'penalty': 'l2'}.\n",
      "[I 2020-03-30 00:19:38,873] Finished trial#186 resulted in value: 0.8684192983039944. Current best value is 0.8693032955087462 with parameters: {'use_log': 1, 'use_oh': 0, 'use_tgt': 1, 'use_fam': 1, 'use_ps': 1, 'C': 4, 'penalty': 'l2'}.\n",
      "[I 2020-03-30 00:19:39,324] Finished trial#187 resulted in value: 0.8669798010049583. Current best value is 0.8693032955087462 with parameters: {'use_log': 1, 'use_oh': 0, 'use_tgt': 1, 'use_fam': 1, 'use_ps': 1, 'C': 4, 'penalty': 'l2'}.\n",
      "[I 2020-03-30 00:19:39,824] Finished trial#188 resulted in value: 0.7051649418211263. Current best value is 0.8693032955087462 with parameters: {'use_log': 1, 'use_oh': 0, 'use_tgt': 1, 'use_fam': 1, 'use_ps': 1, 'C': 4, 'penalty': 'l2'}.\n",
      "[I 2020-03-30 00:19:40,250] Finished trial#189 resulted in value: 0.8676506050824709. Current best value is 0.8693032955087462 with parameters: {'use_log': 1, 'use_oh': 0, 'use_tgt': 1, 'use_fam': 1, 'use_ps': 1, 'C': 4, 'penalty': 'l2'}.\n",
      "[I 2020-03-30 00:19:40,685] Finished trial#190 resulted in value: 0.8545074484487483. Current best value is 0.8693032955087462 with parameters: {'use_log': 1, 'use_oh': 0, 'use_tgt': 1, 'use_fam': 1, 'use_ps': 1, 'C': 4, 'penalty': 'l2'}.\n",
      "[I 2020-03-30 00:19:41,159] Finished trial#191 resulted in value: 0.8661370115248521. Current best value is 0.8693032955087462 with parameters: {'use_log': 1, 'use_oh': 0, 'use_tgt': 1, 'use_fam': 1, 'use_ps': 1, 'C': 4, 'penalty': 'l2'}.\n",
      "[I 2020-03-30 00:19:41,591] Finished trial#192 resulted in value: 0.8686593901478596. Current best value is 0.8693032955087462 with parameters: {'use_log': 1, 'use_oh': 0, 'use_tgt': 1, 'use_fam': 1, 'use_ps': 1, 'C': 4, 'penalty': 'l2'}.\n",
      "[I 2020-03-30 00:19:42,071] Finished trial#193 resulted in value: 0.8655534480272425. Current best value is 0.8693032955087462 with parameters: {'use_log': 1, 'use_oh': 0, 'use_tgt': 1, 'use_fam': 1, 'use_ps': 1, 'C': 4, 'penalty': 'l2'}.\n",
      "[I 2020-03-30 00:19:42,609] Finished trial#194 resulted in value: 0.7104848978957994. Current best value is 0.8693032955087462 with parameters: {'use_log': 1, 'use_oh': 0, 'use_tgt': 1, 'use_fam': 1, 'use_ps': 1, 'C': 4, 'penalty': 'l2'}.\n",
      "[I 2020-03-30 00:19:43,091] Finished trial#195 resulted in value: 0.8630757157277074. Current best value is 0.8693032955087462 with parameters: {'use_log': 1, 'use_oh': 0, 'use_tgt': 1, 'use_fam': 1, 'use_ps': 1, 'C': 4, 'penalty': 'l2'}.\n",
      "[I 2020-03-30 00:19:43,537] Finished trial#196 resulted in value: 0.8534754805719167. Current best value is 0.8693032955087462 with parameters: {'use_log': 1, 'use_oh': 0, 'use_tgt': 1, 'use_fam': 1, 'use_ps': 1, 'C': 4, 'penalty': 'l2'}.\n",
      "[I 2020-03-30 00:19:43,992] Finished trial#197 resulted in value: 0.8693032955087462. Current best value is 0.8693032955087462 with parameters: {'use_log': 1, 'use_oh': 0, 'use_tgt': 1, 'use_fam': 1, 'use_ps': 1, 'C': 4, 'penalty': 'l2'}.\n",
      "[I 2020-03-30 00:19:44,531] Finished trial#198 resulted in value: 0.8571682584051556. Current best value is 0.8693032955087462 with parameters: {'use_log': 1, 'use_oh': 0, 'use_tgt': 1, 'use_fam': 1, 'use_ps': 1, 'C': 4, 'penalty': 'l2'}.\n",
      "[I 2020-03-30 00:19:45,016] Finished trial#199 resulted in value: 0.8592105088017037. Current best value is 0.8693032955087462 with parameters: {'use_log': 1, 'use_oh': 0, 'use_tgt': 1, 'use_fam': 1, 'use_ps': 1, 'C': 4, 'penalty': 'l2'}.\n",
      "[I 2020-03-30 00:19:45,456] Finished trial#200 resulted in value: 0.8693032955087462. Current best value is 0.8693032955087462 with parameters: {'use_log': 1, 'use_oh': 0, 'use_tgt': 1, 'use_fam': 1, 'use_ps': 1, 'C': 4, 'penalty': 'l2'}.\n",
      "[I 2020-03-30 00:19:45,898] Finished trial#201 resulted in value: 0.8623289851696561. Current best value is 0.8693032955087462 with parameters: {'use_log': 1, 'use_oh': 0, 'use_tgt': 1, 'use_fam': 1, 'use_ps': 1, 'C': 4, 'penalty': 'l2'}.\n",
      "[I 2020-03-30 00:19:46,303] Finished trial#202 resulted in value: 0.7104848978957994. Current best value is 0.8693032955087462 with parameters: {'use_log': 1, 'use_oh': 0, 'use_tgt': 1, 'use_fam': 1, 'use_ps': 1, 'C': 4, 'penalty': 'l2'}.\n",
      "[I 2020-03-30 00:19:46,750] Finished trial#203 resulted in value: 0.8538475702417003. Current best value is 0.8693032955087462 with parameters: {'use_log': 1, 'use_oh': 0, 'use_tgt': 1, 'use_fam': 1, 'use_ps': 1, 'C': 4, 'penalty': 'l2'}.\n"
     ]
    },
    {
     "name": "stderr",
     "output_type": "stream",
     "text": [
      "[I 2020-03-30 00:19:47,400] Finished trial#204 resulted in value: 0.8623996982906836. Current best value is 0.8693032955087462 with parameters: {'use_log': 1, 'use_oh': 0, 'use_tgt': 1, 'use_fam': 1, 'use_ps': 1, 'C': 4, 'penalty': 'l2'}.\n",
      "[I 2020-03-30 00:19:47,872] Finished trial#205 resulted in value: 0.8587058112320166. Current best value is 0.8693032955087462 with parameters: {'use_log': 1, 'use_oh': 0, 'use_tgt': 1, 'use_fam': 1, 'use_ps': 1, 'C': 4, 'penalty': 'l2'}.\n",
      "[I 2020-03-30 00:19:48,284] Finished trial#206 resulted in value: 0.7104848978957994. Current best value is 0.8693032955087462 with parameters: {'use_log': 1, 'use_oh': 0, 'use_tgt': 1, 'use_fam': 1, 'use_ps': 1, 'C': 4, 'penalty': 'l2'}.\n",
      "[I 2020-03-30 00:19:48,755] Finished trial#207 resulted in value: 0.8525739021441326. Current best value is 0.8693032955087462 with parameters: {'use_log': 1, 'use_oh': 0, 'use_tgt': 1, 'use_fam': 1, 'use_ps': 1, 'C': 4, 'penalty': 'l2'}.\n",
      "[I 2020-03-30 00:19:49,254] Finished trial#208 resulted in value: 0.8649827515445964. Current best value is 0.8693032955087462 with parameters: {'use_log': 1, 'use_oh': 0, 'use_tgt': 1, 'use_fam': 1, 'use_ps': 1, 'C': 4, 'penalty': 'l2'}.\n",
      "[I 2020-03-30 00:19:49,729] Finished trial#209 resulted in value: 0.8686593901478596. Current best value is 0.8693032955087462 with parameters: {'use_log': 1, 'use_oh': 0, 'use_tgt': 1, 'use_fam': 1, 'use_ps': 1, 'C': 4, 'penalty': 'l2'}.\n",
      "[I 2020-03-30 00:19:50,232] Finished trial#210 resulted in value: 0.8646247490377469. Current best value is 0.8693032955087462 with parameters: {'use_log': 1, 'use_oh': 0, 'use_tgt': 1, 'use_fam': 1, 'use_ps': 1, 'C': 4, 'penalty': 'l2'}.\n",
      "[I 2020-03-30 00:19:50,725] Finished trial#211 resulted in value: 0.8611819906159528. Current best value is 0.8693032955087462 with parameters: {'use_log': 1, 'use_oh': 0, 'use_tgt': 1, 'use_fam': 1, 'use_ps': 1, 'C': 4, 'penalty': 'l2'}.\n",
      "[I 2020-03-30 00:19:51,223] Finished trial#212 resulted in value: 0.7049591805042539. Current best value is 0.8693032955087462 with parameters: {'use_log': 1, 'use_oh': 0, 'use_tgt': 1, 'use_fam': 1, 'use_ps': 1, 'C': 4, 'penalty': 'l2'}.\n",
      "[I 2020-03-30 00:19:51,677] Finished trial#213 resulted in value: 0.8693032955087462. Current best value is 0.8693032955087462 with parameters: {'use_log': 1, 'use_oh': 0, 'use_tgt': 1, 'use_fam': 1, 'use_ps': 1, 'C': 4, 'penalty': 'l2'}.\n",
      "[I 2020-03-30 00:19:52,132] Finished trial#214 resulted in value: 0.8650341641431787. Current best value is 0.8693032955087462 with parameters: {'use_log': 1, 'use_oh': 0, 'use_tgt': 1, 'use_fam': 1, 'use_ps': 1, 'C': 4, 'penalty': 'l2'}.\n",
      "[I 2020-03-30 00:19:52,573] Finished trial#215 resulted in value: 0.8678349028873138. Current best value is 0.8693032955087462 with parameters: {'use_log': 1, 'use_oh': 0, 'use_tgt': 1, 'use_fam': 1, 'use_ps': 1, 'C': 4, 'penalty': 'l2'}.\n",
      "[I 2020-03-30 00:19:53,026] Finished trial#216 resulted in value: 0.8570623828380641. Current best value is 0.8693032955087462 with parameters: {'use_log': 1, 'use_oh': 0, 'use_tgt': 1, 'use_fam': 1, 'use_ps': 1, 'C': 4, 'penalty': 'l2'}.\n",
      "[I 2020-03-30 00:19:53,595] Finished trial#217 resulted in value: 0.858316694951915. Current best value is 0.8693032955087462 with parameters: {'use_log': 1, 'use_oh': 0, 'use_tgt': 1, 'use_fam': 1, 'use_ps': 1, 'C': 4, 'penalty': 'l2'}.\n",
      "[I 2020-03-30 00:19:54,041] Finished trial#218 resulted in value: 0.864334797510898. Current best value is 0.8693032955087462 with parameters: {'use_log': 1, 'use_oh': 0, 'use_tgt': 1, 'use_fam': 1, 'use_ps': 1, 'C': 4, 'penalty': 'l2'}.\n",
      "[I 2020-03-30 00:19:54,469] Finished trial#219 resulted in value: 0.8693032955087462. Current best value is 0.8693032955087462 with parameters: {'use_log': 1, 'use_oh': 0, 'use_tgt': 1, 'use_fam': 1, 'use_ps': 1, 'C': 4, 'penalty': 'l2'}.\n",
      "[I 2020-03-30 00:19:54,975] Finished trial#220 resulted in value: 0.8680336206227193. Current best value is 0.8693032955087462 with parameters: {'use_log': 1, 'use_oh': 0, 'use_tgt': 1, 'use_fam': 1, 'use_ps': 1, 'C': 4, 'penalty': 'l2'}.\n",
      "[I 2020-03-30 00:19:55,474] Finished trial#221 resulted in value: 0.7104848978957994. Current best value is 0.8693032955087462 with parameters: {'use_log': 1, 'use_oh': 0, 'use_tgt': 1, 'use_fam': 1, 'use_ps': 1, 'C': 4, 'penalty': 'l2'}.\n",
      "[I 2020-03-30 00:19:55,979] Finished trial#222 resulted in value: 0.8531256308719621. Current best value is 0.8693032955087462 with parameters: {'use_log': 1, 'use_oh': 0, 'use_tgt': 1, 'use_fam': 1, 'use_ps': 1, 'C': 4, 'penalty': 'l2'}.\n",
      "[I 2020-03-30 00:19:56,688] Finished trial#223 resulted in value: 0.8561503776912582. Current best value is 0.8693032955087462 with parameters: {'use_log': 1, 'use_oh': 0, 'use_tgt': 1, 'use_fam': 1, 'use_ps': 1, 'C': 4, 'penalty': 'l2'}.\n",
      "[I 2020-03-30 00:19:57,251] Finished trial#224 resulted in value: 0.8654557252670461. Current best value is 0.8693032955087462 with parameters: {'use_log': 1, 'use_oh': 0, 'use_tgt': 1, 'use_fam': 1, 'use_ps': 1, 'C': 4, 'penalty': 'l2'}.\n",
      "[I 2020-03-30 00:19:57,755] Finished trial#225 resulted in value: 0.8680336206227193. Current best value is 0.8693032955087462 with parameters: {'use_log': 1, 'use_oh': 0, 'use_tgt': 1, 'use_fam': 1, 'use_ps': 1, 'C': 4, 'penalty': 'l2'}.\n",
      "[I 2020-03-30 00:19:58,510] Finished trial#226 resulted in value: 0.704847481503666. Current best value is 0.8693032955087462 with parameters: {'use_log': 1, 'use_oh': 0, 'use_tgt': 1, 'use_fam': 1, 'use_ps': 1, 'C': 4, 'penalty': 'l2'}.\n",
      "[I 2020-03-30 00:19:59,034] Finished trial#227 resulted in value: 0.8686593901478596. Current best value is 0.8693032955087462 with parameters: {'use_log': 1, 'use_oh': 0, 'use_tgt': 1, 'use_fam': 1, 'use_ps': 1, 'C': 4, 'penalty': 'l2'}.\n",
      "[I 2020-03-30 00:19:59,558] Finished trial#228 resulted in value: 0.857830854214502. Current best value is 0.8693032955087462 with parameters: {'use_log': 1, 'use_oh': 0, 'use_tgt': 1, 'use_fam': 1, 'use_ps': 1, 'C': 4, 'penalty': 'l2'}.\n",
      "[I 2020-03-30 00:20:00,066] Finished trial#229 resulted in value: 0.8663427728417246. Current best value is 0.8693032955087462 with parameters: {'use_log': 1, 'use_oh': 0, 'use_tgt': 1, 'use_fam': 1, 'use_ps': 1, 'C': 4, 'penalty': 'l2'}.\n",
      "[I 2020-03-30 00:20:00,623] Finished trial#230 resulted in value: 0.8624269297749383. Current best value is 0.8693032955087462 with parameters: {'use_log': 1, 'use_oh': 0, 'use_tgt': 1, 'use_fam': 1, 'use_ps': 1, 'C': 4, 'penalty': 'l2'}.\n",
      "[I 2020-03-30 00:20:01,019] Finished trial#231 resulted in value: 0.8686593901478596. Current best value is 0.8693032955087462 with parameters: {'use_log': 1, 'use_oh': 0, 'use_tgt': 1, 'use_fam': 1, 'use_ps': 1, 'C': 4, 'penalty': 'l2'}.\n",
      "[I 2020-03-30 00:20:01,416] Finished trial#232 resulted in value: 0.8676506050824709. Current best value is 0.8693032955087462 with parameters: {'use_log': 1, 'use_oh': 0, 'use_tgt': 1, 'use_fam': 1, 'use_ps': 1, 'C': 4, 'penalty': 'l2'}.\n",
      "[I 2020-03-30 00:20:01,749] Finished trial#233 resulted in value: 0.7105877785542356. Current best value is 0.8693032955087462 with parameters: {'use_log': 1, 'use_oh': 0, 'use_tgt': 1, 'use_fam': 1, 'use_ps': 1, 'C': 4, 'penalty': 'l2'}.\n",
      "[I 2020-03-30 00:20:02,122] Finished trial#234 resulted in value: 0.8680336206227193. Current best value is 0.8693032955087462 with parameters: {'use_log': 1, 'use_oh': 0, 'use_tgt': 1, 'use_fam': 1, 'use_ps': 1, 'C': 4, 'penalty': 'l2'}.\n",
      "[I 2020-03-30 00:20:02,775] Finished trial#235 resulted in value: 0.8678349028873138. Current best value is 0.8693032955087462 with parameters: {'use_log': 1, 'use_oh': 0, 'use_tgt': 1, 'use_fam': 1, 'use_ps': 1, 'C': 4, 'penalty': 'l2'}.\n",
      "[I 2020-03-30 00:20:03,660] Finished trial#236 resulted in value: 0.8562483222965402. Current best value is 0.8693032955087462 with parameters: {'use_log': 1, 'use_oh': 0, 'use_tgt': 1, 'use_fam': 1, 'use_ps': 1, 'C': 4, 'penalty': 'l2'}.\n",
      "[I 2020-03-30 00:20:04,108] Finished trial#237 resulted in value: 0.8675208257074086. Current best value is 0.8693032955087462 with parameters: {'use_log': 1, 'use_oh': 0, 'use_tgt': 1, 'use_fam': 1, 'use_ps': 1, 'C': 4, 'penalty': 'l2'}.\n",
      "[I 2020-03-30 00:20:04,418] Finished trial#238 resulted in value: 0.8543909797788205. Current best value is 0.8693032955087462 with parameters: {'use_log': 1, 'use_oh': 0, 'use_tgt': 1, 'use_fam': 1, 'use_ps': 1, 'C': 4, 'penalty': 'l2'}.\n",
      "[I 2020-03-30 00:20:04,726] Finished trial#239 resulted in value: 0.8693032955087462. Current best value is 0.8693032955087462 with parameters: {'use_log': 1, 'use_oh': 0, 'use_tgt': 1, 'use_fam': 1, 'use_ps': 1, 'C': 4, 'penalty': 'l2'}.\n",
      "[I 2020-03-30 00:20:04,993] Finished trial#240 resulted in value: 0.8669798010049583. Current best value is 0.8693032955087462 with parameters: {'use_log': 1, 'use_oh': 0, 'use_tgt': 1, 'use_fam': 1, 'use_ps': 1, 'C': 4, 'penalty': 'l2'}.\n",
      "[I 2020-03-30 00:20:05,240] Finished trial#241 resulted in value: 0.8687702017681052. Current best value is 0.8693032955087462 with parameters: {'use_log': 1, 'use_oh': 0, 'use_tgt': 1, 'use_fam': 1, 'use_ps': 1, 'C': 4, 'penalty': 'l2'}.\n",
      "[I 2020-03-30 00:20:05,547] Finished trial#242 resulted in value: 0.8677401750357726. Current best value is 0.8693032955087462 with parameters: {'use_log': 1, 'use_oh': 0, 'use_tgt': 1, 'use_fam': 1, 'use_ps': 1, 'C': 4, 'penalty': 'l2'}.\n",
      "[I 2020-03-30 00:20:05,794] Finished trial#243 resulted in value: 0.7051649418211263. Current best value is 0.8693032955087462 with parameters: {'use_log': 1, 'use_oh': 0, 'use_tgt': 1, 'use_fam': 1, 'use_ps': 1, 'C': 4, 'penalty': 'l2'}.\n",
      "[I 2020-03-30 00:20:06,043] Finished trial#244 resulted in value: 0.8663427728417246. Current best value is 0.8693032955087462 with parameters: {'use_log': 1, 'use_oh': 0, 'use_tgt': 1, 'use_fam': 1, 'use_ps': 1, 'C': 4, 'penalty': 'l2'}.\n",
      "[I 2020-03-30 00:20:06,291] Finished trial#245 resulted in value: 0.8651458631437666. Current best value is 0.8693032955087462 with parameters: {'use_log': 1, 'use_oh': 0, 'use_tgt': 1, 'use_fam': 1, 'use_ps': 1, 'C': 4, 'penalty': 'l2'}.\n",
      "[I 2020-03-30 00:20:06,554] Finished trial#246 resulted in value: 0.8534754805719167. Current best value is 0.8693032955087462 with parameters: {'use_log': 1, 'use_oh': 0, 'use_tgt': 1, 'use_fam': 1, 'use_ps': 1, 'C': 4, 'penalty': 'l2'}.\n",
      "[I 2020-03-30 00:20:06,814] Finished trial#247 resulted in value: 0.8676506050824709. Current best value is 0.8693032955087462 with parameters: {'use_log': 1, 'use_oh': 0, 'use_tgt': 1, 'use_fam': 1, 'use_ps': 1, 'C': 4, 'penalty': 'l2'}.\n",
      "[I 2020-03-30 00:20:07,181] Finished trial#248 resulted in value: 0.855619225095116. Current best value is 0.8693032955087462 with parameters: {'use_log': 1, 'use_oh': 0, 'use_tgt': 1, 'use_fam': 1, 'use_ps': 1, 'C': 4, 'penalty': 'l2'}.\n",
      "[I 2020-03-30 00:20:07,452] Finished trial#249 resulted in value: 0.8610775015806462. Current best value is 0.8693032955087462 with parameters: {'use_log': 1, 'use_oh': 0, 'use_tgt': 1, 'use_fam': 1, 'use_ps': 1, 'C': 4, 'penalty': 'l2'}.\n",
      "[I 2020-03-30 00:20:07,680] Finished trial#250 resulted in value: 0.7104848978957994. Current best value is 0.8693032955087462 with parameters: {'use_log': 1, 'use_oh': 0, 'use_tgt': 1, 'use_fam': 1, 'use_ps': 1, 'C': 4, 'penalty': 'l2'}.\n",
      "[I 2020-03-30 00:20:07,970] Finished trial#251 resulted in value: 0.8607685268377091. Current best value is 0.8693032955087462 with parameters: {'use_log': 1, 'use_oh': 0, 'use_tgt': 1, 'use_fam': 1, 'use_ps': 1, 'C': 4, 'penalty': 'l2'}.\n",
      "[I 2020-03-30 00:20:08,210] Finished trial#252 resulted in value: 0.8680336206227193. Current best value is 0.8693032955087462 with parameters: {'use_log': 1, 'use_oh': 0, 'use_tgt': 1, 'use_fam': 1, 'use_ps': 1, 'C': 4, 'penalty': 'l2'}.\n",
      "[I 2020-03-30 00:20:08,549] Finished trial#253 resulted in value: 0.8547132097656206. Current best value is 0.8693032955087462 with parameters: {'use_log': 1, 'use_oh': 0, 'use_tgt': 1, 'use_fam': 1, 'use_ps': 1, 'C': 4, 'penalty': 'l2'}.\n",
      "[I 2020-03-30 00:20:08,827] Finished trial#254 resulted in value: 0.8630757157277074. Current best value is 0.8693032955087462 with parameters: {'use_log': 1, 'use_oh': 0, 'use_tgt': 1, 'use_fam': 1, 'use_ps': 1, 'C': 4, 'penalty': 'l2'}.\n",
      "[I 2020-03-30 00:20:09,079] Finished trial#255 resulted in value: 0.7051649418211263. Current best value is 0.8693032955087462 with parameters: {'use_log': 1, 'use_oh': 0, 'use_tgt': 1, 'use_fam': 1, 'use_ps': 1, 'C': 4, 'penalty': 'l2'}.\n"
     ]
    }
   ],
   "source": [
    "study = optuna.create_study(direction='maximize')\n",
    "study.optimize(objective, n_trials=256)"
   ]
  },
  {
   "cell_type": "code",
   "execution_count": 24,
   "metadata": {},
   "outputs": [
    {
     "name": "stdout",
     "output_type": "stream",
     "text": [
      "{'use_log': 1, 'use_oh': 0, 'use_tgt': 1, 'use_fam': 1, 'use_ps': 1, 'C': 4, 'penalty': 'l2'}\n",
      "0.8693032955087462\n"
     ]
    }
   ],
   "source": [
    "print(study.best_params)\n",
    "print(study.best_value)"
   ]
  },
  {
   "cell_type": "code",
   "execution_count": 29,
   "metadata": {},
   "outputs": [],
   "source": [
    "def objective(trial):\n",
    "    param_grid = {\n",
    "        'C' : trial.suggest_uniform(\"C\", 3, 5),\n",
    "        'penalty': trial.suggest_categorical('penalty', ['l1', 'l2']),\n",
    "        \"random_state\": 0\n",
    "    }\n",
    "    train_X, train_y, test_X = get_mart(1,0,1,1,1)\n",
    "    \n",
    "    model = LogisticRegression(**param_grid)\n",
    "    kf = StratifiedKFold(n_splits=5, shuffle=True, random_state=0)\n",
    "    scores = cross_validate(model, X=train_X, y=train_y, cv=kf, scoring=\"roc_auc\")\n",
    "    auc = scores['test_score'].mean()\n",
    "    \n",
    "    return auc"
   ]
  },
  {
   "cell_type": "code",
   "execution_count": 30,
   "metadata": {},
   "outputs": [
    {
     "name": "stderr",
     "output_type": "stream",
     "text": [
      "[I 2020-03-31 20:33:58,902] Finished trial#0 resulted in value: 0.8691984737058112. Current best value is 0.8691984737058112 with parameters: {'C': 3.9666535073022597, 'penalty': 'l2'}.\n",
      "[I 2020-03-31 20:33:59,082] Finished trial#1 resulted in value: 0.860160948609586. Current best value is 0.8691984737058112 with parameters: {'C': 3.9666535073022597, 'penalty': 'l2'}.\n",
      "[I 2020-03-31 20:33:59,251] Finished trial#2 resulted in value: 0.8631642319168524. Current best value is 0.8691984737058112 with parameters: {'C': 3.9666535073022597, 'penalty': 'l2'}.\n",
      "[I 2020-03-31 20:33:59,416] Finished trial#3 resulted in value: 0.8663790999744878. Current best value is 0.8691984737058112 with parameters: {'C': 3.9666535073022597, 'penalty': 'l2'}.\n",
      "[I 2020-03-31 20:33:59,588] Finished trial#4 resulted in value: 0.8613935753663217. Current best value is 0.8691984737058112 with parameters: {'C': 3.9666535073022597, 'penalty': 'l2'}.\n",
      "[I 2020-03-31 20:33:59,753] Finished trial#5 resulted in value: 0.8676392355218351. Current best value is 0.8691984737058112 with parameters: {'C': 3.9666535073022597, 'penalty': 'l2'}.\n",
      "[I 2020-03-31 20:33:59,893] Finished trial#6 resulted in value: 0.8635796368395949. Current best value is 0.8691984737058112 with parameters: {'C': 3.9666535073022597, 'penalty': 'l2'}.\n",
      "[I 2020-03-31 20:34:00,022] Finished trial#7 resulted in value: 0.8685545683449247. Current best value is 0.8691984737058112 with parameters: {'C': 3.9666535073022597, 'penalty': 'l2'}.\n",
      "[I 2020-03-31 20:34:00,180] Finished trial#8 resulted in value: 0.8677440573247701. Current best value is 0.8691984737058112 with parameters: {'C': 3.9666535073022597, 'penalty': 'l2'}.\n",
      "[I 2020-03-31 20:34:00,280] Finished trial#9 resulted in value: 0.867930739964283. Current best value is 0.8691984737058112 with parameters: {'C': 3.9666535073022597, 'penalty': 'l2'}.\n",
      "[I 2020-03-31 20:34:00,427] Finished trial#10 resulted in value: 0.8691984737058112. Current best value is 0.8691984737058112 with parameters: {'C': 3.9666535073022597, 'penalty': 'l2'}.\n",
      "[I 2020-03-31 20:34:00,560] Finished trial#11 resulted in value: 0.8689779042294766. Current best value is 0.8691984737058112 with parameters: {'C': 3.9666535073022597, 'penalty': 'l2'}.\n",
      "[I 2020-03-31 20:34:00,715] Finished trial#12 resulted in value: 0.8688820671525075. Current best value is 0.8691984737058112 with parameters: {'C': 3.9666535073022597, 'penalty': 'l2'}.\n",
      "[I 2020-03-31 20:34:00,852] Finished trial#13 resulted in value: 0.8690827260324117. Current best value is 0.8691984737058112 with parameters: {'C': 3.9666535073022597, 'penalty': 'l2'}.\n",
      "[I 2020-03-31 20:34:00,957] Finished trial#14 resulted in value: 0.8689849478109437. Current best value is 0.8691984737058112 with parameters: {'C': 3.9666535073022597, 'penalty': 'l2'}.\n",
      "[I 2020-03-31 20:34:01,087] Finished trial#15 resulted in value: 0.8686653799651702. Current best value is 0.8691984737058112 with parameters: {'C': 3.9666535073022597, 'penalty': 'l2'}.\n",
      "[I 2020-03-31 20:34:01,244] Finished trial#16 resulted in value: 0.8690867747052234. Current best value is 0.8691984737058112 with parameters: {'C': 3.9666535073022597, 'penalty': 'l2'}.\n",
      "[I 2020-03-31 20:34:01,377] Finished trial#17 resulted in value: 0.8691954787971559. Current best value is 0.8691984737058112 with parameters: {'C': 3.9666535073022597, 'penalty': 'l2'}.\n",
      "[I 2020-03-31 20:34:01,547] Finished trial#18 resulted in value: 0.8692994132197487. Current best value is 0.8692994132197487 with parameters: {'C': 3.8223493171566783, 'penalty': 'l2'}.\n",
      "[I 2020-03-31 20:34:01,669] Finished trial#19 resulted in value: 0.8683549632291772. Current best value is 0.8692994132197487 with parameters: {'C': 3.8223493171566783, 'penalty': 'l2'}.\n",
      "[I 2020-03-31 20:34:01,803] Finished trial#20 resulted in value: 0.8689808991381319. Current best value is 0.8692994132197487 with parameters: {'C': 3.8223493171566783, 'penalty': 'l2'}.\n",
      "[I 2020-03-31 20:34:01,934] Finished trial#21 resulted in value: 0.8692994132197487. Current best value is 0.8692994132197487 with parameters: {'C': 3.8223493171566783, 'penalty': 'l2'}.\n",
      "[I 2020-03-31 20:34:02,042] Finished trial#22 resulted in value: 0.8691945914168138. Current best value is 0.8692994132197487 with parameters: {'C': 3.8223493171566783, 'penalty': 'l2'}.\n",
      "[I 2020-03-31 20:34:02,196] Finished trial#23 resulted in value: 0.8686724235466372. Current best value is 0.8692994132197487 with parameters: {'C': 3.8223493171566783, 'penalty': 'l2'}.\n",
      "[I 2020-03-31 20:34:02,306] Finished trial#24 resulted in value: 0.8692964183110934. Current best value is 0.8692994132197487 with parameters: {'C': 3.8223493171566783, 'penalty': 'l2'}.\n",
      "[I 2020-03-31 20:34:02,452] Finished trial#25 resulted in value: 0.8679326811087819. Current best value is 0.8692994132197487 with parameters: {'C': 3.8223493171566783, 'penalty': 'l2'}.\n",
      "[I 2020-03-31 20:34:02,634] Finished trial#26 resulted in value: 0.8689808991381319. Current best value is 0.8692994132197487 with parameters: {'C': 3.8223493171566783, 'penalty': 'l2'}.\n",
      "[I 2020-03-31 20:34:02,785] Finished trial#27 resulted in value: 0.8689849478109437. Current best value is 0.8692994132197487 with parameters: {'C': 3.8223493171566783, 'penalty': 'l2'}.\n",
      "[I 2020-03-31 20:34:02,960] Finished trial#28 resulted in value: 0.8689779042294766. Current best value is 0.8692994132197487 with parameters: {'C': 3.8223493171566783, 'penalty': 'l2'}.\n",
      "[I 2020-03-31 20:34:03,114] Finished trial#29 resulted in value: 0.8691984737058112. Current best value is 0.8692994132197487 with parameters: {'C': 3.8223493171566783, 'penalty': 'l2'}.\n",
      "[I 2020-03-31 20:34:03,267] Finished trial#30 resulted in value: 0.8686604439120164. Current best value is 0.8692994132197487 with parameters: {'C': 3.8223493171566783, 'penalty': 'l2'}.\n",
      "[I 2020-03-31 20:34:03,481] Finished trial#31 resulted in value: 0.8662742781715528. Current best value is 0.8692994132197487 with parameters: {'C': 3.8223493171566783, 'penalty': 'l2'}.\n",
      "[I 2020-03-31 20:34:03,663] Finished trial#32 resulted in value: 0.869190542744002. Current best value is 0.8692994132197487 with parameters: {'C': 3.8223493171566783, 'penalty': 'l2'}.\n",
      "[I 2020-03-31 20:34:03,860] Finished trial#33 resulted in value: 0.8677421161802712. Current best value is 0.8692994132197487 with parameters: {'C': 3.8223493171566783, 'penalty': 'l2'}.\n",
      "[I 2020-03-31 20:34:04,012] Finished trial#34 resulted in value: 0.8644037358712412. Current best value is 0.8692994132197487 with parameters: {'C': 3.8223493171566783, 'penalty': 'l2'}.\n",
      "[I 2020-03-31 20:34:04,173] Finished trial#35 resulted in value: 0.8686724235466373. Current best value is 0.8692994132197487 with parameters: {'C': 3.8223493171566783, 'penalty': 'l2'}.\n",
      "[I 2020-03-31 20:34:04,345] Finished trial#36 resulted in value: 0.8672158996372833. Current best value is 0.8692994132197487 with parameters: {'C': 3.8223493171566783, 'penalty': 'l2'}.\n",
      "[I 2020-03-31 20:34:04,560] Finished trial#37 resulted in value: 0.8692964183110934. Current best value is 0.8692994132197487 with parameters: {'C': 3.8223493171566783, 'penalty': 'l2'}.\n",
      "[I 2020-03-31 20:34:04,737] Finished trial#38 resulted in value: 0.8630564152052621. Current best value is 0.8692994132197487 with parameters: {'C': 3.8223493171566783, 'penalty': 'l2'}.\n",
      "[I 2020-03-31 20:34:04,874] Finished trial#39 resulted in value: 0.8691954787971559. Current best value is 0.8692994132197487 with parameters: {'C': 3.8223493171566783, 'penalty': 'l2'}.\n",
      "[I 2020-03-31 20:34:04,992] Finished trial#40 resulted in value: 0.8690827260324117. Current best value is 0.8692994132197487 with parameters: {'C': 3.8223493171566783, 'penalty': 'l2'}.\n",
      "[I 2020-03-31 20:34:05,209] Finished trial#41 resulted in value: 0.8608781183099842. Current best value is 0.8692994132197487 with parameters: {'C': 3.8223493171566783, 'penalty': 'l2'}.\n",
      "[I 2020-03-31 20:34:05,371] Finished trial#42 resulted in value: 0.8682501414262422. Current best value is 0.8692994132197487 with parameters: {'C': 3.8223493171566783, 'penalty': 'l2'}.\n",
      "[I 2020-03-31 20:34:05,615] Finished trial#43 resulted in value: 0.867930739964283. Current best value is 0.8692994132197487 with parameters: {'C': 3.8223493171566783, 'penalty': 'l2'}.\n",
      "[I 2020-03-31 20:34:05,818] Finished trial#44 resulted in value: 0.8688750235710403. Current best value is 0.8692994132197487 with parameters: {'C': 3.8223493171566783, 'penalty': 'l2'}.\n",
      "[I 2020-03-31 20:34:06,037] Finished trial#45 resulted in value: 0.8677440573247701. Current best value is 0.8692994132197487 with parameters: {'C': 3.8223493171566783, 'penalty': 'l2'}.\n",
      "[I 2020-03-31 20:34:06,149] Finished trial#46 resulted in value: 0.8688820671525075. Current best value is 0.8692994132197487 with parameters: {'C': 3.8223493171566783, 'penalty': 'l2'}.\n",
      "[I 2020-03-31 20:34:06,323] Finished trial#47 resulted in value: 0.8689779042294766. Current best value is 0.8692994132197487 with parameters: {'C': 3.8223493171566783, 'penalty': 'l2'}.\n",
      "[I 2020-03-31 20:34:06,446] Finished trial#48 resulted in value: 0.8693032955087462. Current best value is 0.8693032955087462 with parameters: {'C': 3.984355392365096, 'penalty': 'l2'}.\n",
      "[I 2020-03-31 20:34:06,660] Finished trial#49 resulted in value: 0.8622264927401198. Current best value is 0.8693032955087462 with parameters: {'C': 3.984355392365096, 'penalty': 'l2'}.\n",
      "[I 2020-03-31 20:34:06,828] Finished trial#50 resulted in value: 0.8691984737058112. Current best value is 0.8693032955087462 with parameters: {'C': 3.984355392365096, 'penalty': 'l2'}.\n",
      "[I 2020-03-31 20:34:06,997] Finished trial#51 resulted in value: 0.8686604439120164. Current best value is 0.8693032955087462 with parameters: {'C': 3.984355392365096, 'penalty': 'l2'}.\n",
      "[I 2020-03-31 20:34:07,177] Finished trial#52 resulted in value: 0.8692983594555923. Current best value is 0.8693032955087462 with parameters: {'C': 3.984355392365096, 'penalty': 'l2'}.\n",
      "[I 2020-03-31 20:34:07,346] Finished trial#53 resulted in value: 0.8690897696138787. Current best value is 0.8693032955087462 with parameters: {'C': 3.984355392365096, 'penalty': 'l2'}.\n",
      "[I 2020-03-31 20:34:07,500] Finished trial#54 resulted in value: 0.8691984737058112. Current best value is 0.8693032955087462 with parameters: {'C': 3.984355392365096, 'penalty': 'l2'}.\n",
      "[I 2020-03-31 20:34:07,732] Finished trial#55 resulted in value: 0.8656501170232825. Current best value is 0.8693032955087462 with parameters: {'C': 3.984355392365096, 'penalty': 'l2'}.\n",
      "[I 2020-03-31 20:34:07,873] Finished trial#56 resulted in value: 0.86876720685945. Current best value is 0.8693032955087462 with parameters: {'C': 3.984355392365096, 'penalty': 'l2'}.\n",
      "[I 2020-03-31 20:34:08,045] Finished trial#57 resulted in value: 0.8686593901478596. Current best value is 0.8693032955087462 with parameters: {'C': 3.984355392365096, 'penalty': 'l2'}.\n",
      "[I 2020-03-31 20:34:08,213] Finished trial#58 resulted in value: 0.8688730824265416. Current best value is 0.8693032955087462 with parameters: {'C': 3.984355392365096, 'penalty': 'l2'}.\n",
      "[I 2020-03-31 20:34:08,393] Finished trial#59 resulted in value: 0.8689779042294766. Current best value is 0.8693032955087462 with parameters: {'C': 3.984355392365096, 'penalty': 'l2'}.\n",
      "[I 2020-03-31 20:34:08,572] Finished trial#60 resulted in value: 0.8692964183110934. Current best value is 0.8693032955087462 with parameters: {'C': 3.984355392365096, 'penalty': 'l2'}.\n",
      "[I 2020-03-31 20:34:08,787] Finished trial#61 resulted in value: 0.8634767561811586. Current best value is 0.8693032955087462 with parameters: {'C': 3.984355392365096, 'penalty': 'l2'}.\n",
      "[I 2020-03-31 20:34:08,961] Finished trial#62 resulted in value: 0.869190542744002. Current best value is 0.8693032955087462 with parameters: {'C': 3.984355392365096, 'penalty': 'l2'}.\n",
      "[I 2020-03-31 20:34:09,143] Finished trial#63 resulted in value: 0.8687652657149514. Current best value is 0.8693032955087462 with parameters: {'C': 3.984355392365096, 'penalty': 'l2'}.\n",
      "[I 2020-03-31 20:34:09,353] Finished trial#64 resulted in value: 0.8689849478109437. Current best value is 0.8693032955087462 with parameters: {'C': 3.984355392365096, 'penalty': 'l2'}.\n",
      "[I 2020-03-31 20:34:09,533] Finished trial#65 resulted in value: 0.8690867747052234. Current best value is 0.8693032955087462 with parameters: {'C': 3.984355392365096, 'penalty': 'l2'}.\n",
      "[I 2020-03-31 20:34:09,720] Finished trial#66 resulted in value: 0.8685676017437022. Current best value is 0.8693032955087462 with parameters: {'C': 3.984355392365096, 'penalty': 'l2'}.\n",
      "[I 2020-03-31 20:34:09,912] Finished trial#67 resulted in value: 0.8692994132197487. Current best value is 0.8693032955087462 with parameters: {'C': 3.984355392365096, 'penalty': 'l2'}.\n",
      "[I 2020-03-31 20:34:10,058] Finished trial#68 resulted in value: 0.8688730824265416. Current best value is 0.8693032955087462 with parameters: {'C': 3.984355392365096, 'penalty': 'l2'}.\n",
      "[I 2020-03-31 20:34:10,230] Finished trial#69 resulted in value: 0.8690897696138787. Current best value is 0.8693032955087462 with parameters: {'C': 3.984355392365096, 'penalty': 'l2'}.\n",
      "[I 2020-03-31 20:34:10,393] Finished trial#70 resulted in value: 0.8691954787971559. Current best value is 0.8693032955087462 with parameters: {'C': 3.984355392365096, 'penalty': 'l2'}.\n",
      "[I 2020-03-31 20:34:10,563] Finished trial#71 resulted in value: 0.8691984737058112. Current best value is 0.8693032955087462 with parameters: {'C': 3.984355392365096, 'penalty': 'l2'}.\n",
      "[I 2020-03-31 20:34:10,731] Finished trial#72 resulted in value: 0.8692994132197487. Current best value is 0.8693032955087462 with parameters: {'C': 3.984355392365096, 'penalty': 'l2'}.\n",
      "[I 2020-03-31 20:34:10,885] Finished trial#73 resulted in value: 0.8681423247146519. Current best value is 0.8693032955087462 with parameters: {'C': 3.984355392365096, 'penalty': 'l2'}.\n",
      "[I 2020-03-31 20:34:11,049] Finished trial#74 resulted in value: 0.8692994132197486. Current best value is 0.8693032955087462 with parameters: {'C': 3.984355392365096, 'penalty': 'l2'}.\n",
      "[I 2020-03-31 20:34:11,197] Finished trial#75 resulted in value: 0.8680336206227193. Current best value is 0.8693032955087462 with parameters: {'C': 3.984355392365096, 'penalty': 'l2'}.\n",
      "[I 2020-03-31 20:34:11,441] Finished trial#76 resulted in value: 0.8660655219460252. Current best value is 0.8693032955087462 with parameters: {'C': 3.984355392365096, 'penalty': 'l2'}.\n",
      "[I 2020-03-31 20:34:11,622] Finished trial#77 resulted in value: 0.869295364546937. Current best value is 0.8693032955087462 with parameters: {'C': 3.984355392365096, 'penalty': 'l2'}.\n",
      "[I 2020-03-31 20:34:11,797] Finished trial#78 resulted in value: 0.8688820671525075. Current best value is 0.8693032955087462 with parameters: {'C': 3.984355392365096, 'penalty': 'l2'}.\n",
      "[I 2020-03-31 20:34:12,053] Finished trial#79 resulted in value: 0.8692983594555923. Current best value is 0.8693032955087462 with parameters: {'C': 3.984355392365096, 'penalty': 'l2'}.\n",
      "[I 2020-03-31 20:34:12,279] Finished trial#80 resulted in value: 0.8690897696138787. Current best value is 0.8693032955087462 with parameters: {'C': 3.984355392365096, 'penalty': 'l2'}.\n",
      "[I 2020-03-31 20:34:12,486] Finished trial#81 resulted in value: 0.8669033753729771. Current best value is 0.8693032955087462 with parameters: {'C': 3.984355392365096, 'penalty': 'l2'}.\n",
      "[I 2020-03-31 20:34:12,743] Finished trial#82 resulted in value: 0.8693032955087462. Current best value is 0.8693032955087462 with parameters: {'C': 3.984355392365096, 'penalty': 'l2'}.\n",
      "[I 2020-03-31 20:34:12,949] Finished trial#83 resulted in value: 0.8689808991381319. Current best value is 0.8693032955087462 with parameters: {'C': 3.984355392365096, 'penalty': 'l2'}.\n",
      "[I 2020-03-31 20:34:13,106] Finished trial#84 resulted in value: 0.8691984737058112. Current best value is 0.8693032955087462 with parameters: {'C': 3.984355392365096, 'penalty': 'l2'}.\n",
      "[I 2020-03-31 20:34:13,329] Finished trial#85 resulted in value: 0.8624322540569921. Current best value is 0.8693032955087462 with parameters: {'C': 3.984355392365096, 'penalty': 'l2'}.\n",
      "[I 2020-03-31 20:34:13,477] Finished trial#86 resulted in value: 0.8689779042294766. Current best value is 0.8693032955087462 with parameters: {'C': 3.984355392365096, 'penalty': 'l2'}.\n"
     ]
    },
    {
     "name": "stderr",
     "output_type": "stream",
     "text": [
      "[I 2020-03-31 20:34:13,649] Finished trial#87 resulted in value: 0.86855756325358. Current best value is 0.8693032955087462 with parameters: {'C': 3.984355392365096, 'penalty': 'l2'}.\n",
      "[I 2020-03-31 20:34:13,780] Finished trial#88 resulted in value: 0.8693032955087462. Current best value is 0.8693032955087462 with parameters: {'C': 3.984355392365096, 'penalty': 'l2'}.\n",
      "[I 2020-03-31 20:34:13,994] Finished trial#89 resulted in value: 0.86876720685945. Current best value is 0.8693032955087462 with parameters: {'C': 3.984355392365096, 'penalty': 'l2'}.\n",
      "[I 2020-03-31 20:34:14,207] Finished trial#90 resulted in value: 0.8624322540569921. Current best value is 0.8693032955087462 with parameters: {'C': 3.984355392365096, 'penalty': 'l2'}.\n",
      "[I 2020-03-31 20:34:14,364] Finished trial#91 resulted in value: 0.8686604439120164. Current best value is 0.8693032955087462 with parameters: {'C': 3.984355392365096, 'penalty': 'l2'}.\n",
      "[I 2020-03-31 20:34:14,523] Finished trial#92 resulted in value: 0.8689779042294766. Current best value is 0.8693032955087462 with parameters: {'C': 3.984355392365096, 'penalty': 'l2'}.\n",
      "[I 2020-03-31 20:34:14,666] Finished trial#93 resulted in value: 0.8691954787971559. Current best value is 0.8693032955087462 with parameters: {'C': 3.984355392365096, 'penalty': 'l2'}.\n",
      "[I 2020-03-31 20:34:14,880] Finished trial#94 resulted in value: 0.8635796368395949. Current best value is 0.8693032955087462 with parameters: {'C': 3.984355392365096, 'penalty': 'l2'}.\n",
      "[I 2020-03-31 20:34:15,054] Finished trial#95 resulted in value: 0.8691984737058112. Current best value is 0.8693032955087462 with parameters: {'C': 3.984355392365096, 'penalty': 'l2'}.\n",
      "[I 2020-03-31 20:34:15,210] Finished trial#96 resulted in value: 0.869190542744002. Current best value is 0.8693032955087462 with parameters: {'C': 3.984355392365096, 'penalty': 'l2'}.\n",
      "[I 2020-03-31 20:34:15,364] Finished trial#97 resulted in value: 0.869190542744002. Current best value is 0.8693032955087462 with parameters: {'C': 3.984355392365096, 'penalty': 'l2'}.\n",
      "[I 2020-03-31 20:34:15,506] Finished trial#98 resulted in value: 0.8686604439120164. Current best value is 0.8693032955087462 with parameters: {'C': 3.984355392365096, 'penalty': 'l2'}.\n",
      "[I 2020-03-31 20:34:15,738] Finished trial#99 resulted in value: 0.8640950938959324. Current best value is 0.8693032955087462 with parameters: {'C': 3.984355392365096, 'penalty': 'l2'}.\n"
     ]
    }
   ],
   "source": [
    "study = optuna.create_study(direction='maximize')\n",
    "study.optimize(objective, n_trials=100)"
   ]
  },
  {
   "cell_type": "code",
   "execution_count": 31,
   "metadata": {},
   "outputs": [
    {
     "name": "stdout",
     "output_type": "stream",
     "text": [
      "{'C': 3.984355392365096, 'penalty': 'l2'}\n",
      "0.8693032955087462\n"
     ]
    }
   ],
   "source": [
    "print(study.best_params)\n",
    "print(study.best_value)"
   ]
  },
  {
   "cell_type": "code",
   "execution_count": 36,
   "metadata": {},
   "outputs": [],
   "source": [
    "setting = \"10111\"\n"
   ]
  },
  {
   "cell_type": "code",
   "execution_count": 37,
   "metadata": {},
   "outputs": [],
   "source": [
    "setting = \"10111\"\n",
    "params = [int(f) for f in setting]\n",
    "train_X, train_y, test_X = get_mart(*params)\n",
    "model = LogisticRegression(**study.best_params)\n",
    "model.fit(train_X, train_y)\n",
    "joblib.dump(model, \"../model/lr_%s.pkl\"%setting)\n",
    "\n",
    "submit = test_X.copy()[[]]\n",
    "submit[\"pred\"] = model.predict_proba(test_X)[:,1]\n",
    "submit.to_csv(\"../data/submit/\"+\"lr_%s.tsv\"%setting, sep=\"\\t\", header=None)\n",
    "# res: auc = 0.84586"
   ]
  },
  {
   "cell_type": "code",
   "execution_count": 38,
   "metadata": {},
   "outputs": [],
   "source": [
    "import matplotlib.pyplot as plt\n",
    "plt.style.use(\"seaborn-pastel\")"
   ]
  },
  {
   "cell_type": "code",
   "execution_count": 39,
   "metadata": {
    "scrolled": false
   },
   "outputs": [
    {
     "data": {
      "text/plain": [
       "<BarContainer object of 17 artists>"
      ]
     },
     "execution_count": 39,
     "metadata": {},
     "output_type": "execute_result"
    },
    {
     "data": {
      "image/png": "[encoded data removed]",
      "text/plain": [
       "<Figure size 720x1152 with 1 Axes>"
      ]
     },
     "metadata": {},
     "output_type": "display_data"
    }
   ],
   "source": [
    "plt.figure(figsize=(10,16))\n",
    "plt.barh(y=train_X.columns, width=model.coef_[0])"
   ]
  },
  {
   "cell_type": "markdown",
   "metadata": {},
   "source": [
    "##### モデリング\n",
    "- チェックポイント1: Grid Searchでハイパーパラメーターを求めている\n",
    "- チェックポイント2: 特徴量エンジニアリングを施したデータとそうでないデータなど、複数のデータで複数のモデルを生成している\n",
    "\n",
    "##### 検証\n",
    "- チェックポイント1: cross validationで未知データに対する精度に近い精度を求めている\n",
    "- チェックポイント2: 線形モデルや決定木を使用し、モデルがどのような特徴を重要として出力しているか確認している\n",
    "    - 性別・客室の等級・家族構成(sibsp)の影響が比較的に大きい。"
   ]
  }
 ],
 "metadata": {
  "hide_input": false,
  "kernelspec": {
   "display_name": "Python 3",
   "language": "python",
   "name": "python3"
  },
  "language_info": {
   "codemirror_mode": {
    "name": "ipython",
    "version": 3
   },
   "file_extension": ".py",
   "mimetype": "text/x-python",
   "name": "python",
   "nbconvert_exporter": "python",
   "pygments_lexer": "ipython3",
   "version": "3.6.5"
  },
  "toc": {
   "base_numbering": 1,
   "nav_menu": {},
   "number_sections": true,
   "sideBar": true,
   "skip_h1_title": false,
   "title_cell": "Table of Contents",
   "title_sidebar": "Contents",
   "toc_cell": false,
   "toc_position": {},
   "toc_section_display": true,
   "toc_window_display": false
  },
  "varInspector": {
   "cols": {
    "lenName": 16,
    "lenType": 16,
    "lenVar": 40
   },
   "kernels_config": {
    "python": {
     "delete_cmd_postfix": "",
     "delete_cmd_prefix": "del ",
     "library": "var_list.py",
     "varRefreshCmd": "print(var_dic_list())"
    },
    "r": {
     "delete_cmd_postfix": ") ",
     "delete_cmd_prefix": "rm(",
     "library": "var_list.r",
     "varRefreshCmd": "cat(var_dic_list()) "
    }
   },
   "types_to_exclude": [
    "module",
    "function",
    "builtin_function_or_method",
    "instance",
    "_Feature"
   ],
   "window_display": false
  }
 },
 "nbformat": 4,
 "nbformat_minor": 2
}
