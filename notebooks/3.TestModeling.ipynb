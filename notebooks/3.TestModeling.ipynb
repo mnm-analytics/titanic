{
 "cells": [
  {
   "cell_type": "markdown",
   "metadata": {},
   "source": [
    "# info"
   ]
  },
  {
   "cell_type": "markdown",
   "metadata": {},
   "source": [
    "##### モデリング\n",
    "1. Grid Searchでハイパーパラメーターを求めている\n",
    "1. 特徴量エンジニアリングを施したデータとそうでないデータなど、複数のデータで複数のモデルを生成している\n",
    "1. モデルの出力値を適切に加工している\n",
    "    - 対数変換した目的変数に対する出力をしていれば、逆関数で再現\n",
    "    - 分類のprobaであれば、分析結果をもとにした閾値を設けて0,1に変換\n",
    "\n",
    "##### 検証\n",
    "1. cross validationで未知データに対する精度に近い精度を求めている\n",
    "1. 線形モデルや決定木を使用し、モデルがどのような特徴を重要として出力しているか確認している\n",
    "    - ※ロジスティック回帰かSVCか決定木\n",
    "    - ※係数や分岐を確認する"
   ]
  },
  {
   "cell_type": "markdown",
   "metadata": {},
   "source": [
    "# init"
   ]
  },
  {
   "cell_type": "code",
   "execution_count": 108,
   "metadata": {},
   "outputs": [],
   "source": [
    "import os, copy\n",
    "import numpy as np\n",
    "import pandas as pd\n",
    "import uuid\n",
    "import optuna\n",
    "from sklearn.linear_model import LogisticRegression\n",
    "from sklearn.svm import SVC\n",
    "from sklearn.model_selection import StratifiedKFold, cross_validate\n",
    "from sklearn.externals import joblib"
   ]
  },
  {
   "cell_type": "markdown",
   "metadata": {},
   "source": [
    "# load"
   ]
  },
  {
   "cell_type": "code",
   "execution_count": 110,
   "metadata": {},
   "outputs": [],
   "source": [
    "path_doc = \"../doc/\""
   ]
  },
  {
   "cell_type": "code",
   "execution_count": 111,
   "metadata": {},
   "outputs": [],
   "source": [
    "path_data = \"../data/\"\n",
    "path_clns = path_data + \"clns/\""
   ]
  },
  {
   "cell_type": "code",
   "execution_count": 119,
   "metadata": {},
   "outputs": [],
   "source": [
    "_dic_data = dict()\n",
    "for d in os.listdir(path_clns):\n",
    "    fn = d.split(\".\")[0]\n",
    "    _dic_data[fn] = pd.read_csv(path_clns+d, index_col=0)"
   ]
  },
  {
   "cell_type": "code",
   "execution_count": 131,
   "metadata": {},
   "outputs": [],
   "source": [
    "def get_mart(log=False, tgt=False, oh_tgt_both=False, fam=False, fam_both=False):\n",
    "    dic_data = copy.deepcopy(_dic_data)\n",
    "    yname = \"survived\"\n",
    "    y = dic_data[\"y\"]\n",
    "    test_id = y[y[yname].isna()].index\n",
    "    num = dic_data[\"num_logz\"] if log else dic_data[\"num_z\"]\n",
    "    \n",
    "    oh = [v for k, v in dic_data.items() if (\"onehot\" in k) and not (\"family\" in k or \"parch_sibsp\" in k)]\n",
    "    tgtenc = [v for k, v in dic_data.items() if (\"tgt\" in k) and not (\"family\" in k or \"parch_sibsp\" in k)]\n",
    "    \n",
    "    if fam_both:\n",
    "        oh += [v for k, v in dic_data.items() if (\"onehot\" in k) and (\"family\" in k or \"parch_sibsp\" in k)]\n",
    "        tgtenc += [v for k, v in dic_data.items() if (\"tgt\" in k) and (\"family\" in k or \"parch_sibsp\" in k)]\n",
    "    else:\n",
    "        if fam:\n",
    "            oh += [v for k, v in dic_data.items() if (\"onehot\" in k) and (\"family\" in k)]\n",
    "            tgtenc += [v for k, v in dic_data.items() if (\"tgt\" in k) and (\"family\" in k)]\n",
    "        else:\n",
    "            oh += [v for k, v in dic_data.items() if (\"onehot\" in k) and (\"parch_sibsp\" in k)]\n",
    "            tgtenc += [v for k, v in dic_data.items() if (\"tgt\" in k) and (\"parch_sibsp\" in k)]\n",
    "    \n",
    "    oh = pd.concat(oh, axis=1)\n",
    "    tgtenc = pd.concat(tgtenc, axis=1)\n",
    "    \n",
    "    num.columns = [\"num_\"+c for c in num.columns]\n",
    "    oh.columns = [\"oh_\"+c for c in oh.columns]\n",
    "    tgtenc.columns = [\"tgt_\"+c for c in tgtenc.columns]\n",
    "            \n",
    "    if oh_tgt_both:\n",
    "        cat = pd.concat([oh, tgtenc], axis=1)\n",
    "    else:\n",
    "        if tgt:\n",
    "            cat = tgtenc\n",
    "        else:\n",
    "            cat = oh\n",
    "            \n",
    "    mart = pd.concat([y, num, cat], axis=1)\n",
    "    train, test = mart[~mart.index.isin(test_id)], mart[mart.index.isin(test_id)]\n",
    "    train_X, train_y, test_X = train.drop(yname, 1), train[yname], test.drop(yname, 1)\n",
    "    return train_X, train_y, test_X"
   ]
  },
  {
   "cell_type": "markdown",
   "metadata": {},
   "source": [
    "# modeling"
   ]
  },
  {
   "cell_type": "markdown",
   "metadata": {},
   "source": [
    "## LR"
   ]
  },
  {
   "cell_type": "code",
   "execution_count": 168,
   "metadata": {},
   "outputs": [],
   "source": [
    "def objective(trial):\n",
    "    flder = \"lr_v0/\"\n",
    "    p = \"../model/tuning/\"+flder\n",
    "    if not os.path.exists(p):\n",
    "        os.mkdir(p)\n",
    "        \n",
    "    trial_uuid = str(uuid.uuid4())\n",
    "    trial.set_user_attr(\"uuid\", trial_uuid)\n",
    "\n",
    "    oh_tgt_both = trial.suggest_int(\"use_oh_tgt_both\", 0, 1)\n",
    "    fam_both = trial.suggest_int(\"use_fam_both\", 0, 1)\n",
    "    log = trial.suggest_int(\"use_log\", 0, 1)\n",
    "    tgt = trial.suggest_int(\"use_tgt\", 0, 1)\n",
    "    fam = trial.suggest_int(\"use_fam\", 0, 1)\n",
    "    \n",
    "    if oh_tgt_both:\n",
    "        tgt = 1    \n",
    "    if fam_both:\n",
    "        fam = 0\n",
    "    \n",
    "    param_grid = {\n",
    "        'C' : trial.suggest_int(\"C\", 1, 20),\n",
    "        'penalty': trial.suggest_categorical('penalty', ['l1', 'l2']),\n",
    "        \"random_state\": 0\n",
    "    }\n",
    "    train_X, train_y, test_X = get_mart(log=log, tgt=tgt, oh_tgt_both=oh_tgt_both, fam=fam, fam_both=fam_both)\n",
    "    \n",
    "    model = LogisticRegression(**param_grid)\n",
    "    kf = StratifiedKFold(n_splits=5, shuffle=True, random_state=0)\n",
    "    scores = cross_validate(model, X=train_X, y=train_y, cv=kf, scoring=\"roc_auc\")\n",
    "    auc = scores['test_score'].mean()\n",
    "    \n",
    "    # レポーティング\n",
    "    with open(p+\"00.report.csv\", mode=\"a\", encoding=\"utf8\") as f:\n",
    "        r = [trial_uuid, log, tgt, oh_tgt_both, fam, fam_both, *param_grid.values(), auc]\n",
    "        r = [str(v) for v in r]\n",
    "        print(\",\".join(r), file=f)\n",
    "    \n",
    "    model.fit(train_X, train_y)\n",
    "    joblib.dump(model, p+\"%s.pkl\"%trial_uuid)\n",
    "    \n",
    "    return auc"
   ]
  },
  {
   "cell_type": "code",
   "execution_count": 170,
   "metadata": {},
   "outputs": [
    {
     "name": "stderr",
     "output_type": "stream",
     "text": [
      "[I 2020-03-26 20:01:27,709] Finished trial#0 resulted in value: 0.853886781360576. Current best value is 0.853886781360576 with parameters: {'use_oh_tgt_both': 1, 'use_fam_both': 0, 'use_log': 0, 'use_tgt': 1, 'use_fam': 1, 'C': 15, 'penalty': 'l1'}.\n",
      "[I 2020-03-26 20:01:27,824] Finished trial#1 resulted in value: 0.8676565948997815. Current best value is 0.8676565948997815 with parameters: {'use_oh_tgt_both': 1, 'use_fam_both': 0, 'use_log': 0, 'use_tgt': 0, 'use_fam': 0, 'C': 10, 'penalty': 'l2'}.\n",
      "[I 2020-03-26 20:01:27,928] Finished trial#2 resulted in value: 0.8672069703725889. Current best value is 0.8676565948997815 with parameters: {'use_oh_tgt_both': 1, 'use_fam_both': 0, 'use_log': 0, 'use_tgt': 0, 'use_fam': 0, 'C': 10, 'penalty': 'l2'}.\n",
      "[I 2020-03-26 20:01:28,438] Finished trial#3 resulted in value: 0.8551387641010283. Current best value is 0.8676565948997815 with parameters: {'use_oh_tgt_both': 1, 'use_fam_both': 0, 'use_log': 0, 'use_tgt': 0, 'use_fam': 0, 'C': 10, 'penalty': 'l2'}.\n",
      "[I 2020-03-26 20:01:28,559] Finished trial#4 resulted in value: 0.8527253114150388. Current best value is 0.8676565948997815 with parameters: {'use_oh_tgt_both': 1, 'use_fam_both': 0, 'use_log': 0, 'use_tgt': 0, 'use_fam': 0, 'C': 10, 'penalty': 'l2'}.\n",
      "[I 2020-03-26 20:01:28,725] Finished trial#5 resulted in value: 0.8654722527259215. Current best value is 0.8676565948997815 with parameters: {'use_oh_tgt_both': 1, 'use_fam_both': 0, 'use_log': 0, 'use_tgt': 0, 'use_fam': 0, 'C': 10, 'penalty': 'l2'}.\n",
      "[I 2020-03-26 20:01:28,828] Finished trial#6 resulted in value: 0.849765731589631. Current best value is 0.8676565948997815 with parameters: {'use_oh_tgt_both': 1, 'use_fam_both': 0, 'use_log': 0, 'use_tgt': 0, 'use_fam': 0, 'C': 10, 'penalty': 'l2'}.\n",
      "[I 2020-03-26 20:01:28,974] Finished trial#7 resulted in value: 0.8641241001408716. Current best value is 0.8676565948997815 with parameters: {'use_oh_tgt_both': 1, 'use_fam_both': 0, 'use_log': 0, 'use_tgt': 0, 'use_fam': 0, 'C': 10, 'penalty': 'l2'}.\n",
      "[I 2020-03-26 20:01:29,554] Finished trial#8 resulted in value: 0.8647307355273813. Current best value is 0.8676565948997815 with parameters: {'use_oh_tgt_both': 1, 'use_fam_both': 0, 'use_log': 0, 'use_tgt': 0, 'use_fam': 0, 'C': 10, 'penalty': 'l2'}.\n",
      "[I 2020-03-26 20:01:29,889] Finished trial#9 resulted in value: 0.853677137754706. Current best value is 0.8676565948997815 with parameters: {'use_oh_tgt_both': 1, 'use_fam_both': 0, 'use_log': 0, 'use_tgt': 0, 'use_fam': 0, 'C': 10, 'penalty': 'l2'}.\n",
      "[I 2020-03-26 20:01:30,108] Finished trial#10 resulted in value: 0.8686901711534836. Current best value is 0.8686901711534836 with parameters: {'use_oh_tgt_both': 1, 'use_fam_both': 0, 'use_log': 0, 'use_tgt': 0, 'use_fam': 0, 'C': 9, 'penalty': 'l2'}.\n",
      "[I 2020-03-26 20:01:30,323] Finished trial#11 resulted in value: 0.8686981021152927. Current best value is 0.8686981021152927 with parameters: {'use_oh_tgt_both': 0, 'use_fam_both': 0, 'use_log': 0, 'use_tgt': 0, 'use_fam': 0, 'C': 7, 'penalty': 'l2'}.\n",
      "[I 2020-03-26 20:01:30,613] Finished trial#12 resulted in value: 0.8665453728661277. Current best value is 0.8686981021152927 with parameters: {'use_oh_tgt_both': 0, 'use_fam_both': 0, 'use_log': 0, 'use_tgt': 0, 'use_fam': 0, 'C': 7, 'penalty': 'l2'}.\n",
      "[I 2020-03-26 20:01:30,932] Finished trial#13 resulted in value: 0.8672459596463791. Current best value is 0.8686981021152927 with parameters: {'use_oh_tgt_both': 0, 'use_fam_both': 0, 'use_log': 0, 'use_tgt': 0, 'use_fam': 0, 'C': 7, 'penalty': 'l2'}.\n",
      "[I 2020-03-26 20:01:31,228] Finished trial#14 resulted in value: 0.861441604827349. Current best value is 0.8686981021152927 with parameters: {'use_oh_tgt_both': 0, 'use_fam_both': 0, 'use_log': 0, 'use_tgt': 0, 'use_fam': 0, 'C': 7, 'penalty': 'l2'}.\n",
      "[I 2020-03-26 20:01:31,499] Finished trial#15 resulted in value: 0.8553502379288543. Current best value is 0.8686981021152927 with parameters: {'use_oh_tgt_both': 0, 'use_fam_both': 0, 'use_log': 0, 'use_tgt': 0, 'use_fam': 0, 'C': 7, 'penalty': 'l2'}.\n",
      "[I 2020-03-26 20:01:31,775] Finished trial#16 resulted in value: 0.866826672434639. Current best value is 0.8686981021152927 with parameters: {'use_oh_tgt_both': 0, 'use_fam_both': 0, 'use_log': 0, 'use_tgt': 0, 'use_fam': 0, 'C': 7, 'penalty': 'l2'}.\n",
      "[I 2020-03-26 20:01:32,106] Finished trial#17 resulted in value: 0.8687949929564185. Current best value is 0.8687949929564185 with parameters: {'use_oh_tgt_both': 1, 'use_fam_both': 0, 'use_log': 0, 'use_tgt': 0, 'use_fam': 0, 'C': 8, 'penalty': 'l2'}.\n",
      "[I 2020-03-26 20:01:32,430] Finished trial#18 resulted in value: 0.8685874568788614. Current best value is 0.8687949929564185 with parameters: {'use_oh_tgt_both': 1, 'use_fam_both': 0, 'use_log': 0, 'use_tgt': 0, 'use_fam': 0, 'C': 8, 'penalty': 'l2'}.\n",
      "[I 2020-03-26 20:01:32,840] Finished trial#19 resulted in value: 0.8675537142413454. Current best value is 0.8687949929564185 with parameters: {'use_oh_tgt_both': 1, 'use_fam_both': 0, 'use_log': 0, 'use_tgt': 0, 'use_fam': 0, 'C': 8, 'penalty': 'l2'}.\n",
      "[I 2020-03-26 20:01:33,248] Finished trial#20 resulted in value: 0.8685874568788614. Current best value is 0.8687949929564185 with parameters: {'use_oh_tgt_both': 1, 'use_fam_both': 0, 'use_log': 0, 'use_tgt': 0, 'use_fam': 0, 'C': 8, 'penalty': 'l2'}.\n",
      "[I 2020-03-26 20:01:33,591] Finished trial#21 resulted in value: 0.8650620057014187. Current best value is 0.8687949929564185 with parameters: {'use_oh_tgt_both': 1, 'use_fam_both': 0, 'use_log': 0, 'use_tgt': 0, 'use_fam': 0, 'C': 8, 'penalty': 'l2'}.\n",
      "[I 2020-03-26 20:01:33,965] Finished trial#22 resulted in value: 0.8686901711534836. Current best value is 0.8687949929564185 with parameters: {'use_oh_tgt_both': 1, 'use_fam_both': 0, 'use_log': 0, 'use_tgt': 0, 'use_fam': 0, 'C': 8, 'penalty': 'l2'}.\n",
      "[I 2020-03-26 20:01:34,164] Finished trial#23 resulted in value: 0.8689237740285958. Current best value is 0.8689237740285958 with parameters: {'use_oh_tgt_both': 0, 'use_fam_both': 0, 'use_log': 0, 'use_tgt': 0, 'use_fam': 0, 'C': 5, 'penalty': 'l2'}.\n",
      "[I 2020-03-26 20:01:35,065] Finished trial#24 resulted in value: 0.8673393009661353. Current best value is 0.8689237740285958 with parameters: {'use_oh_tgt_both': 0, 'use_fam_both': 0, 'use_log': 0, 'use_tgt': 0, 'use_fam': 0, 'C': 5, 'penalty': 'l2'}.\n",
      "[I 2020-03-26 20:01:35,372] Finished trial#25 resulted in value: 0.8649212449946202. Current best value is 0.8689237740285958 with parameters: {'use_oh_tgt_both': 0, 'use_fam_both': 0, 'use_log': 0, 'use_tgt': 0, 'use_fam': 0, 'C': 5, 'penalty': 'l2'}.\n",
      "[I 2020-03-26 20:01:35,630] Finished trial#26 resulted in value: 0.8656457910441139. Current best value is 0.8689237740285958 with parameters: {'use_oh_tgt_both': 0, 'use_fam_both': 0, 'use_log': 0, 'use_tgt': 0, 'use_fam': 0, 'C': 5, 'penalty': 'l2'}.\n",
      "[I 2020-03-26 20:01:35,999] Finished trial#27 resulted in value: 0.8675516067130322. Current best value is 0.8689237740285958 with parameters: {'use_oh_tgt_both': 0, 'use_fam_both': 0, 'use_log': 0, 'use_tgt': 0, 'use_fam': 0, 'C': 5, 'penalty': 'l2'}.\n",
      "[I 2020-03-26 20:01:36,617] Finished trial#28 resulted in value: 0.8529738888334275. Current best value is 0.8689237740285958 with parameters: {'use_oh_tgt_both': 0, 'use_fam_both': 0, 'use_log': 0, 'use_tgt': 0, 'use_fam': 0, 'C': 5, 'penalty': 'l2'}.\n",
      "[I 2020-03-26 20:01:36,890] Finished trial#29 resulted in value: 0.8687949929564185. Current best value is 0.8689237740285958 with parameters: {'use_oh_tgt_both': 0, 'use_fam_both': 0, 'use_log': 0, 'use_tgt': 0, 'use_fam': 0, 'C': 5, 'penalty': 'l2'}.\n",
      "[I 2020-03-26 20:01:37,254] Finished trial#30 resulted in value: 0.8574507781216377. Current best value is 0.8689237740285958 with parameters: {'use_oh_tgt_both': 0, 'use_fam_both': 0, 'use_log': 0, 'use_tgt': 0, 'use_fam': 0, 'C': 5, 'penalty': 'l2'}.\n",
      "[I 2020-03-26 20:01:37,610] Finished trial#31 resulted in value: 0.8672069703725889. Current best value is 0.8689237740285958 with parameters: {'use_oh_tgt_both': 0, 'use_fam_both': 0, 'use_log': 0, 'use_tgt': 0, 'use_fam': 0, 'C': 5, 'penalty': 'l2'}.\n"
     ]
    },
    {
     "name": "stderr",
     "output_type": "stream",
     "text": [
      "[I 2020-03-26 20:01:37,976] Finished trial#32 resulted in value: 0.8623350859095094. Current best value is 0.8689237740285958 with parameters: {'use_oh_tgt_both': 0, 'use_fam_both': 0, 'use_log': 0, 'use_tgt': 0, 'use_fam': 0, 'C': 5, 'penalty': 'l2'}.\n",
      "[I 2020-03-26 20:01:38,262] Finished trial#33 resulted in value: 0.8555096336228412. Current best value is 0.8689237740285958 with parameters: {'use_oh_tgt_both': 0, 'use_fam_both': 0, 'use_log': 0, 'use_tgt': 0, 'use_fam': 0, 'C': 5, 'penalty': 'l2'}.\n",
      "[I 2020-03-26 20:01:38,570] Finished trial#34 resulted in value: 0.8630808181646756. Current best value is 0.8689237740285958 with parameters: {'use_oh_tgt_both': 0, 'use_fam_both': 0, 'use_log': 0, 'use_tgt': 0, 'use_fam': 0, 'C': 5, 'penalty': 'l2'}.\n",
      "[I 2020-03-26 20:01:38,822] Finished trial#35 resulted in value: 0.8688059188268833. Current best value is 0.8689237740285958 with parameters: {'use_oh_tgt_both': 0, 'use_fam_both': 0, 'use_log': 0, 'use_tgt': 0, 'use_fam': 0, 'C': 5, 'penalty': 'l2'}.\n",
      "[I 2020-03-26 20:01:39,094] Finished trial#36 resulted in value: 0.8542935897862522. Current best value is 0.8689237740285958 with parameters: {'use_oh_tgt_both': 0, 'use_fam_both': 0, 'use_log': 0, 'use_tgt': 0, 'use_fam': 0, 'C': 5, 'penalty': 'l2'}.\n",
      "[I 2020-03-26 20:01:39,573] Finished trial#37 resulted in value: 0.8677636906148438. Current best value is 0.8689237740285958 with parameters: {'use_oh_tgt_both': 0, 'use_fam_both': 0, 'use_log': 0, 'use_tgt': 0, 'use_fam': 0, 'C': 5, 'penalty': 'l2'}.\n",
      "[I 2020-03-26 20:01:40,406] Finished trial#38 resulted in value: 0.855657049682207. Current best value is 0.8689237740285958 with parameters: {'use_oh_tgt_both': 0, 'use_fam_both': 0, 'use_log': 0, 'use_tgt': 0, 'use_fam': 0, 'C': 5, 'penalty': 'l2'}.\n",
      "[I 2020-03-26 20:01:40,780] Finished trial#39 resulted in value: 0.8676506050824709. Current best value is 0.8689237740285958 with parameters: {'use_oh_tgt_both': 0, 'use_fam_both': 0, 'use_log': 0, 'use_tgt': 0, 'use_fam': 0, 'C': 5, 'penalty': 'l2'}.\n",
      "[I 2020-03-26 20:01:41,062] Finished trial#40 resulted in value: 0.8654722527259215. Current best value is 0.8689237740285958 with parameters: {'use_oh_tgt_both': 0, 'use_fam_both': 0, 'use_log': 0, 'use_tgt': 0, 'use_fam': 0, 'C': 5, 'penalty': 'l2'}.\n",
      "[I 2020-03-26 20:01:41,413] Finished trial#41 resulted in value: 0.8675350237928854. Current best value is 0.8689237740285958 with parameters: {'use_oh_tgt_both': 0, 'use_fam_both': 0, 'use_log': 0, 'use_tgt': 0, 'use_fam': 0, 'C': 5, 'penalty': 'l2'}.\n",
      "[I 2020-03-26 20:01:41,755] Finished trial#42 resulted in value: 0.8657422936563398. Current best value is 0.8689237740285958 with parameters: {'use_oh_tgt_both': 0, 'use_fam_both': 0, 'use_log': 0, 'use_tgt': 0, 'use_fam': 0, 'C': 5, 'penalty': 'l2'}.\n",
      "[I 2020-03-26 20:01:42,129] Finished trial#43 resulted in value: 0.8688059188268833. Current best value is 0.8689237740285958 with parameters: {'use_oh_tgt_both': 0, 'use_fam_both': 0, 'use_log': 0, 'use_tgt': 0, 'use_fam': 0, 'C': 5, 'penalty': 'l2'}.\n",
      "[I 2020-03-26 20:01:42,433] Finished trial#44 resulted in value: 0.8657625924816701. Current best value is 0.8689237740285958 with parameters: {'use_oh_tgt_both': 0, 'use_fam_both': 0, 'use_log': 0, 'use_tgt': 0, 'use_fam': 0, 'C': 5, 'penalty': 'l2'}.\n",
      "[I 2020-03-26 20:01:42,770] Finished trial#45 resulted in value: 0.8503689283773141. Current best value is 0.8689237740285958 with parameters: {'use_oh_tgt_both': 0, 'use_fam_both': 0, 'use_log': 0, 'use_tgt': 0, 'use_fam': 0, 'C': 5, 'penalty': 'l2'}.\n",
      "[I 2020-03-26 20:01:43,312] Finished trial#46 resulted in value: 0.86177659090657. Current best value is 0.8689237740285958 with parameters: {'use_oh_tgt_both': 0, 'use_fam_both': 0, 'use_log': 0, 'use_tgt': 0, 'use_fam': 0, 'C': 5, 'penalty': 'l2'}.\n",
      "[I 2020-03-26 20:01:43,648] Finished trial#47 resulted in value: 0.8676506050824709. Current best value is 0.8689237740285958 with parameters: {'use_oh_tgt_both': 0, 'use_fam_both': 0, 'use_log': 0, 'use_tgt': 0, 'use_fam': 0, 'C': 5, 'penalty': 'l2'}.\n",
      "[I 2020-03-26 20:01:44,080] Finished trial#48 resulted in value: 0.862758089026433. Current best value is 0.8689237740285958 with parameters: {'use_oh_tgt_both': 0, 'use_fam_both': 0, 'use_log': 0, 'use_tgt': 0, 'use_fam': 0, 'C': 5, 'penalty': 'l2'}.\n",
      "[I 2020-03-26 20:01:44,495] Finished trial#49 resulted in value: 0.8558459507725755. Current best value is 0.8689237740285958 with parameters: {'use_oh_tgt_both': 0, 'use_fam_both': 0, 'use_log': 0, 'use_tgt': 0, 'use_fam': 0, 'C': 5, 'penalty': 'l2'}.\n",
      "[I 2020-03-26 20:01:44,944] Finished trial#50 resulted in value: 0.8624867170255011. Current best value is 0.8689237740285958 with parameters: {'use_oh_tgt_both': 0, 'use_fam_both': 0, 'use_log': 0, 'use_tgt': 0, 'use_fam': 0, 'C': 5, 'penalty': 'l2'}.\n",
      "[I 2020-03-26 20:01:45,255] Finished trial#51 resulted in value: 0.8687259436735328. Current best value is 0.8689237740285958 with parameters: {'use_oh_tgt_both': 0, 'use_fam_both': 0, 'use_log': 0, 'use_tgt': 0, 'use_fam': 0, 'C': 5, 'penalty': 'l2'}.\n",
      "[I 2020-03-26 20:01:45,564] Finished trial#52 resulted in value: 0.8665453728661277. Current best value is 0.8689237740285958 with parameters: {'use_oh_tgt_both': 0, 'use_fam_both': 0, 'use_log': 0, 'use_tgt': 0, 'use_fam': 0, 'C': 5, 'penalty': 'l2'}.\n",
      "[I 2020-03-26 20:01:46,061] Finished trial#53 resulted in value: 0.8681620134659968. Current best value is 0.8689237740285958 with parameters: {'use_oh_tgt_both': 0, 'use_fam_both': 0, 'use_log': 0, 'use_tgt': 0, 'use_fam': 0, 'C': 5, 'penalty': 'l2'}.\n",
      "[I 2020-03-26 20:01:46,569] Finished trial#54 resulted in value: 0.8508166672212795. Current best value is 0.8689237740285958 with parameters: {'use_oh_tgt_both': 0, 'use_fam_both': 0, 'use_log': 0, 'use_tgt': 0, 'use_fam': 0, 'C': 5, 'penalty': 'l2'}.\n",
      "[I 2020-03-26 20:01:47,299] Finished trial#55 resulted in value: 0.8658887114128205. Current best value is 0.8689237740285958 with parameters: {'use_oh_tgt_both': 0, 'use_fam_both': 0, 'use_log': 0, 'use_tgt': 0, 'use_fam': 0, 'C': 5, 'penalty': 'l2'}.\n",
      "[I 2020-03-26 20:01:47,808] Finished trial#56 resulted in value: 0.8681699444278059. Current best value is 0.8689237740285958 with parameters: {'use_oh_tgt_both': 0, 'use_fam_both': 0, 'use_log': 0, 'use_tgt': 0, 'use_fam': 0, 'C': 5, 'penalty': 'l2'}.\n",
      "[I 2020-03-26 20:01:48,292] Finished trial#57 resulted in value: 0.8682731578538707. Current best value is 0.8689237740285958 with parameters: {'use_oh_tgt_both': 0, 'use_fam_both': 0, 'use_log': 0, 'use_tgt': 0, 'use_fam': 0, 'C': 5, 'penalty': 'l2'}.\n",
      "[I 2020-03-26 20:01:48,655] Finished trial#58 resulted in value: 0.854524585981609. Current best value is 0.8689237740285958 with parameters: {'use_oh_tgt_both': 0, 'use_fam_both': 0, 'use_log': 0, 'use_tgt': 0, 'use_fam': 0, 'C': 5, 'penalty': 'l2'}.\n",
      "[I 2020-03-26 20:01:49,166] Finished trial#59 resulted in value: 0.8570406420196777. Current best value is 0.8689237740285958 with parameters: {'use_oh_tgt_both': 0, 'use_fam_both': 0, 'use_log': 0, 'use_tgt': 0, 'use_fam': 0, 'C': 5, 'penalty': 'l2'}.\n",
      "[I 2020-03-26 20:01:49,598] Finished trial#60 resulted in value: 0.8661885350459773. Current best value is 0.8689237740285958 with parameters: {'use_oh_tgt_both': 0, 'use_fam_both': 0, 'use_log': 0, 'use_tgt': 0, 'use_fam': 0, 'C': 5, 'penalty': 'l2'}.\n",
      "[I 2020-03-26 20:01:50,026] Finished trial#61 resulted in value: 0.8674614266857453. Current best value is 0.8689237740285958 with parameters: {'use_oh_tgt_both': 0, 'use_fam_both': 0, 'use_log': 0, 'use_tgt': 0, 'use_fam': 0, 'C': 5, 'penalty': 'l2'}.\n",
      "[I 2020-03-26 20:01:50,443] Finished trial#62 resulted in value: 0.8659688529499849. Current best value is 0.8689237740285958 with parameters: {'use_oh_tgt_both': 0, 'use_fam_both': 0, 'use_log': 0, 'use_tgt': 0, 'use_fam': 0, 'C': 5, 'penalty': 'l2'}.\n",
      "[I 2020-03-26 20:01:51,116] Finished trial#63 resulted in value: 0.8568387629918028. Current best value is 0.8689237740285958 with parameters: {'use_oh_tgt_both': 0, 'use_fam_both': 0, 'use_log': 0, 'use_tgt': 0, 'use_fam': 0, 'C': 5, 'penalty': 'l2'}.\n"
     ]
    },
    {
     "name": "stderr",
     "output_type": "stream",
     "text": [
      "[I 2020-03-26 20:01:51,424] Finished trial#64 resulted in value: 0.8552801903430834. Current best value is 0.8689237740285958 with parameters: {'use_oh_tgt_both': 0, 'use_fam_both': 0, 'use_log': 0, 'use_tgt': 0, 'use_fam': 0, 'C': 5, 'penalty': 'l2'}.\n",
      "[I 2020-03-26 20:01:51,843] Finished trial#65 resulted in value: 0.8688059188268833. Current best value is 0.8689237740285958 with parameters: {'use_oh_tgt_both': 0, 'use_fam_both': 0, 'use_log': 0, 'use_tgt': 0, 'use_fam': 0, 'C': 5, 'penalty': 'l2'}.\n",
      "[I 2020-03-26 20:01:52,305] Finished trial#66 resulted in value: 0.8676506050824709. Current best value is 0.8689237740285958 with parameters: {'use_oh_tgt_both': 0, 'use_fam_both': 0, 'use_log': 0, 'use_tgt': 0, 'use_fam': 0, 'C': 5, 'penalty': 'l2'}.\n",
      "[I 2020-03-26 20:01:52,697] Finished trial#67 resulted in value: 0.8688059188268833. Current best value is 0.8689237740285958 with parameters: {'use_oh_tgt_both': 0, 'use_fam_both': 0, 'use_log': 0, 'use_tgt': 0, 'use_fam': 0, 'C': 5, 'penalty': 'l2'}.\n",
      "[I 2020-03-26 20:01:53,045] Finished trial#68 resulted in value: 0.8677636906148438. Current best value is 0.8689237740285958 with parameters: {'use_oh_tgt_both': 0, 'use_fam_both': 0, 'use_log': 0, 'use_tgt': 0, 'use_fam': 0, 'C': 5, 'penalty': 'l2'}.\n",
      "[I 2020-03-26 20:01:53,415] Finished trial#69 resulted in value: 0.8675350237928854. Current best value is 0.8689237740285958 with parameters: {'use_oh_tgt_both': 0, 'use_fam_both': 0, 'use_log': 0, 'use_tgt': 0, 'use_fam': 0, 'C': 5, 'penalty': 'l2'}.\n",
      "[I 2020-03-26 20:01:53,940] Finished trial#70 resulted in value: 0.8656457910441139. Current best value is 0.8689237740285958 with parameters: {'use_oh_tgt_both': 0, 'use_fam_both': 0, 'use_log': 0, 'use_tgt': 0, 'use_fam': 0, 'C': 5, 'penalty': 'l2'}.\n",
      "[I 2020-03-26 20:01:54,444] Finished trial#71 resulted in value: 0.8646247490377469. Current best value is 0.8689237740285958 with parameters: {'use_oh_tgt_both': 0, 'use_fam_both': 0, 'use_log': 0, 'use_tgt': 0, 'use_fam': 0, 'C': 5, 'penalty': 'l2'}.\n",
      "[I 2020-03-26 20:01:54,926] Finished trial#72 resulted in value: 0.8688059188268833. Current best value is 0.8689237740285958 with parameters: {'use_oh_tgt_both': 0, 'use_fam_both': 0, 'use_log': 0, 'use_tgt': 0, 'use_fam': 0, 'C': 5, 'penalty': 'l2'}.\n",
      "[I 2020-03-26 20:01:55,424] Finished trial#73 resulted in value: 0.8677636906148438. Current best value is 0.8689237740285958 with parameters: {'use_oh_tgt_both': 0, 'use_fam_both': 0, 'use_log': 0, 'use_tgt': 0, 'use_fam': 0, 'C': 5, 'penalty': 'l2'}.\n",
      "[I 2020-03-26 20:01:55,875] Finished trial#74 resulted in value: 0.8683711024591527. Current best value is 0.8689237740285958 with parameters: {'use_oh_tgt_both': 0, 'use_fam_both': 0, 'use_log': 0, 'use_tgt': 0, 'use_fam': 0, 'C': 5, 'penalty': 'l2'}.\n",
      "[I 2020-03-26 20:01:56,698] Finished trial#75 resulted in value: 0.863594001308886. Current best value is 0.8689237740285958 with parameters: {'use_oh_tgt_both': 0, 'use_fam_both': 0, 'use_log': 0, 'use_tgt': 0, 'use_fam': 0, 'C': 5, 'penalty': 'l2'}.\n",
      "[I 2020-03-26 20:01:57,150] Finished trial#76 resulted in value: 0.8689237740285958. Current best value is 0.8689237740285958 with parameters: {'use_oh_tgt_both': 0, 'use_fam_both': 0, 'use_log': 0, 'use_tgt': 0, 'use_fam': 0, 'C': 5, 'penalty': 'l2'}.\n",
      "[I 2020-03-26 20:01:57,488] Finished trial#77 resulted in value: 0.8686981021152927. Current best value is 0.8689237740285958 with parameters: {'use_oh_tgt_both': 0, 'use_fam_both': 0, 'use_log': 0, 'use_tgt': 0, 'use_fam': 0, 'C': 5, 'penalty': 'l2'}.\n",
      "[I 2020-03-26 20:01:57,879] Finished trial#78 resulted in value: 0.866826672434639. Current best value is 0.8689237740285958 with parameters: {'use_oh_tgt_both': 0, 'use_fam_both': 0, 'use_log': 0, 'use_tgt': 0, 'use_fam': 0, 'C': 5, 'penalty': 'l2'}.\n",
      "[I 2020-03-26 20:01:58,253] Finished trial#79 resulted in value: 0.8630808181646756. Current best value is 0.8689237740285958 with parameters: {'use_oh_tgt_both': 0, 'use_fam_both': 0, 'use_log': 0, 'use_tgt': 0, 'use_fam': 0, 'C': 5, 'penalty': 'l2'}.\n",
      "[I 2020-03-26 20:01:58,692] Finished trial#80 resulted in value: 0.8539091877142191. Current best value is 0.8689237740285958 with parameters: {'use_oh_tgt_both': 0, 'use_fam_both': 0, 'use_log': 0, 'use_tgt': 0, 'use_fam': 0, 'C': 5, 'penalty': 'l2'}.\n",
      "[I 2020-03-26 20:01:59,165] Finished trial#81 resulted in value: 0.857113739975375. Current best value is 0.8689237740285958 with parameters: {'use_oh_tgt_both': 0, 'use_fam_both': 0, 'use_log': 0, 'use_tgt': 0, 'use_fam': 0, 'C': 5, 'penalty': 'l2'}.\n",
      "[I 2020-03-26 20:01:59,576] Finished trial#82 resulted in value: 0.8689237740285958. Current best value is 0.8689237740285958 with parameters: {'use_oh_tgt_both': 0, 'use_fam_both': 0, 'use_log': 0, 'use_tgt': 0, 'use_fam': 0, 'C': 5, 'penalty': 'l2'}.\n",
      "[I 2020-03-26 20:01:59,989] Finished trial#83 resulted in value: 0.8681620134659968. Current best value is 0.8689237740285958 with parameters: {'use_oh_tgt_both': 0, 'use_fam_both': 0, 'use_log': 0, 'use_tgt': 0, 'use_fam': 0, 'C': 5, 'penalty': 'l2'}.\n",
      "[I 2020-03-26 20:02:00,591] Finished trial#84 resulted in value: 0.8657990859982474. Current best value is 0.8689237740285958 with parameters: {'use_oh_tgt_both': 0, 'use_fam_both': 0, 'use_log': 0, 'use_tgt': 0, 'use_fam': 0, 'C': 5, 'penalty': 'l2'}.\n",
      "[I 2020-03-26 20:02:01,206] Finished trial#85 resulted in value: 0.8564282941222144. Current best value is 0.8689237740285958 with parameters: {'use_oh_tgt_both': 0, 'use_fam_both': 0, 'use_log': 0, 'use_tgt': 0, 'use_fam': 0, 'C': 5, 'penalty': 'l2'}.\n",
      "[I 2020-03-26 20:02:01,641] Finished trial#86 resulted in value: 0.8546371169012679. Current best value is 0.8689237740285958 with parameters: {'use_oh_tgt_both': 0, 'use_fam_both': 0, 'use_log': 0, 'use_tgt': 0, 'use_fam': 0, 'C': 5, 'penalty': 'l2'}.\n",
      "[I 2020-03-26 20:02:02,165] Finished trial#87 resulted in value: 0.8686981021152927. Current best value is 0.8689237740285958 with parameters: {'use_oh_tgt_both': 0, 'use_fam_both': 0, 'use_log': 0, 'use_tgt': 0, 'use_fam': 0, 'C': 5, 'penalty': 'l2'}.\n",
      "[I 2020-03-26 20:02:02,665] Finished trial#88 resulted in value: 0.8590832806451255. Current best value is 0.8689237740285958 with parameters: {'use_oh_tgt_both': 0, 'use_fam_both': 0, 'use_log': 0, 'use_tgt': 0, 'use_fam': 0, 'C': 5, 'penalty': 'l2'}.\n",
      "[I 2020-03-26 20:02:03,129] Finished trial#89 resulted in value: 0.8553760274200526. Current best value is 0.8689237740285958 with parameters: {'use_oh_tgt_both': 0, 'use_fam_both': 0, 'use_log': 0, 'use_tgt': 0, 'use_fam': 0, 'C': 5, 'penalty': 'l2'}.\n",
      "[I 2020-03-26 20:02:03,616] Finished trial#90 resulted in value: 0.8549515823100728. Current best value is 0.8689237740285958 with parameters: {'use_oh_tgt_both': 0, 'use_fam_both': 0, 'use_log': 0, 'use_tgt': 0, 'use_fam': 0, 'C': 5, 'penalty': 'l2'}.\n",
      "[I 2020-03-26 20:02:04,155] Finished trial#91 resulted in value: 0.8679611882022783. Current best value is 0.8689237740285958 with parameters: {'use_oh_tgt_both': 0, 'use_fam_both': 0, 'use_log': 0, 'use_tgt': 0, 'use_fam': 0, 'C': 5, 'penalty': 'l2'}.\n",
      "[I 2020-03-26 20:02:04,536] Finished trial#92 resulted in value: 0.8689486206781805. Current best value is 0.8689486206781805 with parameters: {'use_oh_tgt_both': 0, 'use_fam_both': 0, 'use_log': 0, 'use_tgt': 0, 'use_fam': 0, 'C': 3, 'penalty': 'l2'}.\n",
      "[I 2020-03-26 20:02:05,320] Finished trial#93 resulted in value: 0.858574867170255. Current best value is 0.8689486206781805 with parameters: {'use_oh_tgt_both': 0, 'use_fam_both': 0, 'use_log': 0, 'use_tgt': 0, 'use_fam': 0, 'C': 3, 'penalty': 'l2'}.\n",
      "[I 2020-03-26 20:02:05,742] Finished trial#94 resulted in value: 0.8689486206781805. Current best value is 0.8689486206781805 with parameters: {'use_oh_tgt_both': 0, 'use_fam_both': 0, 'use_log': 0, 'use_tgt': 0, 'use_fam': 0, 'C': 3, 'penalty': 'l2'}.\n",
      "[I 2020-03-26 20:02:06,267] Finished trial#95 resulted in value: 0.8556906037514004. Current best value is 0.8689486206781805 with parameters: {'use_oh_tgt_both': 0, 'use_fam_both': 0, 'use_log': 0, 'use_tgt': 0, 'use_fam': 0, 'C': 3, 'penalty': 'l2'}.\n"
     ]
    },
    {
     "name": "stderr",
     "output_type": "stream",
     "text": [
      "[I 2020-03-26 20:02:06,793] Finished trial#96 resulted in value: 0.8688200059898173. Current best value is 0.8689486206781805 with parameters: {'use_oh_tgt_both': 0, 'use_fam_both': 0, 'use_log': 0, 'use_tgt': 0, 'use_fam': 0, 'C': 3, 'penalty': 'l2'}.\n",
      "[I 2020-03-26 20:02:07,252] Finished trial#97 resulted in value: 0.8689486206781805. Current best value is 0.8689486206781805 with parameters: {'use_oh_tgt_both': 0, 'use_fam_both': 0, 'use_log': 0, 'use_tgt': 0, 'use_fam': 0, 'C': 3, 'penalty': 'l2'}.\n",
      "[I 2020-03-26 20:02:07,696] Finished trial#98 resulted in value: 0.8688034230696704. Current best value is 0.8689486206781805 with parameters: {'use_oh_tgt_both': 0, 'use_fam_both': 0, 'use_log': 0, 'use_tgt': 0, 'use_fam': 0, 'C': 3, 'penalty': 'l2'}.\n",
      "[I 2020-03-26 20:02:08,176] Finished trial#99 resulted in value: 0.865372588821226. Current best value is 0.8689486206781805 with parameters: {'use_oh_tgt_both': 0, 'use_fam_both': 0, 'use_log': 0, 'use_tgt': 0, 'use_fam': 0, 'C': 3, 'penalty': 'l2'}.\n"
     ]
    }
   ],
   "source": [
    "study = optuna.create_study(direction='maximize')\n",
    "study.optimize(objective, n_trials=100)"
   ]
  },
  {
   "cell_type": "code",
   "execution_count": 171,
   "metadata": {},
   "outputs": [
    {
     "name": "stdout",
     "output_type": "stream",
     "text": [
      "{'use_oh_tgt_both': 0, 'use_fam_both': 0, 'use_log': 0, 'use_tgt': 0, 'use_fam': 0, 'C': 3, 'penalty': 'l2'}\n",
      "0.8689486206781805\n"
     ]
    }
   ],
   "source": [
    "print(study.best_params)\n",
    "print(study.best_value)"
   ]
  },
  {
   "cell_type": "code",
   "execution_count": 172,
   "metadata": {
    "scrolled": true
   },
   "outputs": [],
   "source": [
    "def objective(trial):\n",
    "    param_grid = {\n",
    "        'C' : trial.suggest_uniform(\"C\", 2, 4),\n",
    "        'penalty': trial.suggest_categorical('penalty', ['l1', 'l2']),\n",
    "        \"random_state\": 0\n",
    "    }\n",
    "    train_X, train_y, test_X = get_mart()\n",
    "    \n",
    "    model = LogisticRegression(**param_grid)\n",
    "    kf = StratifiedKFold(n_splits=5, shuffle=True, random_state=0)\n",
    "    scores = cross_validate(model, X=train_X, y=train_y, cv=kf, scoring=\"roc_auc\")\n",
    "    auc = scores['test_score'].mean()\n",
    "    return auc"
   ]
  },
  {
   "cell_type": "code",
   "execution_count": 173,
   "metadata": {},
   "outputs": [
    {
     "name": "stderr",
     "output_type": "stream",
     "text": [
      "[I 2020-03-26 20:03:09,579] Finished trial#0 resulted in value: 0.868626224307566. Current best value is 0.868626224307566 with parameters: {'C': 3.6195194966144726, 'penalty': 'l2'}.\n",
      "[I 2020-03-26 20:03:09,705] Finished trial#1 resulted in value: 0.8699770944949142. Current best value is 0.8699770944949142 with parameters: {'C': 2.164049888789962, 'penalty': 'l1'}.\n",
      "[I 2020-03-26 20:03:09,839] Finished trial#2 resulted in value: 0.8690160615841958. Current best value is 0.8699770944949142 with parameters: {'C': 2.164049888789962, 'penalty': 'l1'}.\n",
      "[I 2020-03-26 20:03:09,978] Finished trial#3 resulted in value: 0.8690180027286946. Current best value is 0.8699770944949142 with parameters: {'C': 2.164049888789962, 'penalty': 'l1'}.\n",
      "[I 2020-03-26 20:03:10,103] Finished trial#4 resulted in value: 0.8682157554379776. Current best value is 0.8699770944949142 with parameters: {'C': 2.164049888789962, 'penalty': 'l1'}.\n",
      "[I 2020-03-26 20:03:10,240] Finished trial#5 resulted in value: 0.8689082448726054. Current best value is 0.8699770944949142 with parameters: {'C': 2.164049888789962, 'penalty': 'l1'}.\n",
      "[I 2020-03-26 20:03:10,376] Finished trial#6 resulted in value: 0.8687023171719188. Current best value is 0.8699770944949142 with parameters: {'C': 2.164049888789962, 'penalty': 'l1'}.\n",
      "[I 2020-03-26 20:03:10,503] Finished trial#7 resulted in value: 0.8690070768582299. Current best value is 0.8699770944949142 with parameters: {'C': 2.164049888789962, 'penalty': 'l1'}.\n",
      "[I 2020-03-26 20:03:10,644] Finished trial#8 resulted in value: 0.8690160615841958. Current best value is 0.8699770944949142 with parameters: {'C': 2.164049888789962, 'penalty': 'l1'}.\n",
      "[I 2020-03-26 20:03:10,781] Finished trial#9 resulted in value: 0.8696557518884565. Current best value is 0.8699770944949142 with parameters: {'C': 2.164049888789962, 'penalty': 'l1'}.\n",
      "[I 2020-03-26 20:03:10,942] Finished trial#10 resulted in value: 0.8685381518085921. Current best value is 0.8699770944949142 with parameters: {'C': 2.164049888789962, 'penalty': 'l1'}.\n",
      "[I 2020-03-26 20:03:11,126] Finished trial#11 resulted in value: 0.8706061916963386. Current best value is 0.8706061916963386 with parameters: {'C': 2.0201440428234863, 'penalty': 'l1'}.\n",
      "[I 2020-03-26 20:03:11,262] Finished trial#12 resulted in value: 0.868416580701696. Current best value is 0.8706061916963386 with parameters: {'C': 2.0201440428234863, 'penalty': 'l1'}.\n",
      "[I 2020-03-26 20:03:11,414] Finished trial#13 resulted in value: 0.8706061916963386. Current best value is 0.8706061916963386 with parameters: {'C': 2.0201440428234863, 'penalty': 'l1'}.\n",
      "[I 2020-03-26 20:03:11,557] Finished trial#14 resulted in value: 0.8691178884784755. Current best value is 0.8706061916963386 with parameters: {'C': 2.0201440428234863, 'penalty': 'l1'}.\n",
      "[I 2020-03-26 20:03:11,694] Finished trial#15 resulted in value: 0.8682099320044813. Current best value is 0.8706061916963386 with parameters: {'C': 2.0201440428234863, 'penalty': 'l1'}.\n",
      "[I 2020-03-26 20:03:11,875] Finished trial#16 resulted in value: 0.8706061916963386. Current best value is 0.8706061916963386 with parameters: {'C': 2.0201440428234863, 'penalty': 'l1'}.\n",
      "[I 2020-03-26 20:03:12,027] Finished trial#17 resulted in value: 0.8692257051900658. Current best value is 0.8706061916963386 with parameters: {'C': 2.0201440428234863, 'penalty': 'l1'}.\n",
      "[I 2020-03-26 20:03:12,188] Finished trial#18 resulted in value: 0.8698634543498276. Current best value is 0.8706061916963386 with parameters: {'C': 2.0201440428234863, 'penalty': 'l1'}.\n",
      "[I 2020-03-26 20:03:12,400] Finished trial#19 resulted in value: 0.8682869122491764. Current best value is 0.8706061916963386 with parameters: {'C': 2.0201440428234863, 'penalty': 'l1'}.\n",
      "[I 2020-03-26 20:03:12,586] Finished trial#20 resulted in value: 0.8706061916963386. Current best value is 0.8706061916963386 with parameters: {'C': 2.0201440428234863, 'penalty': 'l1'}.\n",
      "[I 2020-03-26 20:03:12,757] Finished trial#21 resulted in value: 0.8689082448726054. Current best value is 0.8706061916963386 with parameters: {'C': 2.0201440428234863, 'penalty': 'l1'}.\n",
      "[I 2020-03-26 20:03:12,919] Finished trial#22 resulted in value: 0.8695489889410226. Current best value is 0.8706061916963386 with parameters: {'C': 2.0201440428234863, 'penalty': 'l1'}.\n",
      "[I 2020-03-26 20:03:13,075] Finished trial#23 resulted in value: 0.8688013155413575. Current best value is 0.8706061916963386 with parameters: {'C': 2.0201440428234863, 'penalty': 'l1'}.\n",
      "[I 2020-03-26 20:03:13,248] Finished trial#24 resulted in value: 0.8690180027286946. Current best value is 0.8706061916963386 with parameters: {'C': 2.0201440428234863, 'penalty': 'l1'}.\n",
      "[I 2020-03-26 20:03:13,402] Finished trial#25 resulted in value: 0.8686232293989107. Current best value is 0.8706061916963386 with parameters: {'C': 2.0201440428234863, 'penalty': 'l1'}.\n",
      "[I 2020-03-26 20:03:13,543] Finished trial#26 resulted in value: 0.8689082448726054. Current best value is 0.8706061916963386 with parameters: {'C': 2.0201440428234863, 'penalty': 'l1'}.\n",
      "[I 2020-03-26 20:03:13,713] Finished trial#27 resulted in value: 0.8702827415615676. Current best value is 0.8706061916963386 with parameters: {'C': 2.0201440428234863, 'penalty': 'l1'}.\n",
      "[I 2020-03-26 20:03:13,841] Finished trial#28 resulted in value: 0.8687340410191563. Current best value is 0.8706061916963386 with parameters: {'C': 2.0201440428234863, 'penalty': 'l1'}.\n",
      "[I 2020-03-26 20:03:13,992] Finished trial#29 resulted in value: 0.8687023171719188. Current best value is 0.8706061916963386 with parameters: {'C': 2.0201440428234863, 'penalty': 'l1'}.\n",
      "[I 2020-03-26 20:03:14,110] Finished trial#30 resulted in value: 0.868433330005657. Current best value is 0.8706061916963386 with parameters: {'C': 2.0201440428234863, 'penalty': 'l1'}.\n",
      "[I 2020-03-26 20:03:14,262] Finished trial#31 resulted in value: 0.8696538107439575. Current best value is 0.8706061916963386 with parameters: {'C': 2.0201440428234863, 'penalty': 'l1'}.\n",
      "[I 2020-03-26 20:03:14,454] Finished trial#32 resulted in value: 0.8706061916963386. Current best value is 0.8706061916963386 with parameters: {'C': 2.0201440428234863, 'penalty': 'l1'}.\n",
      "[I 2020-03-26 20:03:14,620] Finished trial#33 resulted in value: 0.8691228245316296. Current best value is 0.8706061916963386 with parameters: {'C': 2.0201440428234863, 'penalty': 'l1'}.\n",
      "[I 2020-03-26 20:03:14,737] Finished trial#34 resulted in value: 0.8689082448726054. Current best value is 0.8706061916963386 with parameters: {'C': 2.0201440428234863, 'penalty': 'l1'}.\n",
      "[I 2020-03-26 20:03:14,920] Finished trial#35 resulted in value: 0.868832873004781. Current best value is 0.8706061916963386 with parameters: {'C': 2.0201440428234863, 'penalty': 'l1'}.\n",
      "[I 2020-03-26 20:03:15,091] Finished trial#36 resulted in value: 0.8690199438731934. Current best value is 0.8706061916963386 with parameters: {'C': 2.0201440428234863, 'penalty': 'l1'}.\n",
      "[I 2020-03-26 20:03:15,273] Finished trial#37 resulted in value: 0.8698653954943264. Current best value is 0.8706061916963386 with parameters: {'C': 2.0201440428234863, 'penalty': 'l1'}.\n",
      "[I 2020-03-26 20:03:15,424] Finished trial#38 resulted in value: 0.8690070768582299. Current best value is 0.8706061916963386 with parameters: {'C': 2.0201440428234863, 'penalty': 'l1'}.\n",
      "[I 2020-03-26 20:03:15,559] Finished trial#39 resulted in value: 0.8690160615841958. Current best value is 0.8706061916963386 with parameters: {'C': 2.0201440428234863, 'penalty': 'l1'}.\n",
      "[I 2020-03-26 20:03:15,724] Finished trial#40 resulted in value: 0.8686172395816003. Current best value is 0.8706061916963386 with parameters: {'C': 2.0201440428234863, 'penalty': 'l1'}.\n",
      "[I 2020-03-26 20:03:15,855] Finished trial#41 resulted in value: 0.8691159473339767. Current best value is 0.8706061916963386 with parameters: {'C': 2.0201440428234863, 'penalty': 'l1'}.\n",
      "[I 2020-03-26 20:03:16,028] Finished trial#42 resulted in value: 0.8687023171719188. Current best value is 0.8706061916963386 with parameters: {'C': 2.0201440428234863, 'penalty': 'l1'}.\n"
     ]
    },
    {
     "name": "stderr",
     "output_type": "stream",
     "text": [
      "[I 2020-03-26 20:03:16,180] Finished trial#43 resulted in value: 0.8686311603607202. Current best value is 0.8706061916963386 with parameters: {'C': 2.0201440428234863, 'penalty': 'l1'}.\n",
      "[I 2020-03-26 20:03:16,345] Finished trial#44 resulted in value: 0.8706031967876833. Current best value is 0.8706061916963386 with parameters: {'C': 2.0201440428234863, 'penalty': 'l1'}.\n",
      "[I 2020-03-26 20:03:16,507] Finished trial#45 resulted in value: 0.8695489889410226. Current best value is 0.8706061916963386 with parameters: {'C': 2.0201440428234863, 'penalty': 'l1'}.\n",
      "[I 2020-03-26 20:03:16,662] Finished trial#46 resulted in value: 0.8690180027286946. Current best value is 0.8706061916963386 with parameters: {'C': 2.0201440428234863, 'penalty': 'l1'}.\n",
      "[I 2020-03-26 20:03:16,826] Finished trial#47 resulted in value: 0.8682148680576354. Current best value is 0.8706061916963386 with parameters: {'C': 2.0201440428234863, 'penalty': 'l1'}.\n",
      "[I 2020-03-26 20:03:17,004] Finished trial#48 resulted in value: 0.8690070768582299. Current best value is 0.8706061916963386 with parameters: {'C': 2.0201440428234863, 'penalty': 'l1'}.\n",
      "[I 2020-03-26 20:03:17,181] Finished trial#49 resulted in value: 0.8706012556431844. Current best value is 0.8706061916963386 with parameters: {'C': 2.0201440428234863, 'penalty': 'l1'}.\n",
      "[I 2020-03-26 20:03:17,298] Finished trial#50 resulted in value: 0.8697605736913914. Current best value is 0.8706061916963386 with parameters: {'C': 2.0201440428234863, 'penalty': 'l1'}.\n",
      "[I 2020-03-26 20:03:17,461] Finished trial#51 resulted in value: 0.8689082448726054. Current best value is 0.8706061916963386 with parameters: {'C': 2.0201440428234863, 'penalty': 'l1'}.\n",
      "[I 2020-03-26 20:03:17,573] Finished trial#52 resulted in value: 0.8685233436491299. Current best value is 0.8706061916963386 with parameters: {'C': 2.0201440428234863, 'penalty': 'l1'}.\n",
      "[I 2020-03-26 20:03:17,737] Finished trial#53 resulted in value: 0.8690248799263474. Current best value is 0.8706061916963386 with parameters: {'C': 2.0201440428234863, 'penalty': 'l1'}.\n",
      "[I 2020-03-26 20:03:17,893] Finished trial#54 resulted in value: 0.8696538107439575. Current best value is 0.8706061916963386 with parameters: {'C': 2.0201440428234863, 'penalty': 'l1'}.\n",
      "[I 2020-03-26 20:03:18,031] Finished trial#55 resulted in value: 0.8690180027286946. Current best value is 0.8706061916963386 with parameters: {'C': 2.0201440428234863, 'penalty': 'l1'}.\n",
      "[I 2020-03-26 20:03:18,191] Finished trial#56 resulted in value: 0.8686172395816003. Current best value is 0.8706061916963386 with parameters: {'C': 2.0201440428234863, 'penalty': 'l1'}.\n",
      "[I 2020-03-26 20:03:18,404] Finished trial#57 resulted in value: 0.8691178884784755. Current best value is 0.8706061916963386 with parameters: {'C': 2.0201440428234863, 'penalty': 'l1'}.\n",
      "[I 2020-03-26 20:03:18,619] Finished trial#58 resulted in value: 0.8701779197586326. Current best value is 0.8706061916963386 with parameters: {'C': 2.0201440428234863, 'penalty': 'l1'}.\n",
      "[I 2020-03-26 20:03:18,774] Finished trial#59 resulted in value: 0.8690160615841958. Current best value is 0.8706061916963386 with parameters: {'C': 2.0201440428234863, 'penalty': 'l1'}.\n",
      "[I 2020-03-26 20:03:18,956] Finished trial#60 resulted in value: 0.868433330005657. Current best value is 0.8706061916963386 with parameters: {'C': 2.0201440428234863, 'penalty': 'l1'}.\n",
      "[I 2020-03-26 20:03:19,150] Finished trial#61 resulted in value: 0.8686984348829212. Current best value is 0.8706061916963386 with parameters: {'C': 2.0201440428234863, 'penalty': 'l1'}.\n",
      "[I 2020-03-26 20:03:19,315] Finished trial#62 resulted in value: 0.8706061916963386. Current best value is 0.8706061916963386 with parameters: {'C': 2.0201440428234863, 'penalty': 'l1'}.\n",
      "[I 2020-03-26 20:03:19,471] Finished trial#63 resulted in value: 0.8698634543498276. Current best value is 0.8706061916963386 with parameters: {'C': 2.0201440428234863, 'penalty': 'l1'}.\n",
      "[I 2020-03-26 20:03:19,597] Finished trial#64 resulted in value: 0.8683147538074163. Current best value is 0.8706061916963386 with parameters: {'C': 2.0201440428234863, 'penalty': 'l1'}.\n",
      "[I 2020-03-26 20:03:19,746] Finished trial#65 resulted in value: 0.8706031967876833. Current best value is 0.8706061916963386 with parameters: {'C': 2.0201440428234863, 'penalty': 'l1'}.\n",
      "[I 2020-03-26 20:03:19,939] Finished trial#66 resulted in value: 0.8701779197586326. Current best value is 0.8706061916963386 with parameters: {'C': 2.0201440428234863, 'penalty': 'l1'}.\n",
      "[I 2020-03-26 20:03:20,128] Finished trial#67 resulted in value: 0.8706061916963386. Current best value is 0.8706061916963386 with parameters: {'C': 2.0201440428234863, 'penalty': 'l1'}.\n",
      "[I 2020-03-26 20:03:20,288] Finished trial#68 resulted in value: 0.8706061916963386. Current best value is 0.8706061916963386 with parameters: {'C': 2.0201440428234863, 'penalty': 'l1'}.\n",
      "[I 2020-03-26 20:03:20,462] Finished trial#69 resulted in value: 0.8698653954943264. Current best value is 0.8706061916963386 with parameters: {'C': 2.0201440428234863, 'penalty': 'l1'}.\n",
      "[I 2020-03-26 20:03:20,642] Finished trial#70 resulted in value: 0.8707090723547747. Current best value is 0.8707090723547747 with parameters: {'C': 2.0335610638600796, 'penalty': 'l1'}.\n",
      "[I 2020-03-26 20:03:20,808] Finished trial#71 resulted in value: 0.8701847969562854. Current best value is 0.8707090723547747 with parameters: {'C': 2.0335610638600796, 'penalty': 'l1'}.\n",
      "[I 2020-03-26 20:03:20,996] Finished trial#72 resulted in value: 0.8707060774461194. Current best value is 0.8707090723547747 with parameters: {'C': 2.0335610638600796, 'penalty': 'l1'}.\n",
      "[I 2020-03-26 20:03:21,234] Finished trial#73 resulted in value: 0.8690248799263474. Current best value is 0.8707090723547747 with parameters: {'C': 2.0335610638600796, 'penalty': 'l1'}.\n",
      "[I 2020-03-26 20:03:21,431] Finished trial#74 resulted in value: 0.8701779197586326. Current best value is 0.8707090723547747 with parameters: {'C': 2.0335610638600796, 'penalty': 'l1'}.\n",
      "[I 2020-03-26 20:03:21,589] Finished trial#75 resulted in value: 0.8681820904462414. Current best value is 0.8707090723547747 with parameters: {'C': 2.0335610638600796, 'penalty': 'l1'}.\n",
      "[I 2020-03-26 20:03:21,786] Finished trial#76 resulted in value: 0.8696538107439575. Current best value is 0.8707090723547747 with parameters: {'C': 2.0335610638600796, 'penalty': 'l1'}.\n",
      "[I 2020-03-26 20:03:21,969] Finished trial#77 resulted in value: 0.8690180027286946. Current best value is 0.8707090723547747 with parameters: {'C': 2.0335610638600796, 'penalty': 'l1'}.\n",
      "[I 2020-03-26 20:03:22,134] Finished trial#78 resulted in value: 0.8706012556431844. Current best value is 0.8707090723547747 with parameters: {'C': 2.0335610638600796, 'penalty': 'l1'}.\n",
      "[I 2020-03-26 20:03:22,296] Finished trial#79 resulted in value: 0.8701759786141338. Current best value is 0.8707090723547747 with parameters: {'C': 2.0335610638600796, 'penalty': 'l1'}.\n",
      "[I 2020-03-26 20:03:22,490] Finished trial#80 resulted in value: 0.8698634543498276. Current best value is 0.8707090723547747 with parameters: {'C': 2.0335610638600796, 'penalty': 'l1'}.\n",
      "[I 2020-03-26 20:03:22,691] Finished trial#81 resulted in value: 0.8683196898605704. Current best value is 0.8707090723547747 with parameters: {'C': 2.0335610638600796, 'penalty': 'l1'}.\n",
      "[I 2020-03-26 20:03:22,859] Finished trial#82 resulted in value: 0.8707060774461194. Current best value is 0.8707090723547747 with parameters: {'C': 2.0335610638600796, 'penalty': 'l1'}.\n",
      "[I 2020-03-26 20:03:23,022] Finished trial#83 resulted in value: 0.8700819162978493. Current best value is 0.8707090723547747 with parameters: {'C': 2.0335610638600796, 'penalty': 'l1'}.\n",
      "[I 2020-03-26 20:03:23,204] Finished trial#84 resulted in value: 0.8707060774461194. Current best value is 0.8707090723547747 with parameters: {'C': 2.0335610638600796, 'penalty': 'l1'}.\n",
      "[I 2020-03-26 20:03:23,411] Finished trial#85 resulted in value: 0.8698653954943264. Current best value is 0.8707090723547747 with parameters: {'C': 2.0335610638600796, 'penalty': 'l1'}.\n"
     ]
    },
    {
     "name": "stderr",
     "output_type": "stream",
     "text": [
      "[I 2020-03-26 20:03:23,678] Finished trial#86 resulted in value: 0.8685293334664405. Current best value is 0.8707090723547747 with parameters: {'C': 2.0335610638600796, 'penalty': 'l1'}.\n",
      "[I 2020-03-26 20:03:23,850] Finished trial#87 resulted in value: 0.8690199438731934. Current best value is 0.8707090723547747 with parameters: {'C': 2.0335610638600796, 'penalty': 'l1'}.\n",
      "[I 2020-03-26 20:03:24,010] Finished trial#88 resulted in value: 0.8695489889410226. Current best value is 0.8707090723547747 with parameters: {'C': 2.0335610638600796, 'penalty': 'l1'}.\n",
      "[I 2020-03-26 20:03:24,165] Finished trial#89 resulted in value: 0.8690180027286946. Current best value is 0.8707090723547747 with parameters: {'C': 2.0335610638600796, 'penalty': 'l1'}.\n",
      "[I 2020-03-26 20:03:24,307] Finished trial#90 resulted in value: 0.8689486206781805. Current best value is 0.8707090723547747 with parameters: {'C': 2.0335610638600796, 'penalty': 'l1'}.\n",
      "[I 2020-03-26 20:03:24,486] Finished trial#91 resulted in value: 0.8701759786141338. Current best value is 0.8707090723547747 with parameters: {'C': 2.0335610638600796, 'penalty': 'l1'}.\n",
      "[I 2020-03-26 20:03:24,629] Finished trial#92 resulted in value: 0.8695489889410226. Current best value is 0.8707090723547747 with parameters: {'C': 2.0335610638600796, 'penalty': 'l1'}.\n",
      "[I 2020-03-26 20:03:24,786] Finished trial#93 resulted in value: 0.8707060774461194. Current best value is 0.8707090723547747 with parameters: {'C': 2.0335610638600796, 'penalty': 'l1'}.\n",
      "[I 2020-03-26 20:03:24,951] Finished trial#94 resulted in value: 0.8700799751533503. Current best value is 0.8707090723547747 with parameters: {'C': 2.0335610638600796, 'penalty': 'l1'}.\n",
      "[I 2020-03-26 20:03:25,097] Finished trial#95 resulted in value: 0.8682206914911317. Current best value is 0.8707090723547747 with parameters: {'C': 2.0335610638600796, 'penalty': 'l1'}.\n",
      "[I 2020-03-26 20:03:25,277] Finished trial#96 resulted in value: 0.8701779197586326. Current best value is 0.8707090723547747 with parameters: {'C': 2.0335610638600796, 'penalty': 'l1'}.\n",
      "[I 2020-03-26 20:03:25,438] Finished trial#97 resulted in value: 0.8691208833871308. Current best value is 0.8707090723547747 with parameters: {'C': 2.0335610638600796, 'penalty': 'l1'}.\n",
      "[I 2020-03-26 20:03:25,584] Finished trial#98 resulted in value: 0.8690160615841958. Current best value is 0.8707090723547747 with parameters: {'C': 2.0335610638600796, 'penalty': 'l1'}.\n",
      "[I 2020-03-26 20:03:25,739] Finished trial#99 resulted in value: 0.8683196898605704. Current best value is 0.8707090723547747 with parameters: {'C': 2.0335610638600796, 'penalty': 'l1'}.\n"
     ]
    }
   ],
   "source": [
    "study = optuna.create_study(direction='maximize')\n",
    "study.optimize(objective, n_trials=100)"
   ]
  },
  {
   "cell_type": "code",
   "execution_count": 174,
   "metadata": {},
   "outputs": [
    {
     "name": "stdout",
     "output_type": "stream",
     "text": [
      "{'C': 2.0335610638600796, 'penalty': 'l1'}\n",
      "0.8707090723547747\n"
     ]
    }
   ],
   "source": [
    "print(study.best_params)\n",
    "print(study.best_value)"
   ]
  },
  {
   "cell_type": "code",
   "execution_count": 175,
   "metadata": {},
   "outputs": [],
   "source": [
    "train_X, train_y, test_X = get_mart()\n",
    "model = LogisticRegression(**study.best_params)\n",
    "model.fit(train_X, train_y)\n",
    "joblib.dump(model, \"../model/lr_00000.pkl\")\n",
    "\n",
    "submit = test_X.copy()[[]]\n",
    "submit[\"pred\"] = model.predict_proba(test_X)[:,1]\n",
    "submit.to_csv(\"../data/submit/\"+\"lr_00000.tsv\", sep=\"\\t\", header=None)\n",
    "# res: auc = 0.84839"
   ]
  },
  {
   "cell_type": "code",
   "execution_count": 176,
   "metadata": {},
   "outputs": [],
   "source": [
    "import matplotlib.pyplot as plt\n",
    "plt.style.use(\"seaborn-pastel\")"
   ]
  },
  {
   "cell_type": "code",
   "execution_count": 177,
   "metadata": {
    "scrolled": false
   },
   "outputs": [
    {
     "data": {
      "text/plain": [
       "<BarContainer object of 17 artists>"
      ]
     },
     "execution_count": 177,
     "metadata": {},
     "output_type": "execute_result"
    },
    {
     "data": {
      "image/png": "[encoded data removed]",
      "text/plain": [
       "<Figure size 720x1152 with 1 Axes>"
      ]
     },
     "metadata": {},
     "output_type": "display_data"
    }
   ],
   "source": [
    "plt.figure(figsize=(10,16))\n",
    "plt.barh(y=train_X.columns, width=model.coef_[0])"
   ]
  },
  {
   "cell_type": "markdown",
   "metadata": {},
   "source": [
    "##### チェックポイント1: Grid Searchでハイパーパラメーターを求めている\n",
    "##### チェックポイント2: 特徴量エンジニアリングを施したデータとそうでないデータなど、複数のデータで複数のモデルを生成している"
   ]
  }
 ],
 "metadata": {
  "hide_input": false,
  "kernelspec": {
   "display_name": "Python 3",
   "language": "python",
   "name": "python3"
  },
  "language_info": {
   "codemirror_mode": {
    "name": "ipython",
    "version": 3
   },
   "file_extension": ".py",
   "mimetype": "text/x-python",
   "name": "python",
   "nbconvert_exporter": "python",
   "pygments_lexer": "ipython3",
   "version": "3.6.5"
  },
  "toc": {
   "base_numbering": 1,
   "nav_menu": {},
   "number_sections": true,
   "sideBar": true,
   "skip_h1_title": false,
   "title_cell": "Table of Contents",
   "title_sidebar": "Contents",
   "toc_cell": false,
   "toc_position": {},
   "toc_section_display": true,
   "toc_window_display": false
  },
  "varInspector": {
   "cols": {
    "lenName": 16,
    "lenType": 16,
    "lenVar": 40
   },
   "kernels_config": {
    "python": {
     "delete_cmd_postfix": "",
     "delete_cmd_prefix": "del ",
     "library": "var_list.py",
     "varRefreshCmd": "print(var_dic_list())"
    },
    "r": {
     "delete_cmd_postfix": ") ",
     "delete_cmd_prefix": "rm(",
     "library": "var_list.r",
     "varRefreshCmd": "cat(var_dic_list()) "
    }
   },
   "types_to_exclude": [
    "module",
    "function",
    "builtin_function_or_method",
    "instance",
    "_Feature"
   ],
   "window_display": false
  }
 },
 "nbformat": 4,
 "nbformat_minor": 2
}
