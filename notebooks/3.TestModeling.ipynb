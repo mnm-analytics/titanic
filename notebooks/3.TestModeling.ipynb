{
 "cells": [
  {
   "cell_type": "markdown",
   "metadata": {},
   "source": [
    "# info"
   ]
  },
  {
   "cell_type": "markdown",
   "metadata": {},
   "source": [
    "##### モデリング\n",
    "1. Grid Searchでハイパーパラメーターを求めている\n",
    "1. 特徴量エンジニアリングを施したデータとそうでないデータなど、複数のデータで複数のモデルを生成している\n",
    "1. モデルの出力値を適切に加工している\n",
    "    - 対数変換した目的変数に対する出力をしていれば、逆関数で再現\n",
    "    - 分類のprobaであれば、分析結果をもとにした閾値を設けて0,1に変換\n",
    "\n",
    "##### 検証\n",
    "1. cross validationで未知データに対する精度に近い精度を求めている\n",
    "1. 線形モデルや決定木を使用し、モデルがどのような特徴を重要として出力しているか確認している\n",
    "    - ※ロジスティック回帰かSVCか決定木\n",
    "    - ※係数や分岐を確認する"
   ]
  },
  {
   "cell_type": "markdown",
   "metadata": {},
   "source": [
    "# init"
   ]
  },
  {
   "cell_type": "code",
   "execution_count": 108,
   "metadata": {},
   "outputs": [],
   "source": [
    "import os, copy\n",
    "import numpy as np\n",
    "import pandas as pd\n",
    "import uuid\n",
    "import optuna\n",
    "from sklearn.linear_model import LogisticRegression\n",
    "from sklearn.svm import SVC\n",
    "from sklearn.model_selection import StratifiedKFold, cross_validate\n",
    "from sklearn.externals import joblib"
   ]
  },
  {
   "cell_type": "markdown",
   "metadata": {},
   "source": [
    "# load"
   ]
  },
  {
   "cell_type": "code",
   "execution_count": 110,
   "metadata": {},
   "outputs": [],
   "source": [
    "path_doc = \"../doc/\""
   ]
  },
  {
   "cell_type": "code",
   "execution_count": 111,
   "metadata": {},
   "outputs": [],
   "source": [
    "path_data = \"../data/\"\n",
    "path_clns = path_data + \"clns/\""
   ]
  },
  {
   "cell_type": "code",
   "execution_count": 119,
   "metadata": {},
   "outputs": [],
   "source": [
    "_dic_data = dict()\n",
    "for d in os.listdir(path_clns):\n",
    "    fn = d.split(\".\")[0]\n",
    "    _dic_data[fn] = pd.read_csv(path_clns+d, index_col=0)"
   ]
  },
  {
   "cell_type": "code",
   "execution_count": 131,
   "metadata": {},
   "outputs": [],
   "source": [
    "def get_mart(log=False, tgt=False, oh_tgt_both=False, fam=False, fam_both=False):\n",
    "    dic_data = copy.deepcopy(_dic_data)\n",
    "    yname = \"survived\"\n",
    "    y = dic_data[\"y\"]\n",
    "    test_id = y[y[yname].isna()].index\n",
    "    num = dic_data[\"num_logz\"] if log else dic_data[\"num_z\"]\n",
    "    \n",
    "    oh = [v for k, v in dic_data.items() if (\"onehot\" in k) and not (\"family\" in k or \"parch_sibsp\" in k)]\n",
    "    tgtenc = [v for k, v in dic_data.items() if (\"tgt\" in k) and not (\"family\" in k or \"parch_sibsp\" in k)]\n",
    "    \n",
    "    if fam_both:\n",
    "        oh += [v for k, v in dic_data.items() if (\"onehot\" in k) and (\"family\" in k or \"parch_sibsp\" in k)]\n",
    "        tgtenc += [v for k, v in dic_data.items() if (\"tgt\" in k) and (\"family\" in k or \"parch_sibsp\" in k)]\n",
    "    else:\n",
    "        if fam:\n",
    "            oh += [v for k, v in dic_data.items() if (\"onehot\" in k) and (\"family\" in k)]\n",
    "            tgtenc += [v for k, v in dic_data.items() if (\"tgt\" in k) and (\"family\" in k)]\n",
    "        else:\n",
    "            oh += [v for k, v in dic_data.items() if (\"onehot\" in k) and (\"parch_sibsp\" in k)]\n",
    "            tgtenc += [v for k, v in dic_data.items() if (\"tgt\" in k) and (\"parch_sibsp\" in k)]\n",
    "    \n",
    "    oh = pd.concat(oh, axis=1)\n",
    "    tgtenc = pd.concat(tgtenc, axis=1)\n",
    "    \n",
    "    num.columns = [\"num_\"+c for c in num.columns]\n",
    "    oh.columns = [\"oh_\"+c for c in oh.columns]\n",
    "    tgtenc.columns = [\"tgt_\"+c for c in tgtenc.columns]\n",
    "            \n",
    "    if oh_tgt_both:\n",
    "        cat = pd.concat([oh, tgtenc], axis=1)\n",
    "    else:\n",
    "        if tgt:\n",
    "            cat = tgtenc\n",
    "        else:\n",
    "            cat = oh\n",
    "            \n",
    "    mart = pd.concat([y, num, cat], axis=1)\n",
    "    train, test = mart[~mart.index.isin(test_id)], mart[mart.index.isin(test_id)]\n",
    "    train_X, train_y, test_X = train.drop(yname, 1), train[yname], test.drop(yname, 1)\n",
    "    return train_X, train_y, test_X"
   ]
  },
  {
   "cell_type": "code",
   "execution_count": 125,
   "metadata": {},
   "outputs": [],
   "source": [
    "train_X, train_y, test_X = get_mart()"
   ]
  },
  {
   "cell_type": "code",
   "execution_count": 126,
   "metadata": {},
   "outputs": [
    {
     "data": {
      "text/plain": [
       "Index(['num_age', 'num_fare', 'oh_isna_age', 'oh_iszero_fare',\n",
       "       'oh_embarked_QorS', 'oh_pclass_2nd', 'oh_pclass_3rd', 'oh_sex_male',\n",
       "       'oh_is_child', 'oh_parch_1', 'oh_parch_2', 'oh_parch_3', 'oh_parch_4+',\n",
       "       'oh_sibsp_1', 'oh_sibsp_2', 'oh_sibsp_3', 'oh_sibsp_4+'],\n",
       "      dtype='object')"
      ]
     },
     "execution_count": 126,
     "metadata": {},
     "output_type": "execute_result"
    }
   ],
   "source": [
    "train_X.columns"
   ]
  },
  {
   "cell_type": "code",
   "execution_count": 127,
   "metadata": {},
   "outputs": [],
   "source": [
    "train_X, train_y, test_X = get_mart(1,1,1,1,1)"
   ]
  },
  {
   "cell_type": "code",
   "execution_count": 128,
   "metadata": {},
   "outputs": [
    {
     "data": {
      "text/plain": [
       "Index(['num_age', 'num_fare', 'oh_isna_age', 'oh_iszero_fare',\n",
       "       'oh_embarked_QorS', 'oh_pclass_2nd', 'oh_pclass_3rd', 'oh_sex_male',\n",
       "       'oh_is_child', 'oh_family-size_1', 'oh_family-size_2',\n",
       "       'oh_family-size_3', 'oh_family-size_4', 'oh_family-size_5',\n",
       "       'oh_family-size_6', 'oh_family-size_7', 'oh_family-size_10',\n",
       "       'oh_parch_1', 'oh_parch_2', 'oh_parch_3', 'oh_parch_4+', 'oh_sibsp_1',\n",
       "       'oh_sibsp_2', 'oh_sibsp_3', 'oh_sibsp_4+',\n",
       "       'tgt_survived_iszero_fare_tgt', 'tgt_survived_isna_age_tgt',\n",
       "       'tgt_survived_embarked_tgt', 'tgt_survived_sex_tgt',\n",
       "       'tgt_survived_pclass_tgt', 'tgt_survived_familysize_tgt',\n",
       "       'tgt_survived_parch_tgt', 'tgt_survived_sibsp_tgt'],\n",
       "      dtype='object')"
      ]
     },
     "execution_count": 128,
     "metadata": {},
     "output_type": "execute_result"
    }
   ],
   "source": [
    "train_X.columns"
   ]
  },
  {
   "cell_type": "code",
   "execution_count": 138,
   "metadata": {},
   "outputs": [],
   "source": [
    "train_X, train_y, test_X = get_mart(1,0,0,0,0)"
   ]
  },
  {
   "cell_type": "code",
   "execution_count": 139,
   "metadata": {},
   "outputs": [
    {
     "data": {
      "text/plain": [
       "Index(['num_age', 'num_fare', 'oh_isna_age', 'oh_iszero_fare',\n",
       "       'oh_embarked_QorS', 'oh_pclass_2nd', 'oh_pclass_3rd', 'oh_sex_male',\n",
       "       'oh_is_child', 'oh_parch_1', 'oh_parch_2', 'oh_parch_3', 'oh_parch_4+',\n",
       "       'oh_sibsp_1', 'oh_sibsp_2', 'oh_sibsp_3', 'oh_sibsp_4+'],\n",
       "      dtype='object')"
      ]
     },
     "execution_count": 139,
     "metadata": {},
     "output_type": "execute_result"
    }
   ],
   "source": [
    "train_X.columns"
   ]
  },
  {
   "cell_type": "markdown",
   "metadata": {},
   "source": [
    "# modeling"
   ]
  },
  {
   "cell_type": "markdown",
   "metadata": {},
   "source": [
    "## LR"
   ]
  },
  {
   "cell_type": "code",
   "execution_count": 74,
   "metadata": {},
   "outputs": [],
   "source": [
    "def objective(trial):\n",
    "    flder = \"lr_v1/\"\n",
    "    p = \"../model/tuning/\"+flder\n",
    "    if not os.path.exists(p):\n",
    "        os.mkdir(p)\n",
    "        \n",
    "    trial_uuid = str(uuid.uuid4())\n",
    "    trial.set_user_attr(\"uuid\", trial_uuid)\n",
    "    \n",
    "    log = trial.suggest_int(\"use_log\", 0, 1)\n",
    "    tgt = trial.suggest_int(\"use_tgt\", 0, 1)\n",
    "    both = trial.suggest_int(\"use_both\", 0, 1)\n",
    "    param_grid = {\n",
    "        'C' : trial.suggest_int(\"C\", 1, 20),\n",
    "        'penalty': trial.suggest_categorical('penalty', ['l1', 'l2']),\n",
    "        \"random_state\": 0\n",
    "    }\n",
    "    train_X, train_y, test_X = get_mart(log, tgt, both)\n",
    "    \n",
    "    model = LogisticRegression(**param_grid)\n",
    "    kf = StratifiedKFold(n_splits=5, shuffle=True, random_state=0)\n",
    "    scores = cross_validate(model, X=train_X, y=train_y, cv=kf, scoring=\"roc_auc\")\n",
    "    auc = scores['test_score'].mean()\n",
    "    \n",
    "    # レポーティング\n",
    "    with open(p+\"00.report.csv\", mode=\"a\", encoding=\"utf8\") as f:\n",
    "        r = [trial_uuid, log, tgt, both, *param_grid.values(), auc]\n",
    "        r = [str(v) for v in r]\n",
    "        print(\",\".join(r), file=f)\n",
    "    \n",
    "    model.fit(train_X, train_y)\n",
    "    joblib.dump(model, p+\"%s.pkl\"%trial_uuid)\n",
    "    \n",
    "    return auc"
   ]
  },
  {
   "cell_type": "code",
   "execution_count": 75,
   "metadata": {},
   "outputs": [
    {
     "name": "stderr",
     "output_type": "stream",
     "text": [
      "[I 2020-03-26 18:54:40,144] Finished trial#0 resulted in value: 0.8562832628975187. Current best value is 0.8562832628975187 with parameters: {'use_log': 0, 'use_tgt': 1, 'use_both': 0, 'C': 6, 'penalty': 'l1'}.\n",
      "[I 2020-03-26 18:54:40,394] Finished trial#1 resulted in value: 0.8631833660554834. Current best value is 0.8631833660554834 with parameters: {'use_log': 1, 'use_tgt': 0, 'use_both': 0, 'C': 13, 'penalty': 'l2'}.\n",
      "[I 2020-03-26 18:54:40,508] Finished trial#2 resulted in value: 0.8558401273390791. Current best value is 0.8631833660554834 with parameters: {'use_log': 1, 'use_tgt': 0, 'use_both': 0, 'C': 13, 'penalty': 'l2'}.\n",
      "[I 2020-03-26 18:54:41,038] Finished trial#3 resulted in value: 0.8659471675928699. Current best value is 0.8659471675928699 with parameters: {'use_log': 1, 'use_tgt': 1, 'use_both': 1, 'C': 4, 'penalty': 'l1'}.\n",
      "[I 2020-03-26 18:54:41,255] Finished trial#4 resulted in value: 0.866021042006367. Current best value is 0.866021042006367 with parameters: {'use_log': 0, 'use_tgt': 0, 'use_both': 1, 'C': 1, 'penalty': 'l2'}.\n",
      "[I 2020-03-26 18:54:41,387] Finished trial#5 resulted in value: 0.8648275154459641. Current best value is 0.866021042006367 with parameters: {'use_log': 0, 'use_tgt': 0, 'use_both': 1, 'C': 1, 'penalty': 'l2'}.\n",
      "[I 2020-03-26 18:54:41,661] Finished trial#6 resulted in value: 0.8668067063769371. Current best value is 0.8668067063769371 with parameters: {'use_log': 1, 'use_tgt': 0, 'use_both': 1, 'C': 1, 'penalty': 'l1'}.\n",
      "[I 2020-03-26 18:54:41,952] Finished trial#7 resulted in value: 0.8670352068150811. Current best value is 0.8670352068150811 with parameters: {'use_log': 1, 'use_tgt': 0, 'use_both': 0, 'C': 1, 'penalty': 'l1'}.\n",
      "[I 2020-03-26 18:54:42,396] Finished trial#8 resulted in value: 0.8620841791177221. Current best value is 0.8670352068150811 with parameters: {'use_log': 1, 'use_tgt': 0, 'use_both': 0, 'C': 1, 'penalty': 'l1'}.\n",
      "[I 2020-03-26 18:54:42,536] Finished trial#9 resulted in value: 0.8503689283773141. Current best value is 0.8670352068150811 with parameters: {'use_log': 1, 'use_tgt': 0, 'use_both': 0, 'C': 1, 'penalty': 'l1'}.\n",
      "[I 2020-03-26 18:54:42,727] Finished trial#10 resulted in value: 0.8647196987343738. Current best value is 0.8670352068150811 with parameters: {'use_log': 1, 'use_tgt': 0, 'use_both': 0, 'C': 1, 'penalty': 'l1'}.\n",
      "[I 2020-03-26 18:54:42,929] Finished trial#11 resulted in value: 0.8643174935942233. Current best value is 0.8670352068150811 with parameters: {'use_log': 1, 'use_tgt': 0, 'use_both': 0, 'C': 1, 'penalty': 'l1'}.\n",
      "[I 2020-03-26 18:54:43,504] Finished trial#12 resulted in value: 0.8659471675928699. Current best value is 0.8670352068150811 with parameters: {'use_log': 1, 'use_tgt': 0, 'use_both': 0, 'C': 1, 'penalty': 'l1'}.\n",
      "[I 2020-03-26 18:54:43,672] Finished trial#13 resulted in value: 0.8636704269408672. Current best value is 0.8670352068150811 with parameters: {'use_log': 1, 'use_tgt': 0, 'use_both': 0, 'C': 1, 'penalty': 'l1'}.\n",
      "[I 2020-03-26 18:54:43,916] Finished trial#14 resulted in value: 0.8631844198196399. Current best value is 0.8670352068150811 with parameters: {'use_log': 1, 'use_tgt': 0, 'use_both': 0, 'C': 1, 'penalty': 'l1'}.\n",
      "[I 2020-03-26 18:54:44,550] Finished trial#15 resulted in value: 0.8659471675928699. Current best value is 0.8670352068150811 with parameters: {'use_log': 1, 'use_tgt': 0, 'use_both': 0, 'C': 1, 'penalty': 'l1'}.\n",
      "[I 2020-03-26 18:54:44,870] Finished trial#16 resulted in value: 0.8648433773695828. Current best value is 0.8670352068150811 with parameters: {'use_log': 1, 'use_tgt': 0, 'use_both': 0, 'C': 1, 'penalty': 'l1'}.\n",
      "[I 2020-03-26 18:54:45,170] Finished trial#17 resulted in value: 0.8668067063769371. Current best value is 0.8670352068150811 with parameters: {'use_log': 1, 'use_tgt': 0, 'use_both': 0, 'C': 1, 'penalty': 'l1'}.\n",
      "[I 2020-03-26 18:54:45,688] Finished trial#18 resulted in value: 0.8677306911583642. Current best value is 0.8677306911583642 with parameters: {'use_log': 1, 'use_tgt': 0, 'use_both': 1, 'C': 3, 'penalty': 'l1'}.\n",
      "[I 2020-03-26 18:54:46,315] Finished trial#19 resulted in value: 0.8659471675928699. Current best value is 0.8677306911583642 with parameters: {'use_log': 1, 'use_tgt': 0, 'use_both': 1, 'C': 3, 'penalty': 'l1'}.\n",
      "[I 2020-03-26 18:54:46,894] Finished trial#20 resulted in value: 0.8677306911583642. Current best value is 0.8677306911583642 with parameters: {'use_log': 1, 'use_tgt': 0, 'use_both': 1, 'C': 3, 'penalty': 'l1'}.\n",
      "[I 2020-03-26 18:54:47,337] Finished trial#21 resulted in value: 0.8629327920313246. Current best value is 0.8677306911583642 with parameters: {'use_log': 1, 'use_tgt': 0, 'use_both': 1, 'C': 3, 'penalty': 'l1'}.\n",
      "[I 2020-03-26 18:54:47,872] Finished trial#22 resulted in value: 0.8677306911583642. Current best value is 0.8677306911583642 with parameters: {'use_log': 1, 'use_tgt': 0, 'use_both': 1, 'C': 3, 'penalty': 'l1'}.\n",
      "[I 2020-03-26 18:54:48,235] Finished trial#23 resulted in value: 0.8652303861213715. Current best value is 0.8677306911583642 with parameters: {'use_log': 1, 'use_tgt': 0, 'use_both': 1, 'C': 3, 'penalty': 'l1'}.\n",
      "[I 2020-03-26 18:54:48,492] Finished trial#24 resulted in value: 0.8630757157277074. Current best value is 0.8677306911583642 with parameters: {'use_log': 1, 'use_tgt': 0, 'use_both': 1, 'C': 3, 'penalty': 'l1'}.\n",
      "[I 2020-03-26 18:54:48,926] Finished trial#25 resulted in value: 0.8677306911583642. Current best value is 0.8677306911583642 with parameters: {'use_log': 1, 'use_tgt': 0, 'use_both': 1, 'C': 3, 'penalty': 'l1'}.\n",
      "[I 2020-03-26 18:54:49,391] Finished trial#26 resulted in value: 0.8621919958293123. Current best value is 0.8677306911583642 with parameters: {'use_log': 1, 'use_tgt': 0, 'use_both': 1, 'C': 3, 'penalty': 'l1'}.\n",
      "[I 2020-03-26 18:54:49,877] Finished trial#27 resulted in value: 0.8629089991458964. Current best value is 0.8677306911583642 with parameters: {'use_log': 1, 'use_tgt': 0, 'use_both': 1, 'C': 3, 'penalty': 'l1'}.\n",
      "[I 2020-03-26 18:54:50,328] Finished trial#28 resulted in value: 0.8652303861213715. Current best value is 0.8677306911583642 with parameters: {'use_log': 1, 'use_tgt': 0, 'use_both': 1, 'C': 3, 'penalty': 'l1'}.\n",
      "[I 2020-03-26 18:54:50,610] Finished trial#29 resulted in value: 0.8671541712422215. Current best value is 0.8677306911583642 with parameters: {'use_log': 1, 'use_tgt': 0, 'use_both': 1, 'C': 3, 'penalty': 'l1'}.\n",
      "[I 2020-03-26 18:54:51,000] Finished trial#30 resulted in value: 0.8621840648675031. Current best value is 0.8677306911583642 with parameters: {'use_log': 1, 'use_tgt': 0, 'use_both': 1, 'C': 3, 'penalty': 'l1'}.\n",
      "[I 2020-03-26 18:54:51,296] Finished trial#31 resulted in value: 0.864220103601655. Current best value is 0.8677306911583642 with parameters: {'use_log': 1, 'use_tgt': 0, 'use_both': 1, 'C': 3, 'penalty': 'l1'}.\n",
      "[I 2020-03-26 18:54:51,857] Finished trial#32 resulted in value: 0.8659487759697404. Current best value is 0.8677306911583642 with parameters: {'use_log': 1, 'use_tgt': 0, 'use_both': 1, 'C': 3, 'penalty': 'l1'}.\n",
      "[I 2020-03-26 18:54:52,170] Finished trial#33 resulted in value: 0.8688059188268833. Current best value is 0.8688059188268833 with parameters: {'use_log': 1, 'use_tgt': 1, 'use_both': 1, 'C': 2, 'penalty': 'l2'}.\n",
      "[I 2020-03-26 18:54:52,479] Finished trial#34 resulted in value: 0.8636998768759774. Current best value is 0.8688059188268833 with parameters: {'use_log': 1, 'use_tgt': 1, 'use_both': 1, 'C': 2, 'penalty': 'l2'}.\n",
      "[I 2020-03-26 18:54:52,738] Finished trial#35 resulted in value: 0.8688059188268833. Current best value is 0.8688059188268833 with parameters: {'use_log': 1, 'use_tgt': 1, 'use_both': 1, 'C': 2, 'penalty': 'l2'}.\n",
      "[I 2020-03-26 18:54:53,011] Finished trial#36 resulted in value: 0.8628549798675584. Current best value is 0.8688059188268833 with parameters: {'use_log': 1, 'use_tgt': 1, 'use_both': 1, 'C': 2, 'penalty': 'l2'}.\n",
      "[I 2020-03-26 18:54:53,309] Finished trial#37 resulted in value: 0.8619138575532705. Current best value is 0.8688059188268833 with parameters: {'use_log': 1, 'use_tgt': 1, 'use_both': 1, 'C': 2, 'penalty': 'l2'}.\n"
     ]
    },
    {
     "name": "stderr",
     "output_type": "stream",
     "text": [
      "[I 2020-03-26 18:54:53,581] Finished trial#38 resulted in value: 0.8688059188268833. Current best value is 0.8688059188268833 with parameters: {'use_log': 1, 'use_tgt': 1, 'use_both': 1, 'C': 2, 'penalty': 'l2'}.\n",
      "[I 2020-03-26 18:54:53,819] Finished trial#39 resulted in value: 0.8630757157277074. Current best value is 0.8688059188268833 with parameters: {'use_log': 1, 'use_tgt': 1, 'use_both': 1, 'C': 2, 'penalty': 'l2'}.\n",
      "[I 2020-03-26 18:54:54,064] Finished trial#40 resulted in value: 0.8558459507725755. Current best value is 0.8688059188268833 with parameters: {'use_log': 1, 'use_tgt': 1, 'use_both': 1, 'C': 2, 'penalty': 'l2'}.\n",
      "[I 2020-03-26 18:54:54,473] Finished trial#41 resulted in value: 0.8632894080063892. Current best value is 0.8688059188268833 with parameters: {'use_log': 1, 'use_tgt': 1, 'use_both': 1, 'C': 2, 'penalty': 'l2'}.\n",
      "[I 2020-03-26 18:54:54,785] Finished trial#42 resulted in value: 0.8572215012256941. Current best value is 0.8688059188268833 with parameters: {'use_log': 1, 'use_tgt': 1, 'use_both': 1, 'C': 2, 'penalty': 'l2'}.\n",
      "[I 2020-03-26 18:54:55,091] Finished trial#43 resulted in value: 0.8688059188268833. Current best value is 0.8688059188268833 with parameters: {'use_log': 1, 'use_tgt': 1, 'use_both': 1, 'C': 2, 'penalty': 'l2'}.\n",
      "[I 2020-03-26 18:54:55,450] Finished trial#44 resulted in value: 0.854524585981609. Current best value is 0.8688059188268833 with parameters: {'use_log': 1, 'use_tgt': 1, 'use_both': 1, 'C': 2, 'penalty': 'l2'}.\n",
      "[I 2020-03-26 18:54:55,908] Finished trial#45 resulted in value: 0.8629578605259948. Current best value is 0.8688059188268833 with parameters: {'use_log': 1, 'use_tgt': 1, 'use_both': 1, 'C': 2, 'penalty': 'l2'}.\n",
      "[I 2020-03-26 18:54:56,173] Finished trial#46 resulted in value: 0.8572215012256941. Current best value is 0.8688059188268833 with parameters: {'use_log': 1, 'use_tgt': 1, 'use_both': 1, 'C': 2, 'penalty': 'l2'}.\n",
      "[I 2020-03-26 18:54:56,394] Finished trial#47 resulted in value: 0.8673779020110258. Current best value is 0.8688059188268833 with parameters: {'use_log': 1, 'use_tgt': 1, 'use_both': 1, 'C': 2, 'penalty': 'l2'}.\n",
      "[I 2020-03-26 18:54:56,640] Finished trial#48 resulted in value: 0.8677636906148438. Current best value is 0.8688059188268833 with parameters: {'use_log': 1, 'use_tgt': 1, 'use_both': 1, 'C': 2, 'penalty': 'l2'}.\n",
      "[I 2020-03-26 18:54:56,985] Finished trial#49 resulted in value: 0.8558401273390791. Current best value is 0.8688059188268833 with parameters: {'use_log': 1, 'use_tgt': 1, 'use_both': 1, 'C': 2, 'penalty': 'l2'}.\n",
      "[I 2020-03-26 18:54:57,291] Finished trial#50 resulted in value: 0.8628630772131821. Current best value is 0.8688059188268833 with parameters: {'use_log': 1, 'use_tgt': 1, 'use_both': 1, 'C': 2, 'penalty': 'l2'}.\n",
      "[I 2020-03-26 18:54:57,553] Finished trial#51 resulted in value: 0.8624399077124444. Current best value is 0.8688059188268833 with parameters: {'use_log': 1, 'use_tgt': 1, 'use_both': 1, 'C': 2, 'penalty': 'l2'}.\n",
      "[I 2020-03-26 18:54:57,838] Finished trial#52 resulted in value: 0.8628669595021797. Current best value is 0.8688059188268833 with parameters: {'use_log': 1, 'use_tgt': 1, 'use_both': 1, 'C': 2, 'penalty': 'l2'}.\n",
      "[I 2020-03-26 18:54:58,122] Finished trial#53 resulted in value: 0.8569020997637351. Current best value is 0.8688059188268833 with parameters: {'use_log': 1, 'use_tgt': 1, 'use_both': 1, 'C': 2, 'penalty': 'l2'}.\n",
      "[I 2020-03-26 18:54:58,461] Finished trial#54 resulted in value: 0.863594001308886. Current best value is 0.8688059188268833 with parameters: {'use_log': 1, 'use_tgt': 1, 'use_both': 1, 'C': 2, 'penalty': 'l2'}.\n",
      "[I 2020-03-26 18:54:58,682] Finished trial#55 resulted in value: 0.8519470788548358. Current best value is 0.8688059188268833 with parameters: {'use_log': 1, 'use_tgt': 1, 'use_both': 1, 'C': 2, 'penalty': 'l2'}.\n",
      "[I 2020-03-26 18:54:58,961] Finished trial#56 resulted in value: 0.8676506050824709. Current best value is 0.8688059188268833 with parameters: {'use_log': 1, 'use_tgt': 1, 'use_both': 1, 'C': 2, 'penalty': 'l2'}.\n",
      "[I 2020-03-26 18:54:59,204] Finished trial#57 resulted in value: 0.8677636906148438. Current best value is 0.8688059188268833 with parameters: {'use_log': 1, 'use_tgt': 1, 'use_both': 1, 'C': 2, 'penalty': 'l2'}.\n",
      "[I 2020-03-26 18:54:59,460] Finished trial#58 resulted in value: 0.8629578605259948. Current best value is 0.8688059188268833 with parameters: {'use_log': 1, 'use_tgt': 1, 'use_both': 1, 'C': 2, 'penalty': 'l2'}.\n",
      "[I 2020-03-26 18:54:59,770] Finished trial#59 resulted in value: 0.8630757157277074. Current best value is 0.8688059188268833 with parameters: {'use_log': 1, 'use_tgt': 1, 'use_both': 1, 'C': 2, 'penalty': 'l2'}.\n",
      "[I 2020-03-26 18:55:00,134] Finished trial#60 resulted in value: 0.867572959302519. Current best value is 0.8688059188268833 with parameters: {'use_log': 1, 'use_tgt': 1, 'use_both': 1, 'C': 2, 'penalty': 'l2'}.\n",
      "[I 2020-03-26 18:55:00,442] Finished trial#61 resulted in value: 0.8558263729437735. Current best value is 0.8688059188268833 with parameters: {'use_log': 1, 'use_tgt': 1, 'use_both': 1, 'C': 2, 'penalty': 'l2'}.\n",
      "[I 2020-03-26 18:55:00,811] Finished trial#62 resulted in value: 0.8654557252670461. Current best value is 0.8688059188268833 with parameters: {'use_log': 1, 'use_tgt': 1, 'use_both': 1, 'C': 2, 'penalty': 'l2'}.\n",
      "[I 2020-03-26 18:55:01,264] Finished trial#63 resulted in value: 0.8646247490377469. Current best value is 0.8688059188268833 with parameters: {'use_log': 1, 'use_tgt': 1, 'use_both': 1, 'C': 2, 'penalty': 'l2'}.\n",
      "[I 2020-03-26 18:55:01,617] Finished trial#64 resulted in value: 0.8631845862034542. Current best value is 0.8688059188268833 with parameters: {'use_log': 1, 'use_tgt': 1, 'use_both': 1, 'C': 2, 'penalty': 'l2'}.\n",
      "[I 2020-03-26 18:55:01,928] Finished trial#65 resulted in value: 0.8688059188268833. Current best value is 0.8688059188268833 with parameters: {'use_log': 1, 'use_tgt': 1, 'use_both': 1, 'C': 2, 'penalty': 'l2'}.\n",
      "[I 2020-03-26 18:55:02,273] Finished trial#66 resulted in value: 0.8676506050824709. Current best value is 0.8688059188268833 with parameters: {'use_log': 1, 'use_tgt': 1, 'use_both': 1, 'C': 2, 'penalty': 'l2'}.\n",
      "[I 2020-03-26 18:55:02,619] Finished trial#67 resulted in value: 0.8675350237928854. Current best value is 0.8688059188268833 with parameters: {'use_log': 1, 'use_tgt': 1, 'use_both': 1, 'C': 2, 'penalty': 'l2'}.\n",
      "[I 2020-03-26 18:55:02,931] Finished trial#68 resulted in value: 0.8688059188268833. Current best value is 0.8688059188268833 with parameters: {'use_log': 1, 'use_tgt': 1, 'use_both': 1, 'C': 2, 'penalty': 'l2'}.\n",
      "[I 2020-03-26 18:55:03,301] Finished trial#69 resulted in value: 0.8677636906148438. Current best value is 0.8688059188268833 with parameters: {'use_log': 1, 'use_tgt': 1, 'use_both': 1, 'C': 2, 'penalty': 'l2'}.\n",
      "[I 2020-03-26 18:55:03,644] Finished trial#70 resulted in value: 0.8676506050824709. Current best value is 0.8688059188268833 with parameters: {'use_log': 1, 'use_tgt': 1, 'use_both': 1, 'C': 2, 'penalty': 'l2'}.\n",
      "[I 2020-03-26 18:55:04,067] Finished trial#71 resulted in value: 0.8654557252670461. Current best value is 0.8688059188268833 with parameters: {'use_log': 1, 'use_tgt': 1, 'use_both': 1, 'C': 2, 'penalty': 'l2'}.\n",
      "[I 2020-03-26 18:55:04,405] Finished trial#72 resulted in value: 0.8675350237928854. Current best value is 0.8688059188268833 with parameters: {'use_log': 1, 'use_tgt': 1, 'use_both': 1, 'C': 2, 'penalty': 'l2'}.\n",
      "[I 2020-03-26 18:55:04,817] Finished trial#73 resulted in value: 0.8688059188268833. Current best value is 0.8688059188268833 with parameters: {'use_log': 1, 'use_tgt': 1, 'use_both': 1, 'C': 2, 'penalty': 'l2'}.\n",
      "[I 2020-03-26 18:55:05,146] Finished trial#74 resulted in value: 0.8677636906148438. Current best value is 0.8688059188268833 with parameters: {'use_log': 1, 'use_tgt': 1, 'use_both': 1, 'C': 2, 'penalty': 'l2'}.\n",
      "[I 2020-03-26 18:55:05,474] Finished trial#75 resulted in value: 0.8656457910441139. Current best value is 0.8688059188268833 with parameters: {'use_log': 1, 'use_tgt': 1, 'use_both': 1, 'C': 2, 'penalty': 'l2'}.\n"
     ]
    },
    {
     "name": "stderr",
     "output_type": "stream",
     "text": [
      "[I 2020-03-26 18:55:06,020] Finished trial#76 resulted in value: 0.8553829600789769. Current best value is 0.8688059188268833 with parameters: {'use_log': 1, 'use_tgt': 1, 'use_both': 1, 'C': 2, 'penalty': 'l2'}.\n",
      "[I 2020-03-26 18:55:06,377] Finished trial#77 resulted in value: 0.8675350237928854. Current best value is 0.8688059188268833 with parameters: {'use_log': 1, 'use_tgt': 1, 'use_both': 1, 'C': 2, 'penalty': 'l2'}.\n",
      "[I 2020-03-26 18:55:06,739] Finished trial#78 resulted in value: 0.8654742493316917. Current best value is 0.8688059188268833 with parameters: {'use_log': 1, 'use_tgt': 1, 'use_both': 1, 'C': 2, 'penalty': 'l2'}.\n",
      "[I 2020-03-26 18:55:07,288] Finished trial#79 resulted in value: 0.8668067063769371. Current best value is 0.8688059188268833 with parameters: {'use_log': 1, 'use_tgt': 1, 'use_both': 1, 'C': 2, 'penalty': 'l2'}.\n",
      "[I 2020-03-26 18:55:07,794] Finished trial#80 resulted in value: 0.8542935897862522. Current best value is 0.8688059188268833 with parameters: {'use_log': 1, 'use_tgt': 1, 'use_both': 1, 'C': 2, 'penalty': 'l2'}.\n",
      "[I 2020-03-26 18:55:08,309] Finished trial#81 resulted in value: 0.8676506050824709. Current best value is 0.8688059188268833 with parameters: {'use_log': 1, 'use_tgt': 1, 'use_both': 1, 'C': 2, 'penalty': 'l2'}.\n",
      "[I 2020-03-26 18:55:08,787] Finished trial#82 resulted in value: 0.8645405588277706. Current best value is 0.8688059188268833 with parameters: {'use_log': 1, 'use_tgt': 1, 'use_both': 1, 'C': 2, 'penalty': 'l2'}.\n",
      "[I 2020-03-26 18:55:09,395] Finished trial#83 resulted in value: 0.8659487759697404. Current best value is 0.8688059188268833 with parameters: {'use_log': 1, 'use_tgt': 1, 'use_both': 1, 'C': 2, 'penalty': 'l2'}.\n",
      "[I 2020-03-26 18:55:09,751] Finished trial#84 resulted in value: 0.8633864652313289. Current best value is 0.8688059188268833 with parameters: {'use_log': 1, 'use_tgt': 1, 'use_both': 1, 'C': 2, 'penalty': 'l2'}.\n",
      "[I 2020-03-26 18:55:10,092] Finished trial#85 resulted in value: 0.8675350237928854. Current best value is 0.8688059188268833 with parameters: {'use_log': 1, 'use_tgt': 1, 'use_both': 1, 'C': 2, 'penalty': 'l2'}.\n",
      "[I 2020-03-26 18:55:10,430] Finished trial#86 resulted in value: 0.8676506050824709. Current best value is 0.8688059188268833 with parameters: {'use_log': 1, 'use_tgt': 1, 'use_both': 1, 'C': 2, 'penalty': 'l2'}.\n",
      "[I 2020-03-26 18:55:11,050] Finished trial#87 resulted in value: 0.8562707286501835. Current best value is 0.8688059188268833 with parameters: {'use_log': 1, 'use_tgt': 1, 'use_both': 1, 'C': 2, 'penalty': 'l2'}.\n",
      "[I 2020-03-26 18:55:11,381] Finished trial#88 resulted in value: 0.8688059188268833. Current best value is 0.8688059188268833 with parameters: {'use_log': 1, 'use_tgt': 1, 'use_both': 1, 'C': 2, 'penalty': 'l2'}.\n",
      "[I 2020-03-26 18:55:11,748] Finished trial#89 resulted in value: 0.8677636906148438. Current best value is 0.8688059188268833 with parameters: {'use_log': 1, 'use_tgt': 1, 'use_both': 1, 'C': 2, 'penalty': 'l2'}.\n",
      "[I 2020-03-26 18:55:12,086] Finished trial#90 resulted in value: 0.8623331447650106. Current best value is 0.8688059188268833 with parameters: {'use_log': 1, 'use_tgt': 1, 'use_both': 1, 'C': 2, 'penalty': 'l2'}.\n",
      "[I 2020-03-26 18:55:12,466] Finished trial#91 resulted in value: 0.8676506050824709. Current best value is 0.8688059188268833 with parameters: {'use_log': 1, 'use_tgt': 1, 'use_both': 1, 'C': 2, 'penalty': 'l2'}.\n",
      "[I 2020-03-26 18:55:12,789] Finished trial#92 resulted in value: 0.8633499717147515. Current best value is 0.8688059188268833 with parameters: {'use_log': 1, 'use_tgt': 1, 'use_both': 1, 'C': 2, 'penalty': 'l2'}.\n",
      "[I 2020-03-26 18:55:13,095] Finished trial#93 resulted in value: 0.864220103601655. Current best value is 0.8688059188268833 with parameters: {'use_log': 1, 'use_tgt': 1, 'use_both': 1, 'C': 2, 'penalty': 'l2'}.\n",
      "[I 2020-03-26 18:55:13,436] Finished trial#94 resulted in value: 0.8646247490377469. Current best value is 0.8688059188268833 with parameters: {'use_log': 1, 'use_tgt': 1, 'use_both': 1, 'C': 2, 'penalty': 'l2'}.\n",
      "[I 2020-03-26 18:55:13,806] Finished trial#95 resulted in value: 0.8654557252670461. Current best value is 0.8688059188268833 with parameters: {'use_log': 1, 'use_tgt': 1, 'use_both': 1, 'C': 2, 'penalty': 'l2'}.\n",
      "[I 2020-03-26 18:55:14,116] Finished trial#96 resulted in value: 0.8673779020110258. Current best value is 0.8688059188268833 with parameters: {'use_log': 1, 'use_tgt': 1, 'use_both': 1, 'C': 2, 'penalty': 'l2'}.\n",
      "[I 2020-03-26 18:55:14,656] Finished trial#97 resulted in value: 0.8553988220025955. Current best value is 0.8688059188268833 with parameters: {'use_log': 1, 'use_tgt': 1, 'use_both': 1, 'C': 2, 'penalty': 'l2'}.\n",
      "[I 2020-03-26 18:55:15,074] Finished trial#98 resulted in value: 0.8675350237928854. Current best value is 0.8688059188268833 with parameters: {'use_log': 1, 'use_tgt': 1, 'use_both': 1, 'C': 2, 'penalty': 'l2'}.\n",
      "[I 2020-03-26 18:55:15,578] Finished trial#99 resulted in value: 0.8677636906148438. Current best value is 0.8688059188268833 with parameters: {'use_log': 1, 'use_tgt': 1, 'use_both': 1, 'C': 2, 'penalty': 'l2'}.\n"
     ]
    }
   ],
   "source": [
    "study = optuna.create_study(direction='maximize')\n",
    "study.optimize(objective, n_trials=100)"
   ]
  },
  {
   "cell_type": "code",
   "execution_count": 77,
   "metadata": {},
   "outputs": [
    {
     "name": "stdout",
     "output_type": "stream",
     "text": [
      "{'use_log': 1, 'use_tgt': 1, 'use_both': 1, 'C': 2, 'penalty': 'l2'}\n",
      "0.8688059188268833\n"
     ]
    }
   ],
   "source": [
    "print(study.best_params)\n",
    "print(study.best_value)"
   ]
  },
  {
   "cell_type": "code",
   "execution_count": 78,
   "metadata": {
    "scrolled": true
   },
   "outputs": [],
   "source": [
    "def objective(trial):\n",
    "    param_grid = {\n",
    "        'C' : trial.suggest_uniform(\"C\", 1, 3),\n",
    "        'penalty': trial.suggest_categorical('penalty', ['l1', 'l2']),\n",
    "        \"random_state\": 0\n",
    "    }\n",
    "    train_X, train_y, test_X = get_mart(log=True, tgt=True, both=True)\n",
    "    \n",
    "    model = LogisticRegression(**param_grid)\n",
    "    kf = StratifiedKFold(n_splits=5, shuffle=True, random_state=0)\n",
    "    scores = cross_validate(model, X=train_X, y=train_y, cv=kf, scoring=\"roc_auc\")\n",
    "    auc = scores['test_score'].mean()\n",
    "    return auc"
   ]
  },
  {
   "cell_type": "code",
   "execution_count": 79,
   "metadata": {},
   "outputs": [
    {
     "name": "stderr",
     "output_type": "stream",
     "text": [
      "[I 2020-03-26 18:56:40,654] Finished trial#0 resulted in value: 0.8676267567357714. Current best value is 0.8676267567357714 with parameters: {'C': 2.0417208886023595, 'penalty': 'l1'}.\n",
      "[I 2020-03-26 18:56:40,811] Finished trial#1 resulted in value: 0.8676325801692677. Current best value is 0.8676325801692677 with parameters: {'C': 1.252471460324702, 'penalty': 'l1'}.\n",
      "[I 2020-03-26 18:56:40,912] Finished trial#2 resulted in value: 0.86775559326922. Current best value is 0.86775559326922 with parameters: {'C': 2.468056727790376, 'penalty': 'l2'}.\n",
      "[I 2020-03-26 18:56:41,024] Finished trial#3 resulted in value: 0.8679632957305913. Current best value is 0.8679632957305913 with parameters: {'C': 2.36221406774869, 'penalty': 'l2'}.\n",
      "[I 2020-03-26 18:56:41,135] Finished trial#4 resulted in value: 0.8683887391434562. Current best value is 0.8683887391434562 with parameters: {'C': 1.5191910999796119, 'penalty': 'l2'}.\n",
      "[I 2020-03-26 18:56:41,244] Finished trial#5 resulted in value: 0.8677518773640367. Current best value is 0.8683887391434562 with parameters: {'C': 1.5191910999796119, 'penalty': 'l2'}.\n",
      "[I 2020-03-26 18:56:41,438] Finished trial#6 resulted in value: 0.8689117943939747. Current best value is 0.8689117943939747 with parameters: {'C': 1.7303078139583443, 'penalty': 'l2'}.\n",
      "[I 2020-03-26 18:56:41,560] Finished trial#7 resulted in value: 0.8675461160471644. Current best value is 0.8689117943939747 with parameters: {'C': 1.7303078139583443, 'penalty': 'l2'}.\n",
      "[I 2020-03-26 18:56:41,837] Finished trial#8 resulted in value: 0.867208523288188. Current best value is 0.8689117943939747 with parameters: {'C': 1.7303078139583443, 'penalty': 'l2'}.\n",
      "[I 2020-03-26 18:56:41,963] Finished trial#9 resulted in value: 0.8675461160471644. Current best value is 0.8689117943939747 with parameters: {'C': 1.7303078139583443, 'penalty': 'l2'}.\n",
      "[I 2020-03-26 18:56:42,094] Finished trial#10 resulted in value: 0.8689117943939747. Current best value is 0.8689117943939747 with parameters: {'C': 1.7303078139583443, 'penalty': 'l2'}.\n",
      "[I 2020-03-26 18:56:42,236] Finished trial#11 resulted in value: 0.8688059188268833. Current best value is 0.8689117943939747 with parameters: {'C': 1.7303078139583443, 'penalty': 'l2'}.\n",
      "[I 2020-03-26 18:56:42,548] Finished trial#12 resulted in value: 0.867106530010094. Current best value is 0.8689117943939747 with parameters: {'C': 1.7303078139583443, 'penalty': 'l2'}.\n",
      "[I 2020-03-26 18:56:42,690] Finished trial#13 resulted in value: 0.8677636906148438. Current best value is 0.8689117943939747 with parameters: {'C': 1.7303078139583443, 'penalty': 'l2'}.\n",
      "[I 2020-03-26 18:56:42,925] Finished trial#14 resulted in value: 0.8677336860670193. Current best value is 0.8689117943939747 with parameters: {'C': 1.7303078139583443, 'penalty': 'l2'}.\n",
      "[I 2020-03-26 18:56:43,073] Finished trial#15 resulted in value: 0.8676477765576298. Current best value is 0.8689117943939747 with parameters: {'C': 1.7303078139583443, 'penalty': 'l2'}.\n",
      "[I 2020-03-26 18:56:43,258] Finished trial#16 resulted in value: 0.8686991558794495. Current best value is 0.8689117943939747 with parameters: {'C': 1.7303078139583443, 'penalty': 'l2'}.\n",
      "[I 2020-03-26 18:56:43,414] Finished trial#17 resulted in value: 0.8688069725910397. Current best value is 0.8689117943939747 with parameters: {'C': 1.7303078139583443, 'penalty': 'l2'}.\n",
      "[I 2020-03-26 18:56:43,565] Finished trial#18 resulted in value: 0.8683915676682974. Current best value is 0.8689117943939747 with parameters: {'C': 1.7303078139583443, 'penalty': 'l2'}.\n",
      "[I 2020-03-26 18:56:43,729] Finished trial#19 resulted in value: 0.86891478930263. Current best value is 0.86891478930263 with parameters: {'C': 1.6227110538392988, 'penalty': 'l2'}.\n",
      "[I 2020-03-26 18:56:43,876] Finished trial#20 resulted in value: 0.8683887391434562. Current best value is 0.86891478930263 with parameters: {'C': 1.6227110538392988, 'penalty': 'l2'}.\n",
      "[I 2020-03-26 18:56:44,010] Finished trial#21 resulted in value: 0.8687010970239483. Current best value is 0.86891478930263 with parameters: {'C': 1.6227110538392988, 'penalty': 'l2'}.\n",
      "[I 2020-03-26 18:56:44,151] Finished trial#22 resulted in value: 0.868600323893825. Current best value is 0.86891478930263 with parameters: {'C': 1.6227110538392988, 'penalty': 'l2'}.\n",
      "[I 2020-03-26 18:56:44,301] Finished trial#23 resulted in value: 0.8676440606524464. Current best value is 0.86891478930263 with parameters: {'C': 1.6227110538392988, 'penalty': 'l2'}.\n",
      "[I 2020-03-26 18:56:44,427] Finished trial#24 resulted in value: 0.8682837509567071. Current best value is 0.86891478930263 with parameters: {'C': 1.6227110538392988, 'penalty': 'l2'}.\n",
      "[I 2020-03-26 18:56:44,674] Finished trial#25 resulted in value: 0.8679463245815446. Current best value is 0.86891478930263 with parameters: {'C': 1.6227110538392988, 'penalty': 'l2'}.\n",
      "[I 2020-03-26 18:56:44,794] Finished trial#26 resulted in value: 0.867971393076215. Current best value is 0.86891478930263 with parameters: {'C': 1.6227110538392988, 'penalty': 'l2'}.\n",
      "[I 2020-03-26 18:56:44,937] Finished trial#27 resulted in value: 0.86891478930263. Current best value is 0.86891478930263 with parameters: {'C': 1.6227110538392988, 'penalty': 'l2'}.\n",
      "[I 2020-03-26 18:56:45,175] Finished trial#28 resulted in value: 0.8673092964183111. Current best value is 0.86891478930263 with parameters: {'C': 1.6227110538392988, 'penalty': 'l2'}.\n",
      "[I 2020-03-26 18:56:45,290] Finished trial#29 resulted in value: 0.8675519394806607. Current best value is 0.86891478930263 with parameters: {'C': 1.6227110538392988, 'penalty': 'l2'}.\n",
      "[I 2020-03-26 18:56:45,504] Finished trial#30 resulted in value: 0.8678432775392944. Current best value is 0.86891478930263 with parameters: {'C': 1.6227110538392988, 'penalty': 'l2'}.\n",
      "[I 2020-03-26 18:56:45,627] Finished trial#31 resulted in value: 0.8676489967056005. Current best value is 0.86891478930263 with parameters: {'C': 1.6227110538392988, 'penalty': 'l2'}.\n",
      "[I 2020-03-26 18:56:45,811] Finished trial#32 resulted in value: 0.8687838452408684. Current best value is 0.86891478930263 with parameters: {'C': 1.6227110538392988, 'penalty': 'l2'}.\n",
      "[I 2020-03-26 18:56:45,939] Finished trial#33 resulted in value: 0.8676477765576298. Current best value is 0.86891478930263 with parameters: {'C': 1.6227110538392988, 'penalty': 'l2'}.\n",
      "[I 2020-03-26 18:56:46,096] Finished trial#34 resulted in value: 0.8687010970239483. Current best value is 0.86891478930263 with parameters: {'C': 1.6227110538392988, 'penalty': 'l2'}.\n",
      "[I 2020-03-26 18:56:46,254] Finished trial#35 resulted in value: 0.8683915676682974. Current best value is 0.86891478930263 with parameters: {'C': 1.6227110538392988, 'penalty': 'l2'}.\n",
      "[I 2020-03-26 18:56:46,412] Finished trial#36 resulted in value: 0.8679632957305913. Current best value is 0.86891478930263 with parameters: {'C': 1.6227110538392988, 'penalty': 'l2'}.\n",
      "[I 2020-03-26 18:56:46,543] Finished trial#37 resulted in value: 0.86891478930263. Current best value is 0.86891478930263 with parameters: {'C': 1.6227110538392988, 'penalty': 'l2'}.\n",
      "[I 2020-03-26 18:56:46,778] Finished trial#38 resulted in value: 0.8688886670438034. Current best value is 0.86891478930263 with parameters: {'C': 1.6227110538392988, 'penalty': 'l2'}.\n",
      "[I 2020-03-26 18:56:46,912] Finished trial#39 resulted in value: 0.8675461160471644. Current best value is 0.86891478930263 with parameters: {'C': 1.6227110538392988, 'penalty': 'l2'}.\n",
      "[I 2020-03-26 18:56:47,082] Finished trial#40 resulted in value: 0.86775559326922. Current best value is 0.86891478930263 with parameters: {'C': 1.6227110538392988, 'penalty': 'l2'}.\n",
      "[I 2020-03-26 18:56:47,227] Finished trial#41 resulted in value: 0.8674471176777256. Current best value is 0.86891478930263 with parameters: {'C': 1.6227110538392988, 'penalty': 'l2'}.\n",
      "[I 2020-03-26 18:56:47,446] Finished trial#42 resulted in value: 0.868156689183943. Current best value is 0.86891478930263 with parameters: {'C': 1.6227110538392988, 'penalty': 'l2'}.\n",
      "[I 2020-03-26 18:56:47,571] Finished trial#43 resulted in value: 0.8688069725910397. Current best value is 0.86891478930263 with parameters: {'C': 1.6227110538392988, 'penalty': 'l2'}.\n"
     ]
    },
    {
     "name": "stderr",
     "output_type": "stream",
     "text": [
      "[I 2020-03-26 18:56:47,724] Finished trial#44 resulted in value: 0.8687060330771024. Current best value is 0.86891478930263 with parameters: {'C': 1.6227110538392988, 'penalty': 'l2'}.\n",
      "[I 2020-03-26 18:56:47,910] Finished trial#45 resulted in value: 0.8687010970239483. Current best value is 0.86891478930263 with parameters: {'C': 1.6227110538392988, 'penalty': 'l2'}.\n",
      "[I 2020-03-26 18:56:48,182] Finished trial#46 resulted in value: 0.8678385078699543. Current best value is 0.86891478930263 with parameters: {'C': 1.6227110538392988, 'penalty': 'l2'}.\n",
      "[I 2020-03-26 18:56:48,328] Finished trial#47 resulted in value: 0.8680723325901523. Current best value is 0.86891478930263 with parameters: {'C': 1.6227110538392988, 'penalty': 'l2'}.\n",
      "[I 2020-03-26 18:56:48,483] Finished trial#48 resulted in value: 0.867971393076215. Current best value is 0.86891478930263 with parameters: {'C': 1.6227110538392988, 'penalty': 'l2'}.\n",
      "[I 2020-03-26 18:56:48,638] Finished trial#49 resulted in value: 0.8676458354131309. Current best value is 0.86891478930263 with parameters: {'C': 1.6227110538392988, 'penalty': 'l2'}.\n",
      "[I 2020-03-26 18:56:48,874] Finished trial#50 resulted in value: 0.8680509800006655. Current best value is 0.86891478930263 with parameters: {'C': 1.6227110538392988, 'penalty': 'l2'}.\n",
      "[I 2020-03-26 18:56:49,003] Finished trial#51 resulted in value: 0.8678634099808104. Current best value is 0.86891478930263 with parameters: {'C': 1.6227110538392988, 'penalty': 'l2'}.\n",
      "[I 2020-03-26 18:56:49,153] Finished trial#52 resulted in value: 0.8689068583408206. Current best value is 0.86891478930263 with parameters: {'C': 1.6227110538392988, 'penalty': 'l2'}.\n",
      "[I 2020-03-26 18:56:49,310] Finished trial#53 resulted in value: 0.8686012112741673. Current best value is 0.86891478930263 with parameters: {'C': 1.6227110538392988, 'penalty': 'l2'}.\n",
      "[I 2020-03-26 18:56:49,441] Finished trial#54 resulted in value: 0.8687010970239483. Current best value is 0.86891478930263 with parameters: {'C': 1.6227110538392988, 'penalty': 'l2'}.\n",
      "[I 2020-03-26 18:56:49,728] Finished trial#55 resulted in value: 0.8676237618271163. Current best value is 0.86891478930263 with parameters: {'C': 1.6227110538392988, 'penalty': 'l2'}.\n",
      "[I 2020-03-26 18:56:49,860] Finished trial#56 resulted in value: 0.8688069725910397. Current best value is 0.86891478930263 with parameters: {'C': 1.6227110538392988, 'penalty': 'l2'}.\n",
      "[I 2020-03-26 18:56:50,001] Finished trial#57 resulted in value: 0.8683887391434562. Current best value is 0.86891478930263 with parameters: {'C': 1.6227110538392988, 'penalty': 'l2'}.\n",
      "[I 2020-03-26 18:56:50,133] Finished trial#58 resulted in value: 0.8678547580224729. Current best value is 0.86891478930263 with parameters: {'C': 1.6227110538392988, 'penalty': 'l2'}.\n",
      "[I 2020-03-26 18:56:50,353] Finished trial#59 resulted in value: 0.8669057047463756. Current best value is 0.86891478930263 with parameters: {'C': 1.6227110538392988, 'penalty': 'l2'}.\n",
      "[I 2020-03-26 18:56:50,524] Finished trial#60 resulted in value: 0.8687010970239483. Current best value is 0.86891478930263 with parameters: {'C': 1.6227110538392988, 'penalty': 'l2'}.\n",
      "[I 2020-03-26 18:56:50,739] Finished trial#61 resulted in value: 0.8676440606524464. Current best value is 0.86891478930263 with parameters: {'C': 1.6227110538392988, 'penalty': 'l2'}.\n",
      "[I 2020-03-26 18:56:50,886] Finished trial#62 resulted in value: 0.8674462302973834. Current best value is 0.86891478930263 with parameters: {'C': 1.6227110538392988, 'penalty': 'l2'}.\n",
      "[I 2020-03-26 18:56:51,242] Finished trial#63 resulted in value: 0.8679422759087331. Current best value is 0.86891478930263 with parameters: {'C': 1.6227110538392988, 'penalty': 'l2'}.\n",
      "[I 2020-03-26 18:56:51,416] Finished trial#64 resulted in value: 0.8675461160471644. Current best value is 0.86891478930263 with parameters: {'C': 1.6227110538392988, 'penalty': 'l2'}.\n",
      "[I 2020-03-26 18:56:51,595] Finished trial#65 resulted in value: 0.8686991558794495. Current best value is 0.86891478930263 with parameters: {'C': 1.6227110538392988, 'penalty': 'l2'}.\n",
      "[I 2020-03-26 18:56:51,772] Finished trial#66 resulted in value: 0.86891478930263. Current best value is 0.86891478930263 with parameters: {'C': 1.6227110538392988, 'penalty': 'l2'}.\n",
      "[I 2020-03-26 18:56:51,943] Finished trial#67 resulted in value: 0.86849550209089. Current best value is 0.86891478930263 with parameters: {'C': 1.6227110538392988, 'penalty': 'l2'}.\n",
      "[I 2020-03-26 18:56:52,105] Finished trial#68 resulted in value: 0.8689117943939747. Current best value is 0.86891478930263 with parameters: {'C': 1.6227110538392988, 'penalty': 'l2'}.\n",
      "[I 2020-03-26 18:56:52,272] Finished trial#69 resulted in value: 0.8677518773640367. Current best value is 0.86891478930263 with parameters: {'C': 1.6227110538392988, 'penalty': 'l2'}.\n",
      "[I 2020-03-26 18:56:52,441] Finished trial#70 resulted in value: 0.86891478930263. Current best value is 0.86891478930263 with parameters: {'C': 1.6227110538392988, 'penalty': 'l2'}.\n",
      "[I 2020-03-26 18:56:52,603] Finished trial#71 resulted in value: 0.8680723325901523. Current best value is 0.86891478930263 with parameters: {'C': 1.6227110538392988, 'penalty': 'l2'}.\n",
      "[I 2020-03-26 18:56:52,784] Finished trial#72 resulted in value: 0.8687010970239483. Current best value is 0.86891478930263 with parameters: {'C': 1.6227110538392988, 'penalty': 'l2'}.\n",
      "[I 2020-03-26 18:56:52,941] Finished trial#73 resulted in value: 0.8688020365378856. Current best value is 0.86891478930263 with parameters: {'C': 1.6227110538392988, 'penalty': 'l2'}.\n",
      "[I 2020-03-26 18:56:53,145] Finished trial#74 resulted in value: 0.86891478930263. Current best value is 0.86891478930263 with parameters: {'C': 1.6227110538392988, 'penalty': 'l2'}.\n",
      "[I 2020-03-26 18:56:53,407] Finished trial#75 resulted in value: 0.86891478930263. Current best value is 0.86891478930263 with parameters: {'C': 1.6227110538392988, 'penalty': 'l2'}.\n",
      "[I 2020-03-26 18:56:53,598] Finished trial#76 resulted in value: 0.8681789291537718. Current best value is 0.86891478930263 with parameters: {'C': 1.6227110538392988, 'penalty': 'l2'}.\n",
      "[I 2020-03-26 18:56:53,746] Finished trial#77 resulted in value: 0.8687010970239483. Current best value is 0.86891478930263 with parameters: {'C': 1.6227110538392988, 'penalty': 'l2'}.\n",
      "[I 2020-03-26 18:56:53,903] Finished trial#78 resulted in value: 0.8676489967056005. Current best value is 0.86891478930263 with parameters: {'C': 1.6227110538392988, 'penalty': 'l2'}.\n",
      "[I 2020-03-26 18:56:54,161] Finished trial#79 resulted in value: 0.8681587967122558. Current best value is 0.86891478930263 with parameters: {'C': 1.6227110538392988, 'penalty': 'l2'}.\n",
      "[I 2020-03-26 18:56:54,321] Finished trial#80 resulted in value: 0.8686012112741673. Current best value is 0.86891478930263 with parameters: {'C': 1.6227110538392988, 'penalty': 'l2'}.\n",
      "[I 2020-03-26 18:56:54,457] Finished trial#81 resulted in value: 0.8675461160471644. Current best value is 0.86891478930263 with parameters: {'C': 1.6227110538392988, 'penalty': 'l2'}.\n",
      "[I 2020-03-26 18:56:54,613] Finished trial#82 resulted in value: 0.8689117943939747. Current best value is 0.86891478930263 with parameters: {'C': 1.6227110538392988, 'penalty': 'l2'}.\n",
      "[I 2020-03-26 18:56:54,750] Finished trial#83 resulted in value: 0.8677636906148438. Current best value is 0.86891478930263 with parameters: {'C': 1.6227110538392988, 'penalty': 'l2'}.\n",
      "[I 2020-03-26 18:56:54,977] Finished trial#84 resulted in value: 0.8681558018036005. Current best value is 0.86891478930263 with parameters: {'C': 1.6227110538392988, 'penalty': 'l2'}.\n",
      "[I 2020-03-26 18:56:55,125] Finished trial#85 resulted in value: 0.8686991558794495. Current best value is 0.86891478930263 with parameters: {'C': 1.6227110538392988, 'penalty': 'l2'}.\n",
      "[I 2020-03-26 18:56:55,291] Finished trial#86 resulted in value: 0.8678634099808104. Current best value is 0.86891478930263 with parameters: {'C': 1.6227110538392988, 'penalty': 'l2'}.\n",
      "[I 2020-03-26 18:56:55,454] Finished trial#87 resulted in value: 0.8680723325901523. Current best value is 0.86891478930263 with parameters: {'C': 1.6227110538392988, 'penalty': 'l2'}.\n"
     ]
    },
    {
     "name": "stderr",
     "output_type": "stream",
     "text": [
      "[I 2020-03-26 18:56:55,673] Finished trial#88 resulted in value: 0.8682595698423793. Current best value is 0.86891478930263 with parameters: {'C': 1.6227110538392988, 'penalty': 'l2'}.\n",
      "[I 2020-03-26 18:56:55,804] Finished trial#89 resulted in value: 0.8682837509567071. Current best value is 0.86891478930263 with parameters: {'C': 1.6227110538392988, 'penalty': 'l2'}.\n",
      "[I 2020-03-26 18:56:55,962] Finished trial#90 resulted in value: 0.8680753274988076. Current best value is 0.86891478930263 with parameters: {'C': 1.6227110538392988, 'penalty': 'l2'}.\n",
      "[I 2020-03-26 18:56:56,114] Finished trial#91 resulted in value: 0.86775559326922. Current best value is 0.86891478930263 with parameters: {'C': 1.6227110538392988, 'penalty': 'l2'}.\n",
      "[I 2020-03-26 18:56:56,261] Finished trial#92 resulted in value: 0.868600323893825. Current best value is 0.86891478930263 with parameters: {'C': 1.6227110538392988, 'penalty': 'l2'}.\n",
      "[I 2020-03-26 18:56:56,504] Finished trial#93 resulted in value: 0.8680490388561667. Current best value is 0.86891478930263 with parameters: {'C': 1.6227110538392988, 'penalty': 'l2'}.\n",
      "[I 2020-03-26 18:56:56,644] Finished trial#94 resulted in value: 0.8688059188268833. Current best value is 0.86891478930263 with parameters: {'C': 1.6227110538392988, 'penalty': 'l2'}.\n",
      "[I 2020-03-26 18:56:56,787] Finished trial#95 resulted in value: 0.8688069725910397. Current best value is 0.86891478930263 with parameters: {'C': 1.6227110538392988, 'penalty': 'l2'}.\n",
      "[I 2020-03-26 18:56:56,936] Finished trial#96 resulted in value: 0.8686972147349505. Current best value is 0.86891478930263 with parameters: {'C': 1.6227110538392988, 'penalty': 'l2'}.\n",
      "[I 2020-03-26 18:56:57,202] Finished trial#97 resulted in value: 0.8677366809756746. Current best value is 0.86891478930263 with parameters: {'C': 1.6227110538392988, 'penalty': 'l2'}.\n",
      "[I 2020-03-26 18:56:57,345] Finished trial#98 resulted in value: 0.8684963894712323. Current best value is 0.86891478930263 with parameters: {'C': 1.6227110538392988, 'penalty': 'l2'}.\n",
      "[I 2020-03-26 18:56:57,491] Finished trial#99 resulted in value: 0.8689117943939747. Current best value is 0.86891478930263 with parameters: {'C': 1.6227110538392988, 'penalty': 'l2'}.\n"
     ]
    }
   ],
   "source": [
    "study = optuna.create_study(direction='maximize')\n",
    "study.optimize(objective, n_trials=100)"
   ]
  },
  {
   "cell_type": "code",
   "execution_count": 80,
   "metadata": {},
   "outputs": [
    {
     "name": "stdout",
     "output_type": "stream",
     "text": [
      "{'C': 1.6227110538392988, 'penalty': 'l2'}\n",
      "0.86891478930263\n"
     ]
    }
   ],
   "source": [
    "print(study.best_params)\n",
    "print(study.best_value)"
   ]
  },
  {
   "cell_type": "code",
   "execution_count": 84,
   "metadata": {},
   "outputs": [],
   "source": [
    "train_X, train_y, test_X = get_mart(log=True, tgt=True, both=True)\n",
    "model = LogisticRegression(**study.best_params)\n",
    "model.fit(train_X, train_y)\n",
    "joblib.dump(model, \"../model/lr_111.pkl\")\n",
    "\n",
    "submit = test_X.copy()[[]]\n",
    "submit[\"pred\"] = model.predict_proba(test_X)[:,1]\n",
    "submit.to_csv(\"../data/submit/\"+\"lr_111.tsv\", sep=\"\\t\", header=None)\n",
    "# res: auc = 0.84839"
   ]
  },
  {
   "cell_type": "code",
   "execution_count": 60,
   "metadata": {},
   "outputs": [],
   "source": [
    "import matplotlib.pyplot as plt\n",
    "plt.style.use(\"seaborn-pastel\")"
   ]
  },
  {
   "cell_type": "code",
   "execution_count": 85,
   "metadata": {
    "scrolled": false
   },
   "outputs": [
    {
     "data": {
      "text/plain": [
       "<BarContainer object of 33 artists>"
      ]
     },
     "execution_count": 85,
     "metadata": {},
     "output_type": "execute_result"
    },
    {
     "data": {
      "image/png": "[encoded data removed]",
      "text/plain": [
       "<Figure size 720x1152 with 1 Axes>"
      ]
     },
     "metadata": {},
     "output_type": "display_data"
    }
   ],
   "source": [
    "plt.figure(figsize=(10,16))\n",
    "plt.barh(y=train_X.columns, width=model.coef_[0])"
   ]
  },
  {
   "cell_type": "markdown",
   "metadata": {},
   "source": [
    "##### チェックポイント1: Grid Searchでハイパーパラメーターを求めている\n",
    "##### チェックポイント2: 特徴量エンジニアリングを施したデータとそうでないデータなど、複数のデータで複数のモデルを生成している"
   ]
  }
 ],
 "metadata": {
  "hide_input": false,
  "kernelspec": {
   "display_name": "Python 3",
   "language": "python",
   "name": "python3"
  },
  "language_info": {
   "codemirror_mode": {
    "name": "ipython",
    "version": 3
   },
   "file_extension": ".py",
   "mimetype": "text/x-python",
   "name": "python",
   "nbconvert_exporter": "python",
   "pygments_lexer": "ipython3",
   "version": "3.6.5"
  },
  "toc": {
   "base_numbering": 1,
   "nav_menu": {},
   "number_sections": true,
   "sideBar": true,
   "skip_h1_title": false,
   "title_cell": "Table of Contents",
   "title_sidebar": "Contents",
   "toc_cell": false,
   "toc_position": {},
   "toc_section_display": true,
   "toc_window_display": false
  },
  "varInspector": {
   "cols": {
    "lenName": 16,
    "lenType": 16,
    "lenVar": 40
   },
   "kernels_config": {
    "python": {
     "delete_cmd_postfix": "",
     "delete_cmd_prefix": "del ",
     "library": "var_list.py",
     "varRefreshCmd": "print(var_dic_list())"
    },
    "r": {
     "delete_cmd_postfix": ") ",
     "delete_cmd_prefix": "rm(",
     "library": "var_list.r",
     "varRefreshCmd": "cat(var_dic_list()) "
    }
   },
   "types_to_exclude": [
    "module",
    "function",
    "builtin_function_or_method",
    "instance",
    "_Feature"
   ],
   "window_display": false
  }
 },
 "nbformat": 4,
 "nbformat_minor": 2
}
